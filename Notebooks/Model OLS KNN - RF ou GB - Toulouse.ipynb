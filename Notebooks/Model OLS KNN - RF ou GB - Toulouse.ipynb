{
 "cells": [
  {
   "cell_type": "code",
<<<<<<< HEAD
   "execution_count": 89,
   "id": "13522ab4",
=======
   "execution_count": null,
   "metadata": {},
   "outputs": [],
   "source": []
  },
  {
   "cell_type": "code",
   "execution_count": 3,
>>>>>>> Dev-Lyon
   "metadata": {},
   "outputs": [],
   "source": [
    "import pandas as pd\n",
    "import numpy as np\n",
<<<<<<< HEAD
    "from pandas_profiling import ProfileReport\n",
    "\n",
    "import datetime, warnings, scipy \n",
    "import seaborn as sns\n",
    "\n",
    "import matplotlib as mpl\n",
    "import matplotlib.pyplot as plt\n",
    "import matplotlib.pyplot as plt\n",
    "from matplotlib.pyplot import figure\n",
    "import matplotlib.patches as patches\n",
    "from matplotlib.patches import ConnectionPatch\n",
    "from collections import OrderedDict\n",
    "\n",
    "from matplotlib.gridspec import GridSpec\n",
    "import plotly.graph_objects as go\n",
    "from plotly.subplots import make_subplots\n",
=======
    "import matplotlib.pyplot as plt\n",
>>>>>>> Dev-Lyon
    "import plotly.express as px\n",
    "\n",
    "pd.set_option('display.max_columns', None)\n",
    "pd.options.mode.chained_assignment = None\n",
    "\n",
<<<<<<< HEAD
    "from mpl_toolkits.basemap import Basemap\n",
    "\n",
    "import warnings\n",
    "warnings.filterwarnings(action='once')\n",
    "from geopandas import points_from_xy\n",
    "import geopandas as gdp\n",
    "\n",
=======
>>>>>>> Dev-Lyon
    "\n",
    "    # OLS\n",
    "import statsmodels.api as sm\n",
    "    # ML Models\n",
    "from sklearn.neighbors import KNeighborsRegressor\n",
    "from sklearn.ensemble import RandomForestRegressor, GradientBoostingRegressor\n",
    "\n",
    "    # Pipeline & Preprocess\n",
    "from sklearn.pipeline import Pipeline\n",
    "from sklearn.preprocessing import MaxAbsScaler, StandardScaler, MinMaxScaler\n",
    "from sklearn.model_selection import train_test_split, GridSearchCV\n",
    "\n",
    "    # Scores\n",
    "from sklearn.metrics import balanced_accuracy_score, make_scorer, f1_score\n",
    "from sklearn.metrics import roc_auc_score\n",
    "from sklearn.metrics import accuracy_score\n",
    "from sklearn.metrics import mean_absolute_error , r2_score\n",
    "from sklearn.metrics import mean_absolute_percentage_error"
   ]
  },
  {
<<<<<<< HEAD
   "cell_type": "code",
   "execution_count": 90,
   "id": "6dd722fc",
   "metadata": {},
   "outputs": [],
   "source": [
    "\n",
    "# ---------------   OLS    --------------------\n",
    "\n",
    "def model_OLS_prix(data, outcome, features, summary = True) : \n",
    "    X = data[features]\n",
    "    Y = data[outcome]\n",
    "\n",
    "    X = sm.add_constant(X)\n",
    "\n",
    "    model = sm.OLS(Y, X).fit()\n",
    "    \n",
    "    if summary : \n",
    "        print(model.summary())\n",
    "    \n",
    "    return(model)\n",
    "\n",
    "def indice_prix_quarter(model_ols_prix, plot = True) : \n",
    "    indices = model_ols_prix.params[:15]\n",
    "    indices = indices[0] + indices\n",
    "    indices[0] = indices[0]/2\n",
    "    index = indices.index[1:].insert(0, 'quarter_2017_Q3')\n",
    "    indices.index = index\n",
    "    indices\n",
    "\n",
    "    indices_plot = indices.copy()\n",
    "    indices_plot.index = indices_plot.index.str[8:12]+'-'+indices_plot.index.str[13:]\n",
    "    indices_plot.index = pd.to_datetime(indices_plot.index)\n",
    "    indices.index = indices.index.str[8:12]+'_'+indices.index.str[13:]\n",
    "    \n",
    "    if plot : \n",
    "        indices_plot.plot()\n",
    "    \n",
    "    return(indices)\n",
    "\n",
    "def add_indice_prix(data_train, indices) :\n",
    "    # Growth\n",
    "    growth = indices.pct_change()\n",
    "    growth[0] = 0\n",
    "    \n",
    "    growth_cum = growth.copy()\n",
    "    growth_cum[1] = 1+growth_cum[1]\n",
    "    for i in range(1,len(growth)-1) : \n",
    "        growth_cum[i+1] = (growth_cum[i])*(1+growth[i+1])\n",
    "    growth_cum[0] = 1\n",
    "    \n",
    "    df_growth = pd.DataFrame(growth_cum).reset_index()\n",
    "    df_growth.columns  = ['quarter', 'pct_change']\n",
    "    \n",
    "    df_growth['pct_change_toQ1_2021'] = df_growth.iloc[14,1]-df_growth['pct_change']\n",
    "    \n",
    "    # Merge with data\n",
    "    data = data_train.copy()\n",
    "    data = data.merge(df_growth, on = 'quarter', how = 'left')\n",
    "    data['Prix_m2_actualise_Q1_2021'] = data['Prix_m2']*(1+data['pct_change_toQ1_2021'])\n",
    "    \n",
    "    return(data)\n",
    "\n",
    "# -------------    KNN   ------------------ #\n",
    "\n",
    "def model_KNN_coordinates(df_train, df_test, features,\n",
    "                          label_train, label_test,\n",
    "                          standardization, type_weights, max_nn, nb_cv) :\n",
    "        # X datasets\n",
    "    X_train_knn = df_train[features]\n",
    "    X_test_knn = df_test[features]\n",
    "        # outcomes\n",
    "    y_train = df_train[label_train]\n",
    "    y_test = df_test[label_test]\n",
    "\n",
    "        # pipeline for the model\n",
    "    pipe = Pipeline([('scaler', standardization), ('Knn', KNeighborsRegressor(weights=type_weights))])\n",
    "    parameters = {'Knn__n_neighbors': range(1, max_nn, 2)} \n",
    "    knn_pipe = GridSearchCV(pipe, parameters, cv=nb_cv)\n",
    "    knn_pipe.fit(X_train_knn, y_train)\n",
    "\n",
    "    print('Returned hyperparameter: {}'.format(knn_pipe.best_params_))\n",
    "\n",
    "    return(knn_pipe)\n",
    "\n",
    "def model_RF_post_KNN(df_test, df_train, features_RF, features_KNN, label_train, label_test,\n",
    "                      model_knn, standardisation, range_depth, nb_cv) :\n",
    "    X_train_rf = df_train[features_RF]\n",
    "    X_train_rf['y_pred_knn'] = model_knn.predict(df_train[features_KNN])\n",
    "    X_test_rf = df_test[features_RF]\n",
    "    X_test_rf['y_pred_knn'] = model_knn.predict(df_test[features_KNN])\n",
    "        # outcomes\n",
    "    y_train = df_train[label_train]\n",
    "    y_test = df_test[label_test]\n",
    "\n",
    "        # Model\n",
    "    pipe = Pipeline([('scaler', standardisation), ('RForest', RandomForestRegressor())])\n",
    "    parameters = {'RForest__max_depth': range_depth} # defining parameter space\n",
    "    rforest_pipe = GridSearchCV(pipe, parameters, cv=nb_cv)\n",
    "    rforest_pipe.fit(X_train_rf, y_train)\n",
    "\n",
    "    return(rforest_pipe)\n",
    "\n",
    "\n",
    "def features_importances(model_importances, X_train_model) :\n",
    "    #X_train_model = df_train[features_model]\n",
    "    indices = np.argsort(model_importances)[::-1]\n",
    "    columns = X_train_model.columns\n",
    "    # plot\n",
    "    nb_features = X_train_model.shape[1]\n",
    "    plt.figure(figsize=(15, 8))\n",
    "    plt.title(\"Feature importances\")\n",
    "    plt.barh(\n",
    "        range(nb_features),\n",
    "        model_importances[indices],\n",
    "        color='b')\n",
    "    plt.yticks(range(nb_features), columns[indices], rotation='horizontal', size=10)\n",
    "    plt.show()\n",
    "    \n",
    "   \n",
    "\n",
    "# -------------   SCORES   ---------------- #\n",
    "\n",
    "def MAPE(Y_actual, Y_Predicted):\n",
    "    mape = np.mean(np.abs((Y_actual - Y_Predicted)/Y_actual))*100\n",
    "    return mape\n",
    "\n",
    "def MDAPE(Y_actual, Y_Predicted):\n",
    "    mdape = np.median(np.abs((Y_actual - Y_Predicted)/Y_actual))*100\n",
    "    return mdape\n",
    "\n",
    "def compute_scores(model, X_test, y_test) :\n",
    "    y_pred = model.predict(X_test)\n",
    "\n",
    "    mape = MAPE(y_test, y_pred)\n",
    "    mdape = MDAPE(y_test, y_pred)\n",
    "    \n",
    "    print(\"MAPE: \", mape)\n",
    "    print(\"MDAPE: \", mdape)\n"
=======
   "cell_type": "markdown",
   "metadata": {},
   "source": [
    "#### Run Helpers"
>>>>>>> Dev-Lyon
   ]
  },
  {
   "cell_type": "code",
<<<<<<< HEAD
   "execution_count": 91,
   "id": "41dcc435",
   "metadata": {},
   "outputs": [
    {
     "name": "stderr",
     "output_type": "stream",
     "text": [
      "<>:51: DeprecationWarning: invalid escape sequence \\i\n"
     ]
    }
   ],
   "source": [
    "import pandas as pd\n",
    "import numpy as np\n",
    "import datetime, warnings, scipy \n",
    "from sklearn.preprocessing import StandardScaler\n",
    "from statsmodels.stats.outliers_influence import variance_inflation_factor\n",
    "\n",
    "def Process_data(data, quantile_low, quantile_high):    \n",
    "    \n",
    "    #we remove the extreme 5 % values of price per meter_square\n",
    "    Threshold_up = data.groupby(['iris_code','quarter'])['Prix_m2'].quantile(quantile_high).reset_index()\n",
    "    Threshold_down = data.groupby(['iris_code','quarter'])['Prix_m2'].quantile(quantile_low).reset_index()\n",
    "\n",
    "    df_comune ={'iris_code':Threshold_up['iris_code'], 'Threshold_up_iris': Threshold_up['Prix_m2'] , \n",
    "            'Threshold_down_iris':Threshold_down['Prix_m2'] , 'quarter': Threshold_down['quarter']}\n",
    "    df_comune = pd.DataFrame(df_comune)\n",
    "\n",
    "    df_process = pd.merge(data, df_comune ,how='inner', on=['iris_code','quarter'])\n",
    "\n",
    "    df_final = df_process[(df_process['Prix_m2'] < df_process['Threshold_up_iris']) \n",
    "                      & (df_process['Prix_m2'] > df_process['Threshold_down_iris'])]\n",
    "    \n",
    "    df_final=df_final.drop(['Threshold_up_iris','Threshold_down_iris'],axis = 1)\n",
    "    \n",
    "    return df_final\n",
    "\n",
    "def Process_data_2(data):    \n",
    "    \n",
    "    #we remove the extreme 5 % values of price per meter_square\n",
    "    data['Threshold_up'] = data['Pris_m2_moy_iris'] + data['std']\n",
    "    data['Threshold_down'] = data['Pris_m2_moy_iris'] - data['std']\n",
    "\n",
    "\n",
    "    df_final = data[(data['Prix_m2'] < data['Threshold_up']) \n",
    "                      & (data['Prix_m2'] > data['Threshold_down'])]\n",
    "    \n",
    "    df_final=df_final.drop(['Threshold_up','Threshold_down'],axis = 1)\n",
    "    \n",
    "    return df_final\n",
    "\n",
    "\n",
    "# Mettre les variables de la liste_var en log dans le dataframe data\n",
    "def log_var(data, liste_vars) : \n",
    "    for variable in liste_vars :\n",
    "        new_variable = variable + '_log'\n",
    "        data[new_variable] = np.log(data[variable])\n",
    "        \n",
    "    \n",
    "\n",
    "# Filtre pour garder les données pertinentes pour le modèle\n",
    "def filtre_data_pour_model(data, ville, type_local, quantile_low = None, quantile_high = None) :\n",
    "    '''\n",
    "    data : DataFrame (celui a nettoyer)\n",
    "    ville : str ('Paris', 'Lyon', ...)\n",
    "    type_local : int (1 : Maison / 2 : Appartement)\n",
    "    quantile_low : int (\\in [0, 1])\n",
    "    quantile_high : int (\\in [0, 1])\n",
    "    output : DataFrame (nettoyé)\n",
    "    '''\n",
    "    data_model = data.copy()\n",
    "    \n",
    "    \n",
    "    if quantile_low :\n",
    "        min_prix = np.quantile(data.Prix_m2, quantile_low)\n",
    "        data_model = data_model[data_model.Prix_m2 > min_prix]\n",
    "    if quantile_high :\n",
    "        max_prix = np.quantile(data.Prix_m2, quantile_high)\n",
    "        data_model = data_model[data_model.Prix_m2 < max_prix]\n",
    "        \n",
    "    data_model = data_model[(data_model['bv2012_name'] == \"['\" + ville + \"']\")\n",
    "                     & (data_model.code_type_local == type_local)]\n",
    "    \n",
    "    return(data_model)\n",
    "\n",
    "\n",
    "def filter_quantile(data, var, quantile_low, quantile_high) :\n",
    "    '''\n",
    "    data : DataFrame (celui a nettoyer)\n",
    "    ville : str ('Paris', 'Lyon', ...)\n",
    "    type_local : int (1 : Maison / 2 : Appartement)\n",
    "    quantile_low : int (\\in [0, 1])\n",
    "    quantile_high : int (\\in [0, 1])\n",
    "    output : DataFrame (nettoyé)\n",
    "    '''\n",
    "    data_model = data.copy()\n",
    "    \n",
    "    if quantile_low :\n",
    "        min_prix = np.quantile(data[var], quantile_low)\n",
    "        data_model = data_model[data_model[var] > min_prix]\n",
    "    if quantile_high :\n",
    "        max_prix = np.quantile(data[var], quantile_high)\n",
    "        data_model = data_model[data_model[var] < max_prix]\n",
    "    \n",
    "    return(data_model)\n",
    "\n",
    "\n",
    "# Premier split temporel avec toutes la bases de données,\n",
    "# Les 20 derniers pourcent de la base sont dans l'éch de test\n",
    "# Le reste sert d'apprentissage\n",
    "def split_temporel_V1(data, liste_features, output) :\n",
    "    '''\n",
    "    data : DataFrame (sur lequel on veut faire le split\n",
    "    liste_features : list (des variables explicatives)\n",
    "    output : str\n",
    "    output : 4 DataFrame (X_train, X_test, y_train, y_test)\n",
    "    '''\n",
    "    # Trier la base par date\n",
    "    data = data.sort_values('date_mutation')\n",
    "\n",
    "    # Choix les variables du modèles\n",
    "    X = data[liste_features]\n",
    "    y = data[output]\n",
    "    \n",
    "    # Shuffle = False pour garder les dernières obs en test\n",
    "    X_train, X_test, y_train, y_test = train_test_split(X, y, test_size=0.20, shuffle=False)\n",
    "    return(X_train, X_test, y_train, y_test)\n",
    "\n",
    "    \n",
    "#Split le dataset entre appartements et maisons\n",
    "def split_appart_maison(data): \n",
    "    df_maison = data[data['code_type_local']==1]\n",
    "    df_appart = data[data['code_type_local']==2]\n",
    "    print(f\"Nombre de maisons : {df_maison.shape[0]}\")\n",
    "    print(f\"Nombre d'apparts : {df_appart.shape[0]}\")\n",
    "    return(df_maison, df_appart)\n",
    "\n",
    "\n",
    "def zTransform (data, liste_vars, prix) : \n",
    "    scaler = StandardScaler()\n",
    "    liste_vars.append(prix)\n",
    "    scaler.fit(data[liste_vars])\n",
    "    print(scaler.mean_)\n",
    "    data[liste_vars] = scaler.transform(data[liste_vars])\n",
    "    \n",
    "\n",
    "def nb_iris (data, path, dep_code):\n",
    "    IRIS = pd.read_excel(path, header = 5)[['CODE_IRIS', 'DEP']]\n",
    "    IRIS_ville = IRIS[IRIS[\"DEP\"] == dep_code]\n",
    "    IRIS_ville = IRIS_ville['CODE_IRIS'].tolist()\n",
    "    iris_df = data['iris_code'].unique().tolist()\n",
    "\n",
    "    list_dif = [i for i in IRIS_ville + iris_df if i in IRIS_ville and i not in iris_df]\n",
    "    print(f\"Length of all Paris IRIS : {len(IRIS_ville)}\")\n",
    "    print(f\"Length of IRIS in DF : {len(iris_df)}\")\n",
    "    print(f\"Number of IRIS not in DF : {len(list_dif)}\")\n",
    "    \n",
    "\n",
    "# Ajouter des indicatrices si la variable continue dépasse un seuil\n",
    "def dummies_pr_var_continues(data, var, seuil) :\n",
    "    '''\n",
    "    data : DataFrame\n",
    "    var : str\n",
    "    seuil : int / float\n",
    "    output : None\n",
    "    '''\n",
    "    var_dummy = var + '_dummy'\n",
    "    data[var_dummy] = 0\n",
    "    data.loc[data[var] > seuil, var_dummy] = 1\n",
    "    \n",
    "    \n",
    "def filling_factor(data) : \n",
    "    '''\n",
    "    Output : Table des pourcentages de remplissage des variables\n",
    "    '''\n",
    "    missing_df = data.isnull().sum(axis=0).reset_index()\n",
    "    missing_df.columns = ['variable', 'missing values']\n",
    "    missing_df['filling factor (%)']=(data.shape[0]-missing_df['missing values'])/data.shape[0]*100\n",
    "    missing_df.sort_values('filling factor (%)').reset_index(drop = True)\n",
    "    return(missing_df)\n",
    "\n",
    "\n",
    "def calc_vif(X):\n",
    "    '''\n",
    "    Output : Table des VIF des variables\n",
    "    '''\n",
    "    vif = pd.DataFrame()\n",
    "    vif[\"variables\"] = X.columns\n",
    "    vif[\"VIF\"] = [variance_inflation_factor(X.values, i) \n",
    "    for i in range(X.shape[1])]\n",
    "    return(vif)\n"
   ]
  },
  {
   "cell_type": "markdown",
   "id": "6326fe75",
=======
   "execution_count": 2,
   "metadata": {},
   "outputs": [],
   "source": [
    "%run '../Helpers/Data_Process.py'\n",
    "%run '../Helpers/Models.py'\n",
    "%run '../Helpers/Data_visualisation.py'"
   ]
  },
  {
   "cell_type": "code",
   "execution_count": null,
   "metadata": {},
   "outputs": [],
   "source": []
  },
  {
   "cell_type": "markdown",
>>>>>>> Dev-Lyon
   "metadata": {},
   "source": [
    "### Data"
   ]
  },
  {
   "cell_type": "code",
<<<<<<< HEAD
   "execution_count": 158,
   "id": "7d21e6f0",
   "metadata": {},
   "outputs": [],
   "source": [
    "df = pd.read_csv('./df_Toulouse_appartement_vf.csv',low_memory=False)"
=======
   "execution_count": 5,
   "metadata": {},
   "outputs": [],
   "source": [
    "df = pd.read_csv('../Data/df_Toulouse_appartement_vf.csv',low_memory=False)"
>>>>>>> Dev-Lyon
   ]
  },
  {
   "cell_type": "code",
<<<<<<< HEAD
   "execution_count": 159,
   "id": "c0463fa7",
   "metadata": {},
   "outputs": [],
   "source": [
    "dfm = pd.read_csv('./df_Toulouse_maison_vf.csv',low_memory=False)"
=======
   "execution_count": 6,
   "metadata": {},
   "outputs": [],
   "source": [
    "dfm = pd.read_csv('../Data/df_Toulouse_maison_vf.csv',low_memory=False)"
>>>>>>> Dev-Lyon
   ]
  },
  {
   "cell_type": "code",
<<<<<<< HEAD
   "execution_count": 160,
   "id": "4551ba91",
=======
   "execution_count": 7,
>>>>>>> Dev-Lyon
   "metadata": {},
   "outputs": [],
   "source": [
    "list_dist_metro_dummies = []\n",
    "for i in range(0,df.shape[0]):\n",
    "    if df['dist_metro'].iloc[i] <= 200 :\n",
    "        a = 0\n",
    "    elif (df['dist_metro'].iloc[i] <= 500) & (df['dist_metro'].iloc[i] > 200) :\n",
    "        a = 1\n",
    "    elif (df['dist_metro'].iloc[i] > 500) & (df['dist_metro'].iloc[i] <= 1000) :\n",
    "        a = 2\n",
    "    else:\n",
    "        a = 3\n",
    "    list_dist_metro_dummies.append(a)\n",
    "df['dist_metro_dummies'] = list_dist_metro_dummies"
   ]
  },
  {
   "cell_type": "markdown",
<<<<<<< HEAD
   "id": "88f23e40",
=======
>>>>>>> Dev-Lyon
   "metadata": {},
   "source": [
    "### OLS"
   ]
  },
  {
   "cell_type": "code",
<<<<<<< HEAD
   "execution_count": 162,
   "id": "03f7bf42",
=======
   "execution_count": 8,
>>>>>>> Dev-Lyon
   "metadata": {},
   "outputs": [],
   "source": [
    "#dummies_pr_var_continues(df, 'dist_metro', 200)\n",
    "dummies_pr_var_continues(df, 'Nombre_dependance', 0)\n",
    "dummies_pr_var_continues(df, 'Ec_maternelle', 0)\n",
    "dummies_pr_var_continues(df, 'Ec_elementaire', 0)"
   ]
  },
  {
   "cell_type": "code",
<<<<<<< HEAD
   "execution_count": 164,
   "id": "d466b5cb",
=======
   "execution_count": 9,
>>>>>>> Dev-Lyon
   "metadata": {},
   "outputs": [],
   "source": [
    "df_train = df[df['date_mutation'] < '2021-04-01']\n",
    "df_test = df[df['date_mutation'] >= '2021-04-01']"
   ]
  },
  {
   "cell_type": "code",
<<<<<<< HEAD
   "execution_count": 165,
   "id": "9ea4c0e9",
=======
   "execution_count": 10,
>>>>>>> Dev-Lyon
   "metadata": {},
   "outputs": [],
   "source": [
    "df_train = pd.concat([df_train, pd.get_dummies(df_train[['quarter']])], axis = 1)"
   ]
  },
  {
   "cell_type": "code",
<<<<<<< HEAD
   "execution_count": 166,
   "id": "b6bfb41a",
=======
   "execution_count": 11,
>>>>>>> Dev-Lyon
   "metadata": {},
   "outputs": [],
   "source": [
    "df_train['n_pieces_BienStandard'] = df_train['nombre_pieces_principales']-3\n",
    "df_train['n_dependances_BienStandard'] = df_train['Nombre_dependance']"
   ]
  },
  {
   "cell_type": "code",
<<<<<<< HEAD
   "execution_count": 167,
   "id": "8dc141da",
=======
   "execution_count": 12,
>>>>>>> Dev-Lyon
   "metadata": {},
   "outputs": [],
   "source": [
    "features_ols = ['quarter_2017_Q4', 'quarter_2018_Q1', 'quarter_2018_Q2', 'quarter_2018_Q3',\n",
    "'quarter_2018_Q4', 'quarter_2019_Q1', 'quarter_2019_Q2',\n",
    "'quarter_2019_Q3', 'quarter_2019_Q4', 'quarter_2020_Q1','quarter_2020_Q2', \n",
    "'quarter_2020_Q3', 'quarter_2020_Q4','quarter_2021_Q1',\n",
    "'n_pieces_BienStandard', 'n_dependances_BienStandard']\n",
    "outcome = 'Prix_m2'"
   ]
  },
  {
   "cell_type": "code",
<<<<<<< HEAD
   "execution_count": 168,
   "id": "c591fa2f",
=======
   "execution_count": 13,
>>>>>>> Dev-Lyon
   "metadata": {},
   "outputs": [
    {
     "name": "stdout",
     "output_type": "stream",
     "text": [
      "                            OLS Regression Results                            \n",
      "==============================================================================\n",
      "Dep. Variable:                Prix_m2   R-squared:                       0.104\n",
      "Model:                            OLS   Adj. R-squared:                  0.103\n",
      "Method:                 Least Squares   F-statistic:                     142.4\n",
<<<<<<< HEAD
      "Date:                Thu, 30 Mar 2023   Prob (F-statistic):               0.00\n",
      "Time:                        19:33:56   Log-Likelihood:            -1.6238e+05\n",
=======
      "Date:                Sun, 02 Apr 2023   Prob (F-statistic):               0.00\n",
      "Time:                        21:17:17   Log-Likelihood:            -1.6238e+05\n",
>>>>>>> Dev-Lyon
      "No. Observations:               19709   AIC:                         3.248e+05\n",
      "Df Residuals:                   19692   BIC:                         3.249e+05\n",
      "Df Model:                          16                                         \n",
      "Covariance Type:            nonrobust                                         \n",
      "==============================================================================================\n",
      "                                 coef    std err          t      P>|t|      [0.025      0.975]\n",
      "----------------------------------------------------------------------------------------------\n",
      "const                       2961.5797     26.312    112.555      0.000    2910.005    3013.154\n",
      "quarter_2017_Q4                5.0968     36.216      0.141      0.888     -65.890      76.084\n",
      "quarter_2018_Q1               20.9137     36.811      0.568      0.570     -51.240      93.067\n",
      "quarter_2018_Q2               78.2727     36.838      2.125      0.034       6.067     150.478\n",
      "quarter_2018_Q3              133.2600     34.861      3.823      0.000      64.930     201.590\n",
      "quarter_2018_Q4              168.8167     35.336      4.778      0.000      99.556     238.077\n",
      "quarter_2019_Q1              171.6317     35.693      4.809      0.000     101.671     241.592\n",
      "quarter_2019_Q2              137.5225     35.165      3.911      0.000      68.596     206.449\n",
      "quarter_2019_Q3              261.9251     34.259      7.645      0.000     194.774     329.076\n",
      "quarter_2019_Q4              278.1257     34.143      8.146      0.000     211.202     345.049\n",
      "quarter_2020_Q1              353.3681     35.432      9.973      0.000     283.918     422.819\n",
      "quarter_2020_Q2              534.8764     36.009     14.854      0.000     464.296     605.457\n",
      "quarter_2020_Q3              589.0713     35.941     16.390      0.000     518.624     659.519\n",
      "quarter_2020_Q4              559.8235     34.607     16.177      0.000     491.992     627.655\n",
      "quarter_2021_Q1              507.5567     36.246     14.003      0.000     436.511     578.602\n",
      "n_pieces_BienStandard       -152.3170      6.082    -25.044      0.000    -164.238    -140.396\n",
      "n_dependances_BienStandard  -238.5607      9.837    -24.250      0.000    -257.843    -219.278\n",
      "==============================================================================\n",
      "Omnibus:                     1169.508   Durbin-Watson:                   0.651\n",
      "Prob(Omnibus):                  0.000   Jarque-Bera (JB):             1468.433\n",
      "Skew:                           0.581   Prob(JB):                         0.00\n",
      "Kurtosis:                       3.662   Cond. No.                         22.6\n",
      "==============================================================================\n",
      "\n",
      "Notes:\n",
      "[1] Standard Errors assume that the covariance matrix of the errors is correctly specified.\n"
     ]
    }
   ],
   "source": [
    "model = model_OLS_prix(df_train, 'Prix_m2', features_ols, summary = True)"
   ]
  },
  {
   "cell_type": "code",
<<<<<<< HEAD
   "execution_count": 169,
   "id": "68d462ba",
=======
   "execution_count": 14,
>>>>>>> Dev-Lyon
   "metadata": {},
   "outputs": [
    {
     "data": {
<<<<<<< HEAD
      "image/png": "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\n",
=======
      "image/png": "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\n",
>>>>>>> Dev-Lyon
      "text/plain": [
       "<Figure size 432x288 with 1 Axes>"
      ]
     },
     "metadata": {
      "needs_background": "light"
     },
     "output_type": "display_data"
    }
   ],
   "source": [
    "df_train = add_indice_prix(df_train, indice_prix_quarter(model, plot = True))"
   ]
  },
  {
   "cell_type": "markdown",
<<<<<<< HEAD
   "id": "1ec3764f",
=======
>>>>>>> Dev-Lyon
   "metadata": {},
   "source": [
    "### KNN"
   ]
  },
  {
   "cell_type": "code",
<<<<<<< HEAD
   "execution_count": 170,
   "id": "2dc28720",
=======
   "execution_count": 15,
>>>>>>> Dev-Lyon
   "metadata": {},
   "outputs": [],
   "source": [
    "    # Dependant variables : cooridnates\n",
    "features_knn = ['latitude', 'longitude']\n",
    "    # Output\n",
    "label_train = 'Prix_m2_actualise_Q1_2021'\n",
    "label_test = 'Prix_m2'"
   ]
  },
  {
   "cell_type": "code",
<<<<<<< HEAD
   "execution_count": 171,
   "id": "796d85b1",
=======
   "execution_count": 16,
>>>>>>> Dev-Lyon
   "metadata": {},
   "outputs": [
    {
     "name": "stdout",
     "output_type": "stream",
     "text": [
      "Returned hyperparameter: {'Knn__n_neighbors': 23}\n"
     ]
    }
   ],
   "source": [
    "knn_pipe = model_KNN_coordinates(df_train, df_test, features_knn,\n",
    "                          label_train, label_test,\n",
    "                          MinMaxScaler(), 'uniform', 25, 5)"
   ]
  },
  {
   "cell_type": "code",
<<<<<<< HEAD
   "execution_count": 172,
   "id": "5f1b9aed",
=======
   "execution_count": 17,
>>>>>>> Dev-Lyon
   "metadata": {},
   "outputs": [
    {
     "name": "stdout",
     "output_type": "stream",
     "text": [
<<<<<<< HEAD
      "MAPE:  11.593018937862725\n",
      "MDAPE:  9.174631173729322\n"
=======
      "MAPE:  11.589403301592382\n",
      "MDAPE:  9.145257573447289\n"
>>>>>>> Dev-Lyon
     ]
    }
   ],
   "source": [
    "    # Scores on TRAIN dataset\n",
    "compute_scores(knn_pipe, df_train[features_knn], df_train[label_train])"
   ]
  },
  {
   "cell_type": "code",
<<<<<<< HEAD
   "execution_count": 173,
   "id": "fb95727d",
=======
   "execution_count": 18,
>>>>>>> Dev-Lyon
   "metadata": {},
   "outputs": [
    {
     "name": "stdout",
     "output_type": "stream",
     "text": [
<<<<<<< HEAD
      "MAPE:  12.101562365803579\n",
      "MDAPE:  10.247081918815429\n"
=======
      "MAPE:  12.08485738488736\n",
      "MDAPE:  10.242775367593355\n"
>>>>>>> Dev-Lyon
     ]
    }
   ],
   "source": [
    "    # Scores on TEST dataset\n",
    "compute_scores(knn_pipe, df_test[features_knn], df_test[label_test])"
   ]
  },
  {
   "cell_type": "markdown",
<<<<<<< HEAD
   "id": "763aae19",
=======
>>>>>>> Dev-Lyon
   "metadata": {},
   "source": [
    "### RF"
   ]
  },
  {
   "cell_type": "code",
<<<<<<< HEAD
   "execution_count": 273,
   "id": "64b5e510",
=======
   "execution_count": 19,
>>>>>>> Dev-Lyon
   "metadata": {},
   "outputs": [],
   "source": [
    "features_RF = [#'Nombre_dependance', \n",
    "               'Nombre_dependance', 'dist_metro',\n",
    "               #'dist_metro', \n",
    "               'nombre_pieces_principales',\n",
    "               #'Ec_elementaire', 'Ec_maternelle',\n",
    "               'Ec_elementaire', 'Ec_maternelle',\n",
    "               'N_apparts', \n",
    "               'DISP_MED19', \n",
    "               'Part_chomeurs', \n",
    "               #'P19_LOG','P19_RP_SDB','P19_RP_CCCOLL',\n",
    "               #'P19_RP_CCIND','P19_RP_CINDELEC'\n",
    "]"
   ]
  },
  {
   "cell_type": "code",
<<<<<<< HEAD
   "execution_count": 274,
   "id": "156e803e",
=======
   "execution_count": 20,
>>>>>>> Dev-Lyon
   "metadata": {},
   "outputs": [],
   "source": [
    "RF_model = model_RF_post_KNN(df_test, df_train, features_RF, features_knn, label_train, label_test,\n",
    "                      model_knn = knn_pipe, standardisation = StandardScaler(), range_depth = [1, 1000], nb_cv = 5)"
   ]
  },
  {
   "cell_type": "code",
<<<<<<< HEAD
   "execution_count": 275,
   "id": "4e4073aa",
=======
   "execution_count": 21,
>>>>>>> Dev-Lyon
   "metadata": {},
   "outputs": [
    {
     "name": "stdout",
     "output_type": "stream",
     "text": [
<<<<<<< HEAD
      "MAPE:  11.748786182123853\n",
      "MDAPE:  9.826000319464448\n"
=======
      "MAPE:  11.817103687804734\n",
      "MDAPE:  9.815316206206123\n"
>>>>>>> Dev-Lyon
     ]
    }
   ],
   "source": [
    "X_train_rf = df_train[features_RF]\n",
    "X_train_rf['y_pred_knn'] = knn_pipe.predict(df_train[features_knn])\n",
    "X_test_rf = df_test[features_RF]\n",
    "X_test_rf['y_pred_knn'] = knn_pipe.predict(df_test[features_knn])\n",
    "compute_scores(RF_model, X_test_rf, df_test[label_test])"
   ]
  },
  {
   "cell_type": "code",
<<<<<<< HEAD
   "execution_count": 276,
   "id": "4eab9816",
=======
   "execution_count": 22,
>>>>>>> Dev-Lyon
   "metadata": {},
   "outputs": [
    {
     "data": {
<<<<<<< HEAD
      "image/png": "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\n",
=======
      "image/png": "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\n",
>>>>>>> Dev-Lyon
      "text/plain": [
       "<Figure size 1080x576 with 1 Axes>"
      ]
     },
     "metadata": {
      "needs_background": "light"
     },
     "output_type": "display_data"
    }
   ],
   "source": [
    "RF_importances = RF_model.best_estimator_.named_steps[\"RForest\"].feature_importances_\n",
    "features_importances(RF_importances, X_train_rf)"
   ]
  },
  {
   "cell_type": "code",
<<<<<<< HEAD
   "execution_count": 124,
   "id": "7748af20",
=======
   "execution_count": 23,
>>>>>>> Dev-Lyon
   "metadata": {},
   "outputs": [
    {
     "name": "stdout",
     "output_type": "stream",
     "text": [
<<<<<<< HEAD
      "MAPE:  11.783811368110262\n",
      "MDAPE:  9.895061662740455\n"
=======
      "MAPE:  11.790295957018673\n",
      "MDAPE:  9.904328389301787\n"
>>>>>>> Dev-Lyon
     ]
    }
   ],
   "source": [
    "pipe = Pipeline([('scaler', StandardScaler()), ('GBoost', GradientBoostingRegressor())])\n",
    "parameters = {'GBoost__n_estimators': [50, 100, 150, 250, 500]} # defining parameter space\n",
    "gboost_pipe = GridSearchCV(pipe, parameters, cv=5)\n",
    "gboost_pipe.fit(X_train_rf, df_train[label_train])\n",
    "\n",
    "compute_scores(gboost_pipe, X_test_rf, df_test[label_test])"
   ]
  },
  {
   "cell_type": "markdown",
<<<<<<< HEAD
   "id": "e76e1ab8",
=======
>>>>>>> Dev-Lyon
   "metadata": {},
   "source": [
    "### Maison"
   ]
  },
  {
   "cell_type": "markdown",
<<<<<<< HEAD
   "id": "1b30ee1a",
=======
>>>>>>> Dev-Lyon
   "metadata": {},
   "source": [
    "### OLS"
   ]
  },
  {
   "cell_type": "code",
<<<<<<< HEAD
   "execution_count": 200,
   "id": "317901cd",
=======
   "execution_count": 24,
>>>>>>> Dev-Lyon
   "metadata": {},
   "outputs": [],
   "source": [
    "#dummies_pr_var_continues(dfm, 'dist_metro', 0.01)\n",
    "dummies_pr_var_continues(dfm, 'Nombre_dependance', 0)\n",
    "dummies_pr_var_continues(dfm, 'Ec_maternelle', 0)\n",
    "dummies_pr_var_continues(dfm, 'Ec_elementaire', 0)\n",
    "\n",
    "df_train_m = dfm[dfm['date_mutation'] < '2021-04-01']\n",
    "df_test_m = dfm[dfm['date_mutation'] >= '2021-04-01']\n",
    "\n",
    "df_train_m = pd.concat([df_train_m, pd.get_dummies(df_train_m[['quarter']])], axis = 1)\n",
    "df_train_m['n_pieces_BienStandard'] = df_train_m['nombre_pieces_principales']- 4 #4c'est le nombre le plus frequent\n",
    "df_train_m['n_dependances_BienStandard'] = df_train_m['Nombre_dependance']\n",
    "\n",
    "features_ols = ['quarter_2017_Q4', 'quarter_2018_Q1', 'quarter_2018_Q2', 'quarter_2018_Q3',\n",
    "'quarter_2018_Q4', 'quarter_2019_Q1', 'quarter_2019_Q2',\n",
    "'quarter_2019_Q3', 'quarter_2019_Q4', 'quarter_2020_Q1','quarter_2020_Q2', \n",
    "'quarter_2020_Q3', 'quarter_2020_Q4','quarter_2021_Q1',\n",
    "'n_pieces_BienStandard', 'n_dependances_BienStandard']\n",
    "outcome = 'Prix_m2'\n",
    "\n",
    "list_dist_metro_dummies = []\n",
    "for i in range(0,dfm.shape[0]):\n",
    "    if dfm['dist_metro'].iloc[i] <= 200 :\n",
    "        a = 0\n",
    "    elif (dfm['dist_metro'].iloc[i] <= 500) & (dfm['dist_metro'].iloc[i] > 200) :\n",
    "        a = 1\n",
    "    elif (dfm['dist_metro'].iloc[i] > 500) & (dfm['dist_metro'].iloc[i] <= 1000) :\n",
    "        a = 2\n",
    "    else:\n",
    "        a = 3\n",
    "    list_dist_metro_dummies.append(a)\n",
    "dfm['dist_metro_dummies'] = list_dist_metro_dummies\n"
   ]
  },
  {
   "cell_type": "code",
<<<<<<< HEAD
   "execution_count": 201,
   "id": "d7de6f5b",
=======
   "execution_count": 25,
>>>>>>> Dev-Lyon
   "metadata": {},
   "outputs": [
    {
     "name": "stdout",
     "output_type": "stream",
     "text": [
      "                            OLS Regression Results                            \n",
      "==============================================================================\n",
      "Dep. Variable:                Prix_m2   R-squared:                       0.033\n",
      "Model:                            OLS   Adj. R-squared:                  0.026\n",
      "Method:                 Least Squares   F-statistic:                     4.966\n",
<<<<<<< HEAD
      "Date:                Thu, 30 Mar 2023   Prob (F-statistic):           3.28e-10\n",
      "Time:                        19:40:30   Log-Likelihood:                -19152.\n",
=======
      "Date:                Sun, 02 Apr 2023   Prob (F-statistic):           3.28e-10\n",
      "Time:                        21:19:18   Log-Likelihood:                -19152.\n",
>>>>>>> Dev-Lyon
      "No. Observations:                2336   AIC:                         3.834e+04\n",
      "Df Residuals:                    2319   BIC:                         3.844e+04\n",
      "Df Model:                          16                                         \n",
      "Covariance Type:            nonrobust                                         \n",
      "==============================================================================================\n",
      "                                 coef    std err          t      P>|t|      [0.025      0.975]\n",
      "----------------------------------------------------------------------------------------------\n",
      "const                       2967.9014     67.566     43.926      0.000    2835.405    3100.398\n",
      "quarter_2017_Q4              102.3037     96.983      1.055      0.292     -87.878     292.485\n",
      "quarter_2018_Q1              113.3133    102.329      1.107      0.268     -87.353     313.980\n",
      "quarter_2018_Q2              131.1472    100.945      1.299      0.194     -66.805     329.099\n",
      "quarter_2018_Q3               79.6037     92.769      0.858      0.391    -102.316     261.523\n",
      "quarter_2018_Q4              146.7330     98.436      1.491      0.136     -46.298     339.764\n",
      "quarter_2019_Q1               73.8928     99.825      0.740      0.459    -121.863     269.649\n",
      "quarter_2019_Q2              111.4050     94.563      1.178      0.239     -74.032     296.842\n",
      "quarter_2019_Q3              282.5892     94.262      2.998      0.003      97.743     467.436\n",
      "quarter_2019_Q4              259.9810     94.293      2.757      0.006      75.074     444.888\n",
      "quarter_2020_Q1              184.0995    102.928      1.789      0.074     -17.741     385.940\n",
      "quarter_2020_Q2              335.8157    102.622      3.272      0.001     134.575     537.056\n",
      "quarter_2020_Q3              380.0166    104.570      3.634      0.000     174.956     585.077\n",
      "quarter_2020_Q4              465.4481     91.771      5.072      0.000     285.486     645.410\n",
      "quarter_2021_Q1              487.3303     98.279      4.959      0.000     294.607     680.054\n",
      "n_pieces_BienStandard         54.5945     13.712      3.982      0.000      27.705      81.484\n",
      "n_dependances_BienStandard   -88.3638     43.046     -2.053      0.040    -172.777      -3.950\n",
      "==============================================================================\n",
      "Omnibus:                      268.076   Durbin-Watson:                   0.907\n",
      "Prob(Omnibus):                  0.000   Jarque-Bera (JB):              401.765\n",
      "Skew:                           0.836   Prob(JB):                     5.73e-88\n",
      "Kurtosis:                       4.153   Cond. No.                         22.5\n",
      "==============================================================================\n",
      "\n",
      "Notes:\n",
      "[1] Standard Errors assume that the covariance matrix of the errors is correctly specified.\n"
     ]
    }
   ],
   "source": [
    "model_m = model_OLS_prix(df_train_m, 'Prix_m2', features_ols, summary = True)"
   ]
  },
  {
   "cell_type": "code",
<<<<<<< HEAD
   "execution_count": 202,
   "id": "34dc9585",
=======
   "execution_count": 26,
>>>>>>> Dev-Lyon
   "metadata": {
    "scrolled": true
   },
   "outputs": [
    {
     "data": {
<<<<<<< HEAD
      "image/png": "iVBORw0KGgoAAAANSUhEUgAAAYoAAAD4CAYAAADy46FuAAAAOXRFWHRTb2Z0d2FyZQBNYXRwbG90bGliIHZlcnNpb24zLjUuMSwgaHR0cHM6Ly9tYXRwbG90bGliLm9yZy/YYfK9AAAACXBIWXMAAAsTAAALEwEAmpwYAAAsAUlEQVR4nO3deXhU1fnA8e+bPSwhQELIhmGHsCRAQMClKi4oIlIUqBa3trhg/bXaulTbaqu2atVWxYW2IrYuRJFCUNxwV4SEJYEEAmHNBgkQkkD2yfn9kYtNMWRjJndm8n6e5z6ZOXOX917IvLnnnHuOGGNQSimlTsXH7gCUUkq5N00USimlmqWJQimlVLM0USillGqWJgqllFLN8rM7gJaEhYWZuLg4u8NQSimPERYWxgcffPCBMWaqM/bn9okiLi6OtLQ0u8NQSimPIiJhztqXVj0ppZRqliYKpZRSzdJEoZRSqlmaKJRSSjVLE4VSSqlmaaJQSinVLE0USimlmuX2z1EopZRqvcyCUpZvzHfqPjVRKKWUhysur2bF5nze3pDH9gPl+PuKU/eviUIppTxQVa2DNduKWLYxj893FOOoNyTEhvLHGSO4fHQUvR513rE0USillIcwxrAp9yjLNuSRkl5AWVUdfUOCmH/uAGaNjWZQn+4uOa4mCqWUcnMFRytZvimfZRvz2F18nCB/Hy4Z0ZerxsUweWAYvj7OrWo6mSYKpZRyQxU1dby/9QDLNubxza7DGAMT4npx87kDuGxUJN2D/DssFk0USinlJurrDev2HGHZxjxWbynkeI2D2F7B3HHBYGaNjaFf7y62xKWJQimlbLb30HHe2ZjHO5vyySuppFugH9NGRzJrbAzj43rh4+KqpZZoolBKKRuUVdXybkYhyzbkkbavBBE4e1AYv7p4KJeM6EtwgK/dIX5HE4VSSnWgipo6HvjPVt7NKKS6rp6B4V25e+pQZo6JJrJHsN3hNUkThVJKdaBH3t3G8k35XHtmP64aF0tCTA9E7K1aaokmCqWU6iCfZhfx2rr9/Oyc/tw/Ld7ucFpNBwVUSqkOUHK8hnvezmBIRDfuunio3eG0id5RKKWUixljeGDFVkoqanj5hvEE+btPQ3Vr6B2FUkq52Mr0At7NKOQXFw5hZHQPu8NpM00USinlQoWllfz2P1sZ2y+Um88dYHc47aKJQimlXKS+3nD32xnUOgxPzU7Ez9czv3I9M2qllPIA//p2H1/uPMT904YTF9bV7nDaTROFUkq5wK7iY/xp9TbOGxrOtWf2szuc06KJQimlnKzOUc+dyekE+fvy+KzRbv9AXUtaTBQiEiQi60UkXUQyReShkz7/lYgYEQlrVHafiOSISLaIXNKofJyIbLE+e0Y8/eoppVQTFn66i/Tcozx85Uj6hATZHc5pa80dRTVwgTEmAUgEporIRAARiQUuAvafWFlE4oG5wAhgKvC8iJzoNPwCMB8YbC1TnXMaSinlHjLyjvLsJzuZkRjF5aOj7A7HKVpMFKbBMeutv7UY6/3TwN2N3gPMAN40xlQbY/YAOcAEEYkEQowxa40xBngVuNI5p6GUUvarqnXwy6WbCesWyB+uGGl3OE7TqjYKEfEVkc1AEfCRMWadiFwB5Btj0k9aPRrIbfQ+zyqLtl6fXK6UUl7hsfe3s6v4OE9cPZoeXTpuBjpXa9UQHsYYB5AoIqHAchEZDdwPXNzE6k21O5hmyr+/A5H5NFRR0a+fZ/cWUEp1Dt/kHGLx13u5ftIZnDM43O5wnKpNvZ6MMUeBz2ioXuoPpIvIXiAG2CgifWm4U4httFkMUGCVxzRR3tRxFhljkowxSeHh3nXBlVLep7Syll+9lc6AsK7ce+lwu8Nxutb0egq37iQQkWDgQmCTMaaPMSbOGBNHQxIYa4w5AKwE5opIoIj0p6HRer0xphAoF5GJVm+n64AVLjkrpZTqQA+tzORgeTVPzUl0q5npnKU1VU+RwBKr55IPkGyMWXWqlY0xmSKSDGQBdcACq+oK4FbgFSAYWG0tSinlsVZvKeSdTfncMWUwibGhdofjEtLQAcl9JSUlmbS0NLvDUEqp7ykqr+KSp78gpmcX3rltMv5uNJaTiGwwxiQ5Y1/uc1ZKKeVBjDHcu2wLFTUOnp6T4FZJwtm898yUUsqFlqbm8sn2Iu6ZOoxBfbrbHY5LaaJQSqk22n+4gj+uymLywN7cMDnO7nBcThOFUkq1gaPecGfyZnxEeOLqBHx8vH/IOp0zWyml2uDvX+4mbV8JT81OIDo02O5wOoTeUSilVCttKyzjqQ93cOnIvswc03lGINJEoZRSrVBd1zDgX0iwP4/MHOXxc0y0hVY9KaVUKzz90U62Hyjn5RuS6NU1wO5wOpTeUSilVAtS9x7hpS928aMJsVwwLMLucDqcJgqllGrGseo67kzeTGzPLjwwLd7ucGyhVU9KKdWMR97NIq+kkuSbJ9E1sHN+ZeodhVJKncKabQd5Y30uN587kPFxvewOxzaaKJRSqgmHj1Vzz7ItDOvbnV9eNNjucGzVOe+jlFKqGcYY7l++lbLKWv71kwkE+nnfHBNtoXcUSil1kuWb8nk/8wB3XjyE4ZEhdodjO00USinVyJptB/ndikzGx/XkZ+cMsDsct6BVT0opBdQ66vnLB9m89MVu4iND+NvcMfh2ggH/WkMThVKq08s/WsnPX9/Ixv1HmTfxDO6fNpwg/87dLtGYJgqlVKe2ZttB7nornTqH4blrxnD56Ci7Q3I7miiUUp1S46qmEVEhLLxmLHFhXe0Oyy1polBKdTpa1dQ2miiUUp2KVjW1nSYKpVSnUOuo54kPslmkVU1tpolCKeX1tKrp9GiiUEp5tTXbDnJncjqOeq1qai9NFEopr6RVTc6jiUIp5XXyj1Zy++sb2aRVTU6hiUIp5VUaVzUtvGYs00ZH2h2Sx9NEoZTyClrV5DqaKJRSHq9xVdN1k87gN5dpVZMzaaJQSnm0j7MaHqDTqibX0UShlPJIWtXUcVqcuEhEgkRkvYiki0imiDxklf9RRDJEZLOIfCgiUY22uU9EckQkW0QuaVQ+TkS2WJ89IyI62LtSqs3ySiqY/dJaFn2xm+smncGyWydrknCh1sxwVw1cYIxJABKBqSIyEXjCGDPaGJMIrAJ+ByAi8cBcYAQwFXheRE5UFr4AzAcGW8tU552KUqozqKp18MPnv2HnwWMsvGYsf5gxUtsjXKzFRGEaHLPe+luLMcaUNVqtK2Cs1zOAN40x1caYPUAOMEFEIoEQY8xaY4wBXgWudNJ5KKU6idVbCykqr+bFH4/T9ogO0qo5s0XEV0Q2A0XAR8aYdVb5IyKSC1yLdUcBRAO5jTbPs8qirdcnlzd1vPkikiYiacXFxW04HaWUt3tzfS5n9O7CWYN62x1Kp9GqRGGMcVhVTDE03B2MtMrvN8bEAq8Bt1urN9XuYJopb+p4i4wxScaYpPDw8NaEqJTqBPYcOs66PUeYnRSLNnF2nFYlihOMMUeBz/h+28LrwCzrdR4Q2+izGKDAKo9polwppVolOS0XH4GrxsW0vLJymtb0egoXkVDrdTBwIbBdRAY3Wu0KYLv1eiUwV0QCRaQ/DY3W640xhUC5iEy0ejtdB6xw3qkopbxZnaOetzfkccGwPkSEBNkdTqfSmucoIoElVs8lHyDZGLNKRJaJyFCgHtgH3AJgjMkUkWQgC6gDFhhjHNa+bgVeAYKB1dailFIt+jS7mOLyamYnxba8snKqFhOFMSYDGNNE+awmVj/x2SPAI02UpwEj2xijUkqxNDWX8O6BnD+sj92hdDptaqNQSik7FJVV8Wl2EbPGxuDvq19bHU2vuFLK7b29MQ9HvWHOeK12soMmCqWUWzPGkJyay4T+veivw3TYQhOFUsqtrdtzhL2HK5irdxO20UShlHJryam5dA/049KROlyHXTRRKKXcVmllLe9uKWTGmCiCA3TgP7toolBKua2V6QVU19UzJ6mf3aF0apoolFJua2nqfuIjQxgZHWJ3KJ2aJgqllFvaml/K1vwy5ozXAQDtpolCKeWWktNyCfDz4crEJmcjUB1IE4VSyu1U1Tr4z6Z8Lh3Zlx5d/O0Op9PTRKGUcjvvbz1AWVUdc3QAQLegiUIp5XaWpubSr1cXJg7QWezcgSYKpdzQ1vxSPsg8QHWdo+WVvcy+w8dZu/sws5Ni8PHRRmx30Jr5KJRSHcgYw+2vb2Tv4Qp6dvFn5pgYZo+PYVjfztFF9L+z2Gm1k7vQRKGUm9maX8bewxVcP+kMDh2r4V/f7uXlr/cwOqYHVyfFckVCFD2CvbOBt85Rz1tpeZw3tA99e+gsdu5CE4VSbiYlowB/X+GXFw0htEsAR47XsGJzPktTc/ntf7by8Kospo7sy5ykWCYO6O1V1TOf7yimqLxahxN3M5oolHIj9fWGVekFnDs4nNAuAQD06hrAjWf154bJcWzNLyM5LZcVm/NZsbmAmJ7BXD0ulquSYogODbY5+tP3ZmouYd0CuUBnsXMrmiiUciMb95dQUFrF3VOHfe8zEWFUTA9GxfTg/mnD+SDzAG+l5fH0xzv465odnD0ojKuTYrk4PoIgf88bQK+ovIpPthfx03P66yx2bkYThVJuJCW9gEA/Hy6Mj2h2vSB/X2YkRjMjMZrcIxW8vSGPtzfkcccbm+gR7M+ViVFcnRTLyOgeHRT56Vu2IR9HvWG2PjvhdjRRKOUm6hz1vLulkAuHR9AtsPW/mrG9uvDLi4bwf1MG882uwySn5fJGai5L1u4jPjKE2UkxzEiMpmfXABdGf3qMMSSn5TIhrhcDw7vZHY46iSYKpdzEt7uPcOhYDdMT2jdBj4+PcPbgMM4eHEZpRS0r0/NJTsvjwZQsHn1vOxePiGB2UixnDQrD180awNfvOcKeQ8dZcP4gu0NRTdBEoZSbSEkvoFugH+cNPf2G3B5d/Jk3KY55k+LIKmhoAP/P5nxWZRQS1SOIq8bF8ONJZ9Cnu3t0QV2a1jCL3WWj+todimqCthgp5QZq6upZvbXQJQ3R8VEhPHjFCNb9ZgoLrxnL4IjuPPtpDnNe+payqlqnHqs9yqpqeW9LIdMTo+gSoH+7uiNNFEq5gS93FlNWVcf0hCiXHSPQz5dpoyNZctME3vzZRPYfqeDXb6VjjHHZMVtj5eYCqmrrmavPTrgtTRRKuYGU9AJCu/hz1qCwDjnemQN6c9+lw/gg8yAvfbG7Q455KktTcxnWtzujPKiHVmejiUIpm1XWOPgw6yCXjowkwK/jfiV/cnZ/po2O5PH3t/PNrkMddtzGsgrK2JJfylydxc6taaJQymafbC+iosbR7t5O7SUiPDZrNP3DunLHG5s4UFrVoceHRrPYjdFZ7NyZJgqlbJaSXkB490DO7N/xcy90C/TjpXnjqKxxcNtrG6ipq++wY1fVOli+KZ+pI/p+N1yJck+aKJSyUXlVLZ9kFzFtVKRtzzYM6tOdx69KYOP+ozz63rYOO+4HmQcorazVAQA9gCYKpWz0UdZBaurqXdrbqTWmjY7kJ2f355Vv9rJic36HHHNpai6xvYKZpLPYuT1NFErZKCW9gOjQYMb2C7U7FO69dBjj43py77ItZB8od+mx9h+u4Jtdh5k9Ltarhkn3Vi0mChEJEpH1IpIuIpki8pBV/oSIbBeRDBFZLiKhjba5T0RyRCRbRC5pVD5ORLZYnz0j2s1BdWIlx2v4cuchLk+IdIseP/6+Piy8ZixdA/249d8bKHfhw3jfzWKXFOOyYyjnac0dRTVwgTEmAUgEporIROAjYKQxZjSwA7gPQETigbnACGAq8LyInHjU9AVgPjDYWqY671SU8iyrtx6grt5whc3VTo31CQli4TVj2Hekgl+/leGSh/HqHPW8vSGPHwwJJ7KH58+h0Rm0mChMg2PWW39rMcaYD40xdVb5t8CJPw1mAG8aY6qNMXuAHGCCiEQCIcaYtabhf9+rwJVOPBelPEpKegEDwrsSH+lec2GfOaA3904dxvuZB1jkgofxvthZzIGyKuaM7+f0fSvXaFUbhYj4ishmoAj4yBiz7qRVbgJWW6+jgdxGn+VZZdHW65PLmzrefBFJE5G04uLi1oSolEcpKqvi2z2HmT46yi2qnU7203P6c9movjz2/nbW7jrs1H0vTc0lrFsAU4brLHaeolWJwhjjMMYk0nDXMEFERp74TETuB+qA104UNbWLZsqbOt4iY0ySMSYpPDy8NSEq5VHe3VKIMXT4Q3atJSI8flUCcWFd+fkbGzlY5pyH8YrLq1mzrYgfjo3RWew8SJv+pYwxR4HPsNoWROR64HLgWvPfysw8oHHH6BigwCqPaaJcqU4nJb2A4ZEhDOrT3e5QTqlboB8v/XgcFTUOFry2kVrH6T+M987GPOp0FjuP05peT+EnejSJSDBwIbBdRKYC9wBXGGMqGm2yEpgrIoEi0p+GRuv1xphCoFxEJlq9na4DVjj3dJRyf7lHKti4/6jb3k00NjiiO4/NGk3avpLTfhjPGMPS1FySzujJoD46i50nac3g75HAEqvnkg+QbIxZJSI5QCDwkVXH+q0x5hZjTKaIJANZNFRJLTDGOKx93Qq8AgTT0KaxGqU6mVUZhQBMH+0+vZ2aMz0hio37S1j89V7G9OvZ7l5aaftK2H3oOLeeN9DJESpXazFRGGMygDFNlJ9yzkJjzCPAI02UpwEjv7+FUp1HSnoBY/qFEturi92htNp9lw4nI6+Ue5dlMLxvdwZHtL3K7M31uXQL9GPaaPe/k1L/S1uTlOpAOUXHyCos85i7iRMC/BoexusS4MvN7XgY77tZ7BJ0FjtPpIlCqQ60KqMAETzyr+q+PYJ49kdj2Xe4grvfbtvDeCnpBVTWOnQAQA+liUKpDmKMISW9gDP79yIiJMjucNpl0sDe3H3JUFZvPcA/vtzT6u2SrVnsEmJ0FjtPpIlCqQ6SVVjGruLjto8Ue7rmnzuAqSP68uf3t7Nud8sP420rLCM9r5TZSTqLnafSRKFUB0lJL8TPR7h0pOdVOzUmIjxx9WjO6NWFBa9vavFhvKWpuQT4+jBTZ7HzWJoolOoAJ6qdzh4cRq+unj+bW/cgf16cN47j1XXNPox3Yha7i0dE0NMLzruz0kShVAfYlHuU/KOVHtfbqTlDIrrz51mjSNtXwp/e297kOh9mHaS0spa5OgCgR9NEoVQHSEkvIMDPh4tGRNgdilPNSIzm+kln8PLXe1iV8f0ReZam7iemZzCTB+osdp5ME4VSLuaoN7ybUcj5Q8MJCfK3Oxynu39aPGP7hXL32xnsPPjfmfFyj1Twdc5hZifpLHaeThOFUi62bs9hisqrPb6306kE+Pmw8NqxBPv7csu/N3CsumGamrfSchGBq8bpLHaeThOFUi6Wkl5IlwBfpgzzrmqnxiJ7BPPsj8aw59Bx7nk7gzpHPW9Zs9hFheosdp5On6VXyoVqHfWs3lrIRfERBAf4tryBB5s8KIxfXzKMx97fTo2jnsLSKn53ebzdYSkn0EShlAt9lXOIoxW1XtXbqTm3/GAAm/aX8GHWQXp3DWDKcO+9i+pMtOpJKRdKSS8gJMiPc4aE2R1KhxAR/jI7gTH9QrnlBwMJ8NOvGG+gdxRKuUhVrYMPMw9y2ai+BPp5d7VTYyFB/iy/7Sy7w1BOpOleKRf5LLuIY9V1XtvbSXUemiiUcpGU9ELCugUwaYA+bKY8myYKpVzgWHUda7Yf5LJRkfj56q+Z8mz6P1gpF1iz7SBVtfVa7aS8giYKpVwgJb2AyB5BjOvX0+5QlDptmiiUcrLSilo+31HM5aMjdYwj5RU0USjlZO9nFlLrMFrtpLyGJgqlnCwlvZC43l0YFa3zQyvvoIlCKScqLq/mm12HmJ4QpfNDK6+hiUIpJ1q9tZB6g1Y7Ka+iiUIpJ0pJL2BoRHeGRHS3OxSlnEYThVJOUnC0ktS9JUxPiLQ7FKWcShOFskV5VS3puUftDsOpTswZfXknGVJcdR6aKFSHq6xx8ON/rmfGwq9ZvaXQ7nCcJiW9kNExPYgL62p3KEo5lSYK1aEc9YY73txERt5R+od15a630tl+oMzusE7bnkPH2ZJfyhXaiK28kCYK1WGMMTyUkslHWQd5cPoI3pw/kW6Bfvzs1TRKjtfYHd5pWZXeUO00bbS2Tyjv02KiEJEgEVkvIukikikiD1nlV1vv60Uk6aRt7hORHBHJFpFLGpWPE5Et1mfPiHY071QWfbGbV9fuY/65A7h+chwRIUG8OG8cB0uruf2NjdQ56u0Osd1SMgqYENeLyB7BdoeilNO15o6iGrjAGJMAJAJTRWQisBX4IfBF45VFJB6YC4wApgLPi8iJ6b1eAOYDg61lqhPOQXmAlPQC/rR6O9NGR3Lv1GHflY/t15OHZ47k65zDPPredhsjbL/sA+XsOHhMezspr9ViojANjllv/a3FGGO2GWOym9hkBvCmMabaGLMHyAEmiEgkEGKMWWuMMcCrwJVOOQvl1tbtPsxdyelMiOvFk1cnfG+gvNlJsdwwOY6Xv97Dsg15NkXZfivT8/ERuHSUJgrlnVo1Z7Z1R7ABGAQsNMasa2b1aODbRu/zrLJa6/XJ5U0dbz4Ndx7069evNSF2CsYYsg+Ws2ZbER9lHWTv4eP8fno8M8fE2B3aKeUUlfOzV9OI7RXMouvGEeTf9NzR908bTvaBcu5bvoWBfbqRGBvasYG2kzGGlPRCzhoURli3QLvDUcolWtWYbYxxGGMSgRga7g5GNrN6U+0Oppnypo63yBiTZIxJCg8Pb02IXqumrp4vdxbz4MpMznn8U6b+9Uue+CAbYwxn9O7KL5em89wnO2m4SXMvRWVVXP9yKgF+vrxy4wRCuwSccl1/Xx8WXjuW8G6B3PKvDRSVV3VgpO2XkVfK/iMVOmSH8mqtuqM4wRhzVEQ+o6FtYespVssDYhu9jwEKrPKYJsrVSUqO1/DZjiI+ziri8x3FHKuuI8jfh7MHhbHg/EFMGdaHPiFBVNc5uOftDP7y4Q7yj1byxxkj3WbazePVddy0JJWSihqWzp9EbK8uLW7Tq2sAf78uiVkvfMOt/97I6z87k0C/pu9A3EVKegH+vsIlI/raHYpSLtNiohCRcKDWShLBwIXAY81sshJ4XUSeAqJoaLReb4xxiEi51RC+DrgOePa0z8BL7Co+xpptB/k4q4i0fUeoNxDePZDpCZFMGRbBWYPCCA743y/NQD9fnp6TSEzPLjz3aQ4FR6tYeO1YugW2Kf87XZ2jngWvbySroIx/Xj+eUTGtH247PiqEJ64eze2vb+L3KzL50w9Hue0orPX1hlUZhfxgSB96BPvbHY5SLtOab5RIYInVTuEDJBtjVonITBq+6MOBd0VkszHmEmNMpogkA1lAHbDAGOOw9nUr8AoQDKy2lk6pzlFP2r6ShuSwrYg9h44DMDwyhNvPH8SU4RGMiu7R4gxpIsKvLhlKdM9gHvjPVma/uJbFN44nIiSoI07je4wx/HbFVj7LLubRmaM4f1ifNu/j8tFRZBWU8fxnuxgRFcK8SXHOD9QJ0vaVcKCsivsuG9byykp5MHHHuu3GkpKSTFpamt1hOEVZVS1f7Cjm46yDfJpdTGllLf6+wqSBYVw4vA8XDOtDTM+Wq2hO5dPsIm5/bSM9gv1ZfOMEhvbt+BFMn/tkJ3/5cAcLzh/Iry9p/xeoo97w0yWpfLnzEK/99EzOHNDbiVE6xwP/2cLbG/LY8MBFdLX5Lk6pk4nIBmNMUstrtmJfmihcK/dIBR9vO8jH2w6ybvcR6uoNPbv4c/6wPlw0PIJzhoQ7tapoa34pN72SSmWNg5fmjWPyoDCn7bsl72zM487kdGaOieap2QmnXWVUVlXLlQu/prSilpU/P5voUPd5mK3OUc+ER9cwaWBvFl4z1u5wlPoeTRRuqrSylm2FZWQVlJFVWEZ67lF2FjU8gjKoTzemDG9IDmP69cS3hSql05F/tJIbF69nz6HjPDZrND8c6/rus1/nHOL6l9czoX8vXrlxAgF+zmlU31V8jCuf+5p+vbvw9i2Tv9dOY5cvdhRz3cvreWneOG3IVm7JmYlC75fbwRhDXkklWY2SQlZBGflHK79bJ6xbAPFRPZgzPpYLh0d06Iii0aHBvHXLZG751wbuTE4nv6SS2y8Y5LJG4e0HyrjlXxsYGN6NF+eNc1qSABgY3o2//SiRnyxJ455lGfxtbqLtjdvZB8r58+rtdA/04wdDOnf3bdU5aKJoQXWdg50Hj/1PUthWWEZ5VR0AIjAgrCtjz+jJtRP7ER8ZQnxUCH2629OYfEKPYH+W3DSBe5dl8ORHO8grqeThmSPxd3L32cLSSm5cnEqXQF8W3ziekCDn9/65YFgEv7p4KE98kE18VAi3/GCg04/RGlW1DhZ+msOLn++iW6Aff5mdcMoHCJXyJpooGik5XtNQddQoKeQUHaOuvqF6Ltjfl+GR3ZmRGMXwyBDiI0MY2rc7XQLc8zIG+Pnw5OwEonsG8+wnORSWVbHwmjF0d9KXeXlVLTcuTqW8qo7kmycR5cI2hNvOG0hWQRmPvb+dYX27c97QtvemOh3f7j7Mb97Zwu5Dx/nhmGgeuDyeXl1P/QChUt6kU7dRfLXzEOv2HP6uXaGg9L9PA0eEBH53d3AiKZzRu6tL2xZcaWnqfn6zfCtDIrqz+Ibx9O1xenc8NXX13PRKKt/uPsziG8dzzmDXV8FU1NQx64W15JVUsPL2s+nfAdV5pZW1/Hn1Nt5Yn0tsr2AeuXIU52p1k/IA2pjtBGu2HeQnS9Lw9REGhnf9n6QwPDLEK8ft+XxHMbf9ewMhwf4svnE8w/qGtGs/xhjueiuddzbm88RVo7k6KbbljZwk90gFVzz3Fb27BbL8tslOuzs6mTGG97Yc4MGUTA4fq+an5wzgFxcOdtu7R6VOponiNNXU1XPx05/j6yOs+vk5btOTpiNkFjR0n62odvDivHGc1Y7us099tINn1uzklxcO4f8uHOyCKJv3za5DzPvnes4f2odF88a1+FBiWxUcreR3K7by8bYiRkSF8Nis0YyMbv3T5Uq5A2cmCvcYGKiDvfLNHvYeruB300d0qiQBMCKqB8tvO4uo0GCuf3l9m4f1Xpq6n2fW7GROUix3TBnkoiibN3lgGL+dNpyPtx3krx/vcNp+HfWGJd/s5aKnPuernEPcf9lwViw4S5OE6vQ63X10cXk1z67J4YJhfTpt18ao0GDeunUSt/57A3e9lU5eSSV3TGm5++xn2UX8ZvlWzh0SzsMzR9raTfX6yXFkFpTxzCc5xEeFMHXk6c0FkX2gnHvfyWDT/qOcMziMR2eOatVAhkp1Bp0uUTz5YTaVtQ4emDbc7lBsFRLkz+IbJnDvOxk8/fEO8koqePSHo07ZfXZrfikLXtvI0IjuPH/tWKd3s20rEeHhmSPZWXSMO5PTiQvr2q42l5O7vD49J4ErE6Ntf1ZDKXfSqaqetuaXsjQtlxsmxzEgvJvd4dguwM+HJ69O4I4pg3lrQx43vZJKeVXt99bLK6ngxldSCe0SwOIbx9s+Ou0JgX6+vDRvHN0C/Zj/6gaOVtS0aftvdx/msr99ybOf5DB9dBRr7jqPmWNiNEkodZJOkyiMMfwhJYteXQL4+ZSOb4B1VyLCnRcN4fFZo1m76zBXv7iWwtL/PmFeWlHLDYtTqap12Doq7alEhATx4rxxHCit4vbXN1HnqG9xm9LKWu57J4O5i76ltr6eV2+awFNzEvW5CKVOodMkive2HGD93iPcdfFQnTugCbPHx/LyDePJK6lk5sJv2FZYRnWdg/n/SmP/4QoWzUtiSETHj0bbGmP79eThmSP5KucQf169/ZTrGWN4N6OQC5/6nKWpucw/dwAf/OJcfS5CqRa4Rx2Ci1XVOnj0vW0MjwxhzviO6/Pvac4dEk7yzZO46ZVUrn5xLYmxoazbc4S/zU1k0kD3G+a7sdlJsWQVlPGPr/YwPDKEWeP+dyDEk7u8Lr5hvPZmUqqVOkWi+PsXu8k/WsmTsxM89snqjhIfFcLyBZO5cXEqX+Uc4u6pQ5mRGG13WK1y/7ThZB8o577lWxjUpxsJsaE46g3//nYfj7+/HYcx/OayYdx0Vn+3mTJWKU/g9Q/cHSit4vy/fMb5w8J5/tpxTozMux2rriMj9yiTBvb2qMbdI8drmP7sVzjqDU/OTuAvH2Z/1+X1kStH0a+3dnlVnYM+cNcGj1l/Sd53aefuDttW3QL9mDwozKOSBECvrgEsum4cpZW1XPuPdew9dJyn5yTw6k0TNEko1U5eXfW0YV8Jyzflc/v5g/ThqU5kRFQPXvjxWL7YcYgF5w+ktxeO26VUR/LaRFFfb/hDSiZ9ugdy63n2zF+g7HPe0D4dPhS5Ut7Ka6uelm/KJz2vlHsvHaYT3yul1GnwykRxvLqOx97fTkJsKFd6SI8dpZRyV16ZKJ7/LIei8mp+Pz3e6UNQK6VUZ+N1iSL3SAV//3IPM8dEM7ZfT7vDUUopj+d1ieLR97bhK8I9U4fZHYpSSnkFr0oUa3cdZvXWAyw4f+BpzwmtlFKqgdckCke94aGUTKJDg/npOQPsDkcppbyG1ySKN1P3s/1AOfdPG06Qf+ea3lQppVzJKxJFaWUtT364gwn9e3HpyL52h6OUUl7FKxLFM2t2UlJRw++nx3vc2ERKKeXuPD5R7Co+xpJv9jJ3fCwjonR+AaWUcjaPTxQPr8oi2N+Xuy4eancoSinllVpMFCISJCLrRSRdRDJF5CGrvJeIfCQiO62fPRttc5+I5IhItohc0qh8nIhssT57Rk6znujT7CI+zS7mjimDCdMRQpVSyiVac0dRDVxgjEkAEoGpIjIRuBdYY4wZDKyx3iMi8cBcYAQwFXheRE50Q3oBmA8Mtpap7Q281lHPH1dl0T+sK9dPjmvvbpRSSrWgxURhGhyz3vpbiwFmAEus8iXAldbrGcCbxphqY8weIAeYICKRQIgxZq1pmFbv1UbbtNmra/exu/g4D0wbToCfx9egKaWU22rVN6yI+IrIZqAI+MgYsw6IMMYUAlg/Twz+Hw3kNto8zyqLtl6fXN7U8eaLSJqIpBUXF3/v88PHqvnrxzs4d0g4FwzTOQeUUsqVWpUojDEOY0wiEEPD3cHIZlZvqt3BNFPe1PEWGWOSjDFJ4eHh3/v8qY92UFHj4LfThmt3WKWUcrE21dkYY44Cn9HQtnDQqk7C+llkrZYHxDbaLAYosMpjmihvk22FZbyxfj/zJp7B4Ijubd1cKaVUG7Wm11O4iIRar4OBC4HtwErgemu164EV1uuVwFwRCRSR/jQ0Wq+3qqfKRWSi1dvpukbbtIoxhj+kZBES7M8vLhzclk2VUkq1U2vmCI0Ellg9l3yAZGPMKhFZCySLyE+A/cDVAMaYTBFJBrKAOmCBMcZh7etW4BUgGFhtLa32QeZB1u4+zB9njCC0S0BbNlVKKdVO0tAByX0lJSWZtLQ0qmodXPT053Tx9+PdO87Gz1d7Oiml1KmIyAZjTJIz9uUx37Yvf72H3COV/G56vCYJpZTqQB7xjVtUVsVzn+RwUXwEZw0KszscpZTqVDwiUTz+QTZ1DsP9lw23OxSllOp03D5RVNY4eHtDHjeeHUdcWFe7w1FKqU7H7RNFQWklYd0Cuf38QXaHopRSnZLbJ4qKGgd3XzKU7kH+doeilFKdktsnimB/X64aF9PyikoppVzC7RNFZGgQPj46npNSStnF7RNF14DWPDyulFLKVdw+USillLKXJgqllFLN0kShlFKqWZoolFJKNUsThVJKqWZpolBKKdUsTRRKKaWapYlCKaVUs9x+hjsRKQV2uvAQPYBSF+4/DDjkon27OnZP378rrz14/vXR6++9+w8C8owxU52yN2OMWy/AIg/ff5oHx+7p+3fZtfeS66PX30v37+xr7wlVTykevn9X8vRr48nXHjz/+uj19+79O43bVz15OhFJM06a4Fy1jV57e+n1t4+zr70n3FF4ukV2B9CJ6bW3l15/+zj12usdhVJKqWbpHYVSSqlmaaJQSinVLE0UbSQisSLyqYhsE5FMEfk/q7yXiHwkIjutnz2t8t7W+sdE5LmT9vUjEdkiIhki8r6IhNlxTp7Cydd+jnXdM0XkcTvOx9O04/pfJCIbrP/jG0Tkgkb7GmeV54jIMyKi01g2w8nX/hERyRWRY60OwJX9hL1xASKBsdbr7sAOIB54HLjXKr8XeMx63RU4G7gFeK7RfvyAIiDMev848KDd5+fOixOvfW9gPxBuvV8CTLH7/Nx9acf1HwNEWa9HAvmN9rUemAQIsBq41O7zc+fFydd+orW/Y609vt5RtJExptAYs9F6XQ5sA6KBGTR84WD9vNJa57gx5iug6qRdibV0tf6aCgEKXH4CHsyJ134AsMMYU2y9/xiY5droPV87rv8mY8yJ/9OZQJCIBIpIJBBijFlrGr65Xj2xjWqas6699dm3xpjCthxfE8VpEJE4GjL3OiDixMW3fvZpbltjTC1wK7CFhgQRD/zTlfF6k9O59kAOMExE4kTEj4ZfrljXRet92nH9ZwGbjDHVNHzB5TX6LM8qU61wmte+XTRRtJOIdAOWAb8wxpS1Y3t/GhLFGCAKyADuc2qQXup0r70xpoSGa78U+BLYC9Q5M0Zv1tbrLyIjgMeAm08UNbGa9tNvBSdc+3bRRNEO1pf8MuA1Y8w7VvFB65Ya62dRC7tJBDDG7LJuv5OBya6J2Hs46dpjjEkxxpxpjJkEZOPagSe9Rluvv4jEAMuB64wxu6ziPCCm0W5j0GrXFjnp2reLJoo2stoT/glsM8Y81eijlcD11uvrgRUt7CofiBeRcOv9RTTUO6pTcOK1R0T6WD97ArcB/3ButN6nrddfREKBd4H7jDFfn1jZqiIpF5GJ1j6voxX/Zp2Zs659u9ndmu9pCw29aAwNVUWbreUyGnrSrKHhL9M1QK9G2+wFjgDHaPhrKt4qv4WG5JBBwwBhve0+P3denHzt3wCyrGWu3efmCUtbrz/wAHC80bqbgT7WZ0nAVmAX8BzWKBG6dMi1f9z6Xai3fj7Y0vF1CA+llFLN0qonpZRSzdJEoZRSqlmaKJRSSjVLE4VSSqlmaaJQSinVLE0USimlmqWJQimlVLP+HwEWbrY+un6DAAAAAElFTkSuQmCC\n",
=======
      "image/png": "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\n",
>>>>>>> Dev-Lyon
      "text/plain": [
       "<Figure size 432x288 with 1 Axes>"
      ]
     },
     "metadata": {
      "needs_background": "light"
     },
     "output_type": "display_data"
    }
   ],
   "source": [
    "df_train_m = add_indice_prix(df_train_m, indice_prix_quarter(model_m, plot = True))"
   ]
  },
  {
   "cell_type": "markdown",
<<<<<<< HEAD
   "id": "4e85f9bd",
=======
>>>>>>> Dev-Lyon
   "metadata": {},
   "source": [
    "### KNN"
   ]
  },
  {
   "cell_type": "code",
<<<<<<< HEAD
   "execution_count": 225,
   "id": "6bfec855",
=======
   "execution_count": 40,
>>>>>>> Dev-Lyon
   "metadata": {},
   "outputs": [
    {
     "name": "stdout",
     "output_type": "stream",
     "text": [
      "Returned hyperparameter: {'Knn__n_neighbors': 9}\n"
     ]
    }
   ],
   "source": [
    "    # Dependant variables : cooridnates\n",
    "features_knn = ['latitude', 'longitude']\n",
    "    # Output\n",
    "label_train_m  = 'Prix_m2_actualise_Q1_2021'\n",
    "label_test_m   = 'Prix_m2'\n",
    "\n",
    "knn_pipe_m = model_KNN_coordinates(df_train_m, df_test_m, features_knn,\n",
    "                          label_train_m, label_test_m,\n",
    "                          MinMaxScaler(), 'uniform', 25, 5)"
   ]
  },
  {
   "cell_type": "code",
<<<<<<< HEAD
   "execution_count": 226,
   "id": "5d42b79f",
=======
   "execution_count": 28,
>>>>>>> Dev-Lyon
   "metadata": {},
   "outputs": [
    {
     "name": "stdout",
     "output_type": "stream",
     "text": [
<<<<<<< HEAD
      "MAPE:  13.048844162218726\n",
      "MDAPE:  9.664033631868419\n"
=======
      "MAPE:  13.038484336994777\n",
      "MDAPE:  9.721214998290776\n"
>>>>>>> Dev-Lyon
     ]
    }
   ],
   "source": [
<<<<<<< HEAD
    "\n",
=======
>>>>>>> Dev-Lyon
    "    # Scores on TRAIN dataset\n",
    "compute_scores(knn_pipe_m, df_train_m[features_knn], df_train_m[label_train])"
   ]
  },
  {
   "cell_type": "code",
<<<<<<< HEAD
   "execution_count": 227,
   "id": "42ee5c98",
=======
   "execution_count": 31,
   "metadata": {},
   "outputs": [
    {
     "name": "stdout",
     "output_type": "stream",
     "text": [
      "MAPE:  13.692739237676943\n",
      "MDAPE:  10.938316272248416\n"
     ]
    }
   ],
   "source": [
    "    # Scores on TEST dataset\n",
    "compute_scores(knn_pipe_m, df_test_m[features_knn], df_test_m[label_test])"
   ]
  },
  {
   "cell_type": "code",
   "execution_count": 41,
   "metadata": {},
   "outputs": [
    {
     "name": "stdout",
     "output_type": "stream",
     "text": [
      "Returned hyperparameter: {'Knn__n_neighbors': 13}\n"
     ]
    }
   ],
   "source": [
    "knn_pipe_m_distance = model_KNN_coordinates(df_train_m, df_test_m, features_knn,\n",
    "                          label_train_m, label_test_m,\n",
    "                          MinMaxScaler(), 'distance', 25, 5)"
   ]
  },
  {
   "cell_type": "code",
   "execution_count": 42,
   "metadata": {},
   "outputs": [
    {
     "name": "stdout",
     "output_type": "stream",
     "text": [
      "MAPE:  1.1261338763083255\n",
      "MDAPE:  0.0\n"
     ]
    }
   ],
   "source": [
    "    # Scores on TRAIN dataset\n",
    "compute_scores(knn_pipe_m_distance, df_train_m[features_knn], df_train_m[label_train])"
   ]
  },
  {
   "cell_type": "code",
   "execution_count": 46,
>>>>>>> Dev-Lyon
   "metadata": {},
   "outputs": [
    {
     "name": "stdout",
     "output_type": "stream",
     "text": [
<<<<<<< HEAD
      "MAPE:  18.952746316437686\n",
      "MDAPE:  17.24560040553687\n"
=======
      "MAPE:  13.647884600385773\n",
      "MDAPE:  10.854386821482828\n"
>>>>>>> Dev-Lyon
     ]
    }
   ],
   "source": [
    "    # Scores on TEST dataset\n",
<<<<<<< HEAD
    "compute_scores(knn_pipe, df_test_m[features_knn], df_test_m[label_test])"
=======
    "compute_scores(knn_pipe_m_distance, df_test_m[features_knn], df_test_m[label_test])"
>>>>>>> Dev-Lyon
   ]
  },
  {
   "cell_type": "markdown",
<<<<<<< HEAD
   "id": "b4bec649",
=======
>>>>>>> Dev-Lyon
   "metadata": {},
   "source": [
    "### RF"
   ]
  },
  {
   "cell_type": "code",
<<<<<<< HEAD
   "execution_count": 269,
   "id": "c389b814",
=======
   "execution_count": 54,
>>>>>>> Dev-Lyon
   "metadata": {},
   "outputs": [],
   "source": [
    "features_RF_m = [#'Nombre_dependance', \n",
    "               'Nombre_dependance', 'dist_metro',\n",
    "               #'dist_metro', \n",
    "               'nombre_pieces_principales',\n",
    "               #'Ec_elementaire', 'Ec_maternelle',\n",
    "               'Ec_elementaire_dummy', 'Ec_maternelle_dummy',\n",
    "               'N_apparts', \n",
    "               'DISP_MED19', \n",
    "               'Part_chomeurs', \n",
    "               #'P19_LOG','P19_RP_SDB','P19_RP_CCCOLL',\n",
    "               #'P19_RP_CCIND','P19_RP_CINDELEC'\n",
    "]"
   ]
  },
  {
   "cell_type": "code",
<<<<<<< HEAD
   "execution_count": 270,
   "id": "0f111046",
=======
   "execution_count": 55,
>>>>>>> Dev-Lyon
   "metadata": {},
   "outputs": [],
   "source": [
    "RF_model_m = model_RF_post_KNN(df_test_m, df_train_m, features_RF_m, features_knn, label_train_m, label_test_m,\n",
<<<<<<< HEAD
    "                      model_knn = knn_pipe_m, standardisation = StandardScaler(), range_depth = [1, 1000], nb_cv = 5)\n"
=======
    "                      model_knn = knn_pipe_m, standardisation = StandardScaler(), range_depth = [20, 40, 60], nb_cv = 5)\n"
>>>>>>> Dev-Lyon
   ]
  },
  {
   "cell_type": "code",
<<<<<<< HEAD
   "execution_count": 271,
   "id": "efa554a7",
=======
   "execution_count": 56,
>>>>>>> Dev-Lyon
   "metadata": {},
   "outputs": [
    {
     "name": "stdout",
     "output_type": "stream",
     "text": [
<<<<<<< HEAD
      "MAPE:  14.531278046633242\n",
      "MDAPE:  11.332700487226004\n"
=======
      "MAPE:  14.48906827010559\n",
      "MDAPE:  11.649408824069894\n"
>>>>>>> Dev-Lyon
     ]
    }
   ],
   "source": [
    "X_train_rf_m = df_train_m[features_RF_m]\n",
    "X_train_rf_m['y_pred_knn'] = knn_pipe_m.predict(df_train_m[features_knn])\n",
    "X_test_rf_m = df_test_m[features_RF_m]\n",
    "X_test_rf_m['y_pred_knn'] = knn_pipe_m.predict(df_test_m[features_knn])\n",
    "compute_scores(RF_model_m, X_test_rf_m, df_test_m[label_test_m])"
   ]
  },
  {
   "cell_type": "code",
<<<<<<< HEAD
   "execution_count": 277,
   "id": "b2a3a0db",
=======
   "execution_count": 57,
>>>>>>> Dev-Lyon
   "metadata": {},
   "outputs": [
    {
     "data": {
<<<<<<< HEAD
      "image/png": "iVBORw0KGgoAAAANSUhEUgAAA+EAAAHiCAYAAACHss1hAAAAOXRFWHRTb2Z0d2FyZQBNYXRwbG90bGliIHZlcnNpb24zLjUuMSwgaHR0cHM6Ly9tYXRwbG90bGliLm9yZy/YYfK9AAAACXBIWXMAAAsTAAALEwEAmpwYAAA34klEQVR4nO3dd7hdVZ3/8fcHgtJBpIwNolgYEIwkoBQRFZ2xUsQBxQI6YseGM87oKOo49rGiyA8VRQcRAUVRikhRAUlCC8UamLEwAqI0MUD4/v44O8Ph5pZzQ7LOTe779Tz3uefsvfZa3332vZDPWevsm6pCkiRJkiSteKsNuwBJkiRJkqYLQ7gkSZIkSY0YwiVJkiRJasQQLkmSJElSI4ZwSZIkSZIaMYRLkiRJktSIIVySJE1pSf41yVHDrkOSpOUh/p1wSZJWXUmuATYDFvdtfnRV/f4+9vmPVfWD+1bdyifJYcAjq+rFw65FkrRyciZckqRV33Orat2+r2UO4MtDkhnDHH9Zrax1S5KmFkO4JEnTUJINknwhybVJfpfk35Os3u3bMskPk/wxyQ1JvpZkw27fMcDmwHeS3Jrkn5LsnuS3I/q/Jske3ePDknwzyVeT3AwcON74o9R6WJKvdo9nJqkkByX5TZI/JXl1kh2SXJbkz0k+03fsgUl+kuTTSW5K8rMkT+vb/+AkJye5McmvkrxyxLj9db8a+Fdgv+7cL+3aHZTkqiS3JFmY5FV9feye5LdJ3prkuu58D+rbv1aSjyX5766+HydZq9v3xCTnded0aZLdR5zXwm7Mq5McMKkfAEnS0PiOriRJ09OXgT8AjwTWAb4L/Ab4PBDgA8C5wPrACcBhwJuq6iVJnkTfcvT+cDiOPYEXAC8F7g8cO874g3gC8ChgN+Bk4FRgD2AN4OIkx1fVOX1tvwlsDOwDnJjk4VV1Y1fHFcCDga2AM5IsrKozx6h7Y5Zejn4d8BxgYVfP95PMraqLuv1/A2wAPAR4OvDNJN+qqj8BHwW2AXYG/rer9e4kDwFOAV7SndvTgBOSbAX8BfgUsENV/TzJg4CNBnzdJElD5ky4JEmrvm91s6l/TvKtJJsBz6QXqm+rquuAjwP7A1TVr6rqjKpaVFXXA/8JPPk+1nB+VX2rqu6mF+zHHH9A76uqv1bV6cBtwLFVdV1V/Q74EfD4vrbXAZ+oqjur6jjg58CzkzwM2BX4566vS4Cj6AXfpequqttHK6SqTqmqX1fPOcDpwJP6mtwJvLcb/3vArcBjkqwGvBx4Y1X9rqoWV9V5VbUIeDHwvar6Xjf2GcA84Fldn3cDj02yVlVdW1VXTOK1kyQNkTPhkiSt+vbqv4lakh3pzRhfm2TJ5tXozUSTZFN6M61PAtbr9v3pPtbwm77HW4w3/oD+0Pf49lGer9v3/Hd17zvR/je9me8HAzdW1S0j9s0Zo+5RJXkm8G7g0fTOY21gQV+TP1bVXX3P/9LVtzGwJvDrUbrdAnhBkuf2bVsDOKuqbkuyH3Ao8IUkPwHeWlU/m6hWSdLwORMuSdL08xtgEbBxVW3Yfa1fVdt0+z8AFLBdVa1Pb1Y2fceP/NMqt9ELngB0n+3eZESb/mMmGn95e0j60j69z7T/vvvaKMl6I/b9boy6l3qe5P70lut/FNisqjYEvse9X6+x3AD8FdhylH2/AY7pe302rKp1quqDAFV1WlU9HXgQ8DPg/w0wniRpCjCES5I0zVTVtfSWTH8syfpJVutuxrZkyfl69JZM/7n7bPLbRnTxB+ARfc9/AayZ5NlJ1gDeSe/z08s6/vK2KXBIkjWSvAD4W3pLvX8DnAd8IMmaSbYDXgF8bZy+/gDM7JaSA9yP3rleD9zVzYo/Y5CiuqX5XwT+s7tB3OpJduqC/VeB5yb5u277mt1N3h6aZLMkz0uyDr03M27l3n+CTpI0hRnCJUmanl5KL0BeSW+p+TfpzaoCvAfYHriJ3s3BThxx7AeAd3afMT+0qm4CXkvv89S/ozcz/lvGN974y9tP6d3E7Qbg/cC+VfXHbt8LgZn0ZsVPAt7dff56LMd33/+Y5KJuKfshwDfonceL6N0oblCH0lu6Phe4EfgQsFr3BsGe9O7Gfj29mfG30fu322rAW7uab6T3ef3XTmJMSdIQ5d4fkZIkSVp1JDmQ3p3cdx12LZIkgTPhkiRJkiQ1YwiXJEmSJKkRl6NLkiRJktSIM+GSJEmSJDViCJckSZIkqZEZwy5Aq56NN964Zs6cOewyJEmSJGko5s+ff0NVbTLaPkO4lruZM2cyb968YZchSZIkSUOR5L/H2udydEmSJEmSGjGES5IkSZLUiCFckiRJkqRGDOGSJEmSJDViCJckSZIkqRFDuCRJkiRJjRjCJUmSJElqxBAuSZIkSVIjhnBJkiRJkhoxhEuSJEmS1IghXJIkSZKkRgzhkiRJkiQ1YgiXJEmSJKkRQ7gkSZIkSY0YwiVJkiRJasQQLkmSJElSI4ZwSZIkSZIaMYRLkiRJktTIjGEXoFXP/PmQLL29qn0tkiRJkjSVOBMuSZIkSVIjhnBJkiRJkhoxhEuSJEmS1IghXJIkSZKkRgzhkiRJkiQ1YgiXJEmSJKkRQ7gkSZIkSY0YwiVJkiRJasQQLkmSJElSI4ZwSZIkSZIaMYRLkiRJktSIIVySJEmSpEYM4ZIkSZIkNWIIlyRJkiSpkaGE8CSLk1zS9/X2xuPvlWTrRmPd2n2fmeTy5dDf0Un2ve+VSZIkSZJamzGkcW+vqllDGhtgL+C7wJWDHpBkRlXdtcIqkiRJkiSt8qbUcvQkOyQ5L8mlSS5Mst4Y7Q5M8q0k30lydZLXJ3lLkouTXJBko67dK5PM7fo7IcnaSXYGngd8pJuF37L7OjXJ/CQ/SrJVd/zRSf4zyVnAh7rnn+pqXNg/I53kbd1YlyV5zwTnuXqSj/S1f9U4bZPkM0muTHIKsGnfvmuSbNw9npPk7O7xYUm+nOT0rs0+ST6cZEF3nmv0Hf8fSc5PMi/J9klOS/LrJK/u2hyTZM++Mb+W5HnjXkhJkiRJ0qiGFcLXGrEcfb8k9wOOA95YVY8D9gBuH6ePxwIvAnYE3g/8paoeD5wPvLRrc2JV7dD1dxXwiqo6DzgZeFtVzaqqXwNHAm+oqtnAocBn+8Z5NLBHVb21e/4gYFfgOcAHAZI8A3hUV8ssYHaS3cap/RXATVW1A7AD8MokDx+j7d7AY4BtgVcCO4/Tb78tgWcDewJfBc6qqm3pvabP7mv3m6raCfgRcDSwL/BE4L3d/qOAg7rz3KAb/3sjB0tycBfk58H1A5YoSZIkSdPLlFmOnmRb4NqqmgtQVTdP0MdZVXULcEuSm4DvdNsXANt1jx+b5N+BDYF1gdNGdpJkXXrB8vgkSzbfv6/J8VW1uO/5t6rqbuDKJJt1257RfV3cPV+XXig/d4zanwFs1zeTvkHX/upR2u4GHNvV8PskPxyjz5G+X1V3JlkArA6c2m1fAMzsa3dy3/Z1+17TvybZsKrOSXJ4kk2BfYATRluWX1VH0nszg2RODVijJEmSJE0rwwrhowkwmfC2qO/x3X3P7+ae8zoa2KuqLk1yILD7KP2sBvx5nM+o3zbOuOn7/oGq+vwghXft31BVS70pMIaxXpe7uGc1w5oj9i0CqKq7k9xZVUv66H99/q8d934NR7Y7BjgA2B94+YA1S5IkSZJGmEqfCf8Z8OAkOwAkWS/JfX2TYD3g2u4z0Af0bb+l27dkxv3qJC/oxk2Sx01ynNOAl3ez6iR5SDdzPF771/R9NvvRSdYZo+25wP7d58gfBDylb981wOzu8fMnWfNkHA28CaCqrliB40iSJEnSKm2qfCb8g1V1B7Af8OkklwJnsPTs7mT9G/DTrq+f9W3/OvC27kZuW9IL6K/oxr2C3ueoB1ZVpwP/BZzfLf/+Jl3IH8NR9O7MflF6f7bs84y9KuEk4Jf0lot/Djinb997gE8m+RGweJRjl4uq+gO9z9R/aUWNIUmSJEnTQe5ZpSyNLsna9N4E2L6qbpq4/ZyCeUtt90dNkiRJ0nSQZH5VzRlt31Rajq4pKMke9FYRfHqQAC5JkiRJGttUujHbUpL8HfChEZuvrqq9h1HPitTdHf6YEZsXVdUThlHPElX1A2DzYdYgSZIkSasKl6NruXM5uiRJkqTpzOXokiRJkiRNAYZwSZIkSZIaMYRLkiRJktSIIVySJEmSpEYM4ZIkSZIkNWIIlyRJkiSpEUO4JEmSJEmNGMIlSZIkSWrEEC5JkiRJUiOGcC13s2dD1dJfkiRJkjTdGcIlSZIkSWrEEC5JkiRJUiOGcEmSJEmSGjGES5IkSZLUiCFckiRJkqRGDOGSJEmSJDViCJckSZIkqRFDuCRJkiRJjcwYdgFa9cyfD8nS26va1yJJkiRJU4kz4ZIkSZIkNWIIlyRJkiSpEUO4JEmSJEmNGMIlSZIkSWrEEC5JkiRJUiOGcEmSJEmSGjGES5IkSZLUiCFckiRJkqRGDOGSJEmSJDViCJckSZIkqRFDuCRJkiRJjRjCJUmSJElqxBAuSZIkSVIjhnBJkiRJkhpZoSE8yeIkl/R9vX059TszyeXLo69lGHvDJK8dsO15K2D8o5Psu7z7lSRJkiSteDNWcP+3V9WsFTxGaxsCrwU+O1HDqtp55LYkq1fV4hVQlyRJkiRpihvKcvQkOyQ5L8mlSS5Mst4Y7VZP8pEkc5NcluRVg7ZJsnuSc5J8I8kvknwwyQHdeAuSbNm12yTJCd3xc5Ps0m0/LMkXk5ydZGGSQ7ohPwhs2c3sfyTJuknOTHJR1++efbXd2lfLWUn+C1gwyHn19ZEkn0lyZZJTgE379l2TZOPu8ZwkZ/fV/uUkp3dt9kny4a6+U5Os0Xf8fyQ5P8m8JNsnOS3Jr5O8umtzzIhz+lqS5014kSVJkiRJS1nRM+FrJbmk7/kHgJOA44D9qmpukvWB28c4/hXATVW1Q5L7Az9JcjpQA7QBeBzwt8CNwELgqKraMckbgTcAbwI+CXy8qn6cZHPgtO4YgK2ApwDrAT9P8jng7cBjl8zwJ5kB7F1VN3eB+IIkJ1dVf40AO3bHXZ3k4NFqrqqrR3kN9gYeA2wLbAZcCXxxjNer35Zd7VsD5wPPr6p/SnIS8GzgW12731TVTkk+DhwN7AKsCVwBHAEcBbwZ+HaSDYCdgZeNHKw7p4N7zzYfoDxJkiRJmn6aL0dPsi1wbVXNBaiqm8c5/hnAdn2fgd4AeBTwiwHa3AHMrapru3F/DSwJ5wvoBVSAPYCtkyzpb/2+mflTqmoRsCjJdfRC8EgB/iPJbsDdwEO6dv87ot2FfSF7rJpHC+G7Acd2S9h/n+SHo7QZzfer6s4kC4DVgVO77QuAmX3tTu7bvm5V3QLckuSvSTasqnOSHJ5kU2Af4ISqumvkYFV1JHAkQDJn5BsQkiRJkiRWfAgfTbj3TPZEbd9QVafda2Myc4A2uwOL+jbd3ff8bu4599WAnarqXrPxXSjvP34xo79eBwCbALO70HsNvZnkkW6bqOZxjPV63cU9HykYOeYigKq6O8mdfTPz/ef+f+249+szst0x9M5zf+DlA9YsSZIkSRphGJ8J/xnw4CQ7ACRZr1vSPZrTgNf0fYb50UnWWYY24zkdeP2SJ0lmTdD+FnrL05fYALiuC+BPAbYYYMzJ1HwusH/3OfIHcc8MPsA1wOzu8fMHGHdZHU1v6T5VdcUKHEeSJEmSVmmtPxN+alW9Pcl+wKeTrEXv8+B7ALeOcvxR9JZOX5Te1PT1wF7L0GY8hwCHJ7mM3utxLvDqsRpX1R+T/CS9P5H2feBDwHeSzAMuofcmw0QmU/NJwFPpLRf/BXBO3773AF9I8q/ATwcYd5lU1R+SXMU9nyOXJEmSJC2DLH3/MOnekqxN702A7avqponbzymYt9R2f9QkSZIkTQdJ5lfVnNH2DeVPlGnlkWQPerP7nx4kgEuSJEmSxjaMG7MtJcnf0VvW3e/qqtp7GPUMQ3fX+GNGbF5UVU8YRj1LVNUP8G+OSZIkSdJy4XJ0LXcuR5ckSZI0nbkcXZIkSZKkKcAQLkmSJElSI4ZwSZIkSZIaMYRLkiRJktSIIVySJEmSpEYM4ZIkSZIkNWIIlyRJkiSpEUO4JEmSJEmNGMIlSZIkSWrEEK7lbvZsqFr6S5IkSZKmO0O4JEmSJEmNGMIlSZIkSWrEEC5JkiRJUiOGcEmSJEmSGjGES5IkSZLUiCFckiRJkqRGDOGSJEmSJDViCJckSZIkqZEZwy5Aq5758yEZrG3Viq1FkiRJkqYSZ8IlSZIkSWrEEC5JkiRJUiOGcEmSJEmSGjGES5IkSZLUiCFckiRJkqRGDOGSJEmSJDViCJckSZIkqRFDuCRJkiRJjRjCJUmSJElqxBAuSZIkSVIjhnBJkiRJkhoxhEuSJEmS1IghXJIkSZKkRgzhkiRJkiQ1MiVDeJJK8rG+54cmOWw59X3r8uhnnP5nJrl8RY4xwfjXJNl4WONLkiRJksY2JUM4sAjYZ1hhMsmMYYwrSZIkSVq1TdUQfhdwJPDmkTuSbJHkzCSXdd8377YfneRzSc5KsjDJk5N8MclVSY4e0cfHklzUHb9Jt+3sJP+R5BzgjUlmJzknyfwkpyV50FjFdm0vTXI+8Lq+7asn+UiSuV29r+q2757k3CQnJbkyyRFJVuv2PSPJ+V19xydZt9t+TZL3dNsXJNmq2/7AJKcnuTjJ54H0jf+trv4rkhzct/3WJO/var4gyWbd9s26mi7tvnbutr84yYVJLkny+SSrT+ZiSpIkSZJ6pmoIBzgcOCDJBiO2fwb4SlVtB3wN+FTfvgcAT6UX3r8DfBzYBtg2yayuzTrARVW1PXAO8O6+4zesqid3fX4a2LeqZgNfBN4/Tq1fAg6pqp1GbH8FcFNV7QDsALwyycO7fTsCbwW2Bbbknpn/dwJ7dPXNA97S198N3fbPAYd2294N/LiqHg+cDGze1/7lXf1zgEOSPLDvNbigqh4HnAu8stv+KeCcbvv2wBVJ/hbYD9ilqmYBi4EDRr4ASQ5OMi/JPLh+nJdKkiRJkqavKbvsuqpuTvIV4BDg9r5dOwH7dI+PAT7ct+87VVVJFgB/qKoFAEmuAGYClwB3A8d17b8KnNh3/JLtjwEeC5yRBGB14NrR6uzeJNiwqs7pq+mZ3eNnANsl2bd7vgHwKOAO4MKqWtj1cSywK/BXYGvgJ9249wPO7xtuSa3z+16D3ZY8rqpTkvypr/0hSfbuHj+sG/uP3fjf7evr6d3jpwIv7fpaDNyU5CXAbGBuV9NawHUjX4eqOpLe6gWSOTXaayVJkiRJ092UDeGdTwAX0ZtpHkt/4FvUfb+77/GS52Oda//xt3XfA1wxysz2aDKij5H73lBVp91rY7L7KMdU1/6MqnrhGP0tOafF3Pt8lhq/G2MPYKeq+kuSs4E1u913VtWSY0b2Ndo5fLmq/mWcNpIkSZKkAUzl5ehU1Y3AN+gt617iPGD/7vEBwI8n2e1qwJKZ6ReNcfzPgU2S7ASQZI0k24xR45/pzRjv2lfTEqcBr0myRtfPo5Os0+3bMcnDu8+C79fVcQGwS5JHdu3XTvLoCc7n3CVjJnkmvSX50Jt1/1MXwLcCnjhBPwBnAq/p+lo9yfrdtn2TbNpt3yjJFgP0JUmSJEkaYUqH8M7HgP67pB8CHJTkMuAlwBsn2d9twDZJ5tNbfv3ekQ2q6g56Qf1DSS6lt4x953H6PAg4vLsxW//S+aOAK4GL0vuzZZ/nnlnn84EPApcDVwMnVdX1wIHAsd35XQBsNcH5vAfYLclF9Ja//0+3/VRgRtfP+7q+JvJG4Cndcv75wDZVdSW9z6mf3vV1BjDmTeokSZIkSWPLPauS1Uq3VPzQqnrOkEtZIXqfCZ83UFt//CRJkiStapLMr6o5o+1bGWbCJUmSJElaJUz1G7NNKUkOB3YZsfmTVTXejeOWUlVnA2cvp7IkSZIkSSsJQ/gkVNXrhl2DJEmSJGnl5XJ0SZIkSZIaMYRLkiRJktSIIVySJEmSpEYM4ZIkSZIkNWIIlyRJkiSpEUO4JEmSJEmNGMIlSZIkSWrEEC5JkiRJUiOGcC13s2dD1WBfkiRJkjSdGMIlSZIkSWrEEC5JkiRJUiOGcEmSJEmSGjGES5IkSZLUiCFckiRJkqRGDOGSJEmSJDViCJckSZIkqRFDuCRJkiRJjcwYdgFa9cyfD8lwa6ga7viSJEmSNBpnwiVJkiRJasQQLkmSJElSI4ZwSZIkSZIaMYRLkiRJktSIIVySJEmSpEYM4ZIkSZIkNWIIlyRJkiSpEUO4JEmSJEmNGMIlSZIkSWrEEC5JkiRJUiOGcEmSJEmSGjGES5IkSZLUiCFckiRJkqRGDOGSJEmSJDViCJckSZIkqRFD+CiSLE5ySZLLkxyfZO1JHDsrybOWcdxbl+U4SZIkSdLKwRA+uturalZVPRa4A3j1IAclmQHMApYphE9F3TlJkiRJkpYDQ/jEfgQ8Mslzk/w0ycVJfpBkM4AkhyU5MsnpwFeA9wL7dTPp+43WYZJ1k3wpyYIklyV5ft++9ye5NMkFfWNskeTMru2ZSTbvth+d5HNJzkqyMMmTk3wxyVVJju7r8xlJzk9yUTezv263/ZokG3eP5yQ5e7RzSrJNkgu7c7osyaNGOaeDk8xLMg+uXw4vuyRJkiStegzh4+hmgZ8JLAB+DDyxqh4PfB34p76ms4E9q+pFwLuA47qZ9OPG6PrfgJuqatuq2g74Ybd9HeCCqnoccC7wym77Z4CvdG2/Bnyqr68HAE8F3gx8B/g4sA2wbbc0fmPgncAeVbU9MA94ywCn339OrwY+WVWzgDnAb0c2rqojq2pOVc2BTQboXpIkSZKmH5caj26tJJd0j38EfAF4DHBckgcB9wOu7mt/clXdPon+9wD2X/Kkqv7UPbwD+G73eD7w9O7xTsA+3eNjgA/39fWdqqokC4A/VNUCgCRXADOBhwJbAz9JQlf7+QPU2H9O5wPvSPJQ4MSq+uWA5ylJkiRJ6mMIH93t3azv/0nyaeA/q+rkJLsDh/Xtvm2S/QeoUbbfWVVLti9m7OvTf+yi7vvdfY+XPJ/R9XNGVb1wlH7u4p7VEGuO2Pd/51RV/5Xkp8CzgdOS/GNV/RBJkiRJ0qS4HH1wGwC/6x6/bJx2twDrTdDX6cDrlzxJ8oAJ2p/HPTPnB9BbGj+oC4BdkjyyG2vtJI/u9l1Db9k5wPNHOXZJfY8AFlbVp4CTge0mMb4kSZIkqWMIH9xhwPFJfgTcME67s4Ctx7sxG/DvwAO6P4F2KfCUCcY+BDgoyWXAS4A3Dlp0VV0PHAgc2x1/AbBVt/s9wCe7c1o8Tjf7AZd3S/S3oncDOkmSJEnSJOWe1c/S8pHMqd7934bHH2tJkiRJw5Jkfu+m1UtzJlySJEmSpEa8MdsKlOQgll46/pOqet0w6pEkSZIkDZchfAWqqi8BXxp2HZIkSZKkqcHl6JIkSZIkNWIIlyRJkiSpEUO4JEmSJEmNGMIlSZIkSWrEEC5JkiRJUiOGcEmSJEmSGjGES5IkSZLUiCFckiRJkqRGDOFa7mbPhqrhfkmSJEnSVGQIlyRJkiSpEUO4JEmSJEmNGMIlSZIkSWrEEC5JkiRJUiOGcEmSJEmSGjGES5IkSZLUiCFckiRJkqRGDOGSJEmSJDUyY9gFaNUzfz4kw65ifFXDrkCSJEnSdORMuCRJkiRJjRjCJUmSJElqxBAuSZIkSVIjhnBJkiRJkhoxhEuSJEmS1IghXJIkSZKkRgzhkiRJkiQ1YgiXJEmSJKkRQ7gkSZIkSY0YwiVJkiRJasQQLkmSJElSI4ZwSZIkSZIaMYRLkiRJktSIIVySJEmSpEYM4ZIkSZIkNWIIH4IkleRjfc8PTXLYEEtaSpIDkzx42HVIkiRJ0qrEED4ci4B9kmw87EJGk2R14EDAEC5JkiRJy5EhfDjuAo4E3jxI4yTPTfLTJBcn+UGSzbrthyU5JskPk/wyySu77bsnOTfJSUmuTHJEktW6fZ9LMi/JFUne0zfGNUneleTHwAuBOcDXklySZK0kH+z6uizJR0ep8eCu33lw/X1+gSRJkiRpVTRj2AVMY4cDlyX58ABtfww8saoqyT8C/wS8tdu3HfBEYB3g4iSndNt3BLYG/hs4FdgH+Cbwjqq6sZvtPjPJdlV1WXfMX6tqV4BunEOral6SjYC9ga26GjYcWWBVHUnvjQWSOTWpV0KSJEmSpglnwoekqm4GvgIcMkDzhwKnJVkAvA3Ypm/ft6vq9qq6ATiLXvgGuLCqFlbVYuBYYNdu+z8kuQi4uOtn676+jhtj/JuBvwJHJdkH+MsANUuSJEmSRjCED9cngFfQm8Uez6eBz1TVtsCrgDX79o2cda6xtid5OHAo8LSq2g44ZURft402eFXdRS/cnwDsRW9mXZIkSZI0SYbwIaqqG4Fv0Avi49kA+F33+GUj9u2ZZM0kDwR2B+Z223dM8vDus+D70VvSvj69oH1T97nyZ44z5i3AegBJ1gU2qKrvAW8CZk14cpIkSZKkpfiZ8OH7GPD6CdocBhyf5HfABcDD+/ZdSG9Ge3PgfVX1+ySPBs4HPghsC5wLnFRVdye5GLgCWAj8ZJwxjwaOSHI7vbD+7SRrAmHAG8pJkiRJku4tVd5Da2XV/W3xW6vqoyO2707vpmrPGUJZ3Y3Z5g1j6IH5Yy9JkiRpRUkyv6rmjLbP5eiSJEmSJDXiTPgUkuQdwAtGbD6+qt4/jHqWlTPhkiRJkqaz8WbCDeFa7gzhkiRJkqYzl6NLkiRJkjQFGMIlSZIkSWrEEC5JkiRJUiOGcEmSJEmSGjGES5IkSZLUiCFckiRJkqRGDOGSJEmSJDViCJckSZIkqRFDuJa72bOhamp/SZIkSdIwGMIlSZIkSWrEEC5JkiRJUiOGcEmSJEmSGjGES5IkSZLUiCFckiRJkqRGDOGSJEmSJDViCJckSZIkqRFDuCRJkiRJjcwYdgFa9cyfD8mwq5icqmFXIEmSJGk6cCZckiRJkqRGDOGSJEmSJDViCJckSZIkqRFDuCRJkiRJjRjCJUmSJElqxBAuSZIkSVIjhnBJkiRJkhoxhEuSJEmS1IghXJIkSZKkRgzhkiRJkiQ1YgiXJEmSJKkRQ7gkSZIkSY0YwiVJkiRJasQQLkmSJElSI4bw+yjJ4iSXJLkiyaVJ3pJktW7f7km+2z3eLMl3uzZXJvlet31mktu7Pq5McsSS40cZa2aSSvK+vm0bJ7kzyWe654cl+V3X35KvDbtabkpycZKfJzk3yXP6+tktyUVJ7kqy74hxP5Tk8u5rv+X/KkqSJEnS9DBj2AWsAm6vqlkASTYF/gvYAHj3iHbvBc6oqk92bbfr2/frqpqVZAbwQ2Av4MQxxlsIPAf4t+75C4ArRrT5eFV9tH9DEoAfVdVzuuezgG8lub2qzgT+BzgQOHTEcc8GtgdmAfcHzkny/aq6eYz6JEmSJEljcCZ8Oaqq64CDgdenS719HgT8tq/tZaMcfxdwHvDIcYa5HbgqyZzu+X7AN5ah1kvovTHw+u75NV1Nd49oujVwTlXdVVW3AZcCfz/Z8SRJkiRJhvDlrqoW0ntdNx2x63DgC0nOSvKOJA8eeWyStYGnAQsmGObrwP5JHgosBn4/Yv+b+5ainzVOPxcBW00w1qXAM5OsnWRj4CnAw0ap/eAk85LMg+sn6FKSJEmSpieXo68YI2fBqarTkjyC3izyM4GLkzy2271lkkuAAr5dVd+foP9TgfcBfwCOG2X/UsvRB61zlLpPT7IDvRn664HzgbtGaXckcCRAMqcGGFuSJEmSph1nwpezLmgvBq4bua+qbqyq/6qqlwBzgd26Xb+uqllV9fiqOmyiMarqDmA+8FbghPtQ7uOBqwYY7/1dfU+nF9x/eR/GlCRJkqRpyxC+HCXZBDgC+ExV1Yh9T+2Wm5NkPWBLejdDW1YfA/65qv64jLVuR+/mbodP0G71JA/sO2Y74PRlGVOSJEmSpjuXo993a3VLydegt0z7GOA/R2k3G/hMkrvovflxVFXNTTJzWQatqitY+q7oS7w5yYv7nu/VfX9SkouBtenN1B/S3Rmdbsn5ScADgOcmeU9VbdOd14+6+8zdDLy4u4GcJEmSJGmSMmLCVrrPep8JnzfsMibFXwNJkiRJy0uS+VU1Z7R9LkeXJEmSJKkRl6NPQUm2pbesvd+iqnrCMOqRJEmSJC0fhvApqKoWALOGXYckSZIkaflyObokSZIkSY0YwiVJkiRJasQQLkmSJElSI4ZwSZIkSZIaMYRLkiRJktSIIVySJEmSpEYM4ZIkSZIkNWIIlyRJkiSpEUO4JEmSJEmNGMK13M2eDVUr15ckSZIktWAIlyRJkiSpEUO4JEmSJEmNGMIlSZIkSWrEEC5JkiRJUiOGcEmSJEmSGjGES5IkSZLUiCFckiRJkqRGDOGSJEmSJDUyY9gFaNUzfz4kw65i+asadgWSJEmSVnbOhEuSJEmS1IghXJIkSZKkRgzhkiRJkiQ1YgiXJEmSJKkRQ7gkSZIkSY0YwiVJkiRJasQQLkmSJElSI4ZwSZIkSZIaMYRLkiRJktSIIVySJEmSpEYM4ZIkSZIkNWIIlyRJkiSpEUO4JEmSJEmNGMIlSZIkSWpkKCE8ycwklzcc79VJXtpqvGWRZE6STy3jsct8fkl2T/LdZTlWkiRJkjQ5M4ZdwHiSrF5Vi+9rP1V1xPKoZ0VJMqOq5gHzluX4qX5+kiRJkqSeCWfCu1nrq5L8vyRXJDk9yVpJZiW5IMllSU5K8oCu/dlJPp7k3O64HZKcmOSXSf69r+sZSb7cHf/NJGt3x1+T5F1Jfgy8IMkzkpyf5KIkxydZd5xar0nyoSQXdl+P7LYfluTQ7vGWSU5NMj/Jj5Js1W3frDuPS7uvnbvtL+76uiTJ55Os3n0dneTyJAuSvHmcms5O8okk53Xtd+yr6cgkpwNf6Z+R7vZ9sTt2YZJD+vp7afeaXZrkmFHOb6zxduy2Xdx9f8wota7TjTu3a7dnt32bvtfgsiSPmuDHRpIkSZI0ikGXoz8KOLyqtgH+DDwf+Arwz1W1HbAAeHdf+zuqajfgCODbwOuAxwIHJnlg1+YxwJHd8TcDr+07/q9VtSvwA+CdwB5VtT29meK3TFDrzVW1I/AZ4BOj7D8SeENVzQYOBT7bbf8UcE5VPQ7YHrgiyd8C+wG7VNUsYDFwADALeEhVPbaqtgW+NEFN61TVzt05frFv+2xgz6p60SjHbAX8HbAj8O4kayTZBngH8NSuzjdOYryfAbtV1eOBdwH/Mcpx7wB+WFU7AE8BPpJkHeDVwCe712AO8NuRByY5OMm8JPPg+jFfCEmSJEmazgZdjn51VV3SPZ4PbAlsWFXndNu+DBzf1/7k7vsC4IqquhYgyULgYfSC/G+q6iddu68ChwAf7Z4f131/IrA18JMkAPcDzp+g1mP7vn+8f0c3i74zcHzXH8D9u+9PBV4K0C2BvynJS+gF5bld+7WA64DvAI9I8mngFOD0QWqqqnOTrJ9kw277yVV1+xjHnFJVi4BFSa4DNutq/GZV3dD1d+MkxlsP+HI3i13AGqMc9wzgeUtm1YE1gc3pvebvSPJQ4MSq+uXIA6vqSHpvcJDMqTHqkiRJkqRpbdAQvqjv8WJgwwHb3z3i2Lv7xhwZ1Pqf39Z9D3BGVb1wwDpH9jNyjNWAP3czuoMI8OWq+peldiSPozdT/TrgH4CXD1hT//PbRjbsM/I1n9HVM0jAHW289wFnVdXeSWYCZ49yXIDnV9XPR2y/KslPgWcDpyX5x6r64QB1SJIkSZL6LOvd0W8C/pTkSd3zlwDnjNN+NJsn2al7/ELgx6O0uQDYpe+z3WsnefQE/e7X9/1es+ZVdTNwdZIXdP2lC9MAZwKv6bavnmT9btu+STbttm+UZIskGwOrVdUJwL/RW74+YU1JdgVuqqqbJmg/ljOBf1iypD/JRpMYbwPgd93+A8c47jTgDemm/ZM8vvv+CGBhVX2K3iqH7ZaxfkmSJEma1u7L3dFfBhyR3g3VFgIHTfL4q4CXJfk88EvgcyMbVNX1SQ4Ejk2yZNn4O4FfjNPv/btZ29XohfuRDgA+l+Sd9JZkfx24lN7nq49M8gp6M8+vqarzu3anJ1kNuJPezPftwJe6bQBLzZSP8Kck5wHrM/6M+biq6ook7wfOSbIYuJjRA/Vo432Y3nL0twBjzWK/j97n6C/rgvg1wHPohfoXJ7kT+F/gvct6DpIkSZI0naVq1fn4bpJrgDlLPjM9FSQ5Gzi0+xNkq9x4o9cwp5bxr61NaavQr4okSZKkFSjJ/KqaM9q+ZV2OLkmSJEmSJum+LEcfmiQnAQ8fsfmfq2rmEMoBIMnhwC4jNn+yqnZvWUfr8SRJkiRJg1spQ3hV7T3sGkaqqtcNuwZJkiRJ0tTmcnRJkiRJkhoxhEuSJEmS1IghXJIkSZKkRgzhkiRJkiQ1YgiXJEmSJKkRQ7gkSZIkSY0YwiVJkiRJasQQLkmSJElSI4ZwSZIkSZIamTHsArTqmT0b5s0bdhWSJEmSNPU4Ey5JkiRJUiOGcEmSJEmSGjGES5IkSZLUiCFckiRJkqRGDOGSJEmSJDViCJckSZIkqRFDuCRJkiRJjRjCJUmSJElqZMawC9CqZ/58SIZdhVqpGnYFkiRJ0srDmXBJkiRJkhoxhEuSJEmS1IghXJIkSZKkRgzhkiRJkiQ1YgiXJEmSJKkRQ7gkSZIkSY0YwiVJkiRJasQQLkmSJElSI4ZwSZIkSZIaMYRLkiRJktSIIVySJEmSpEYM4ZIkSZIkNWIIlyRJkiSpEUO4JEmSJEmNGMKHJMlhSQ5N8t4ke4zTbq8kW6/gWv51RfYvSZIkSeoxhA9ZVb2rqn4wTpO9gBUawoFRQ3h6/BmRJEmSpOXEgNVQknck+XmSHwCP6bYdnWTf7vEHk1yZ5LIkH02yM/A84CNJLkmy5Rj9np3k40nOTXJVkh2SnJjkl0n+va/di5Nc2PX1+SSrJ/kgsFa37WtJZnZ9fBa4CHhYko8kuTzJgiT7rejXSZIkSZJWVTOGXcB0kWQ2sD/weHqv+0XA/L79GwF7A1tVVSXZsKr+nORk4LtV9c0JhrijqnZL8kbg28Bs4Ebg10k+DmwK7AfsUlV3diH7gKp6e5LXV9Wsro6Z9N4gOKiqXpvk+cAs4HHAxsDcJOdW1bUjzu9g4ODes82X6TWSJEmSpFWdM+HtPAk4qar+UlU3AyeP2H8z8FfgqCT7AH+ZZP9L+lsAXFFV11bVImAh8DDgafSC+dwkl3TPHzFGX/9dVRd0j3cFjq2qxVX1B+AcYIeRB1TVkVU1p6rmwCaTLF2SJEmSpgdnwtuqMXdU3ZVkR3rheH/g9cBTJ9H3ou773X2PlzyfAQT4clX9ywB93db3OJOoQZIkSZI0DmfC2zkX2DvJWknWA57bvzPJusAGVfU94E30loAD3AKstxzGPxPYN8mm3XgbJdmi23dnkjXGqXu/7vPjmwC7ARcuh3okSZIkadoxhDdSVRcBxwGXACcAPxrRZD3gu0kuo7fk+83d9q8Db0ty8Vg3Zhtw/CuBdwKnd2OcATyo230kcFmSr41y6EnAZcClwA+Bf6qq/13WOiRJkiRpOkvVmCukpWWSzCmYN+wy1Ij/CZEkSZLuLcn83v2yluZMuCRJkiRJjXhjtpVIksOBXUZs/mRVfWkY9UiSJEmSJscQvhKpqtcNuwZJkiRJ0rJzObokSZIkSY0YwiVJkiRJasQQLkmSJElSI4ZwSZIkSZIaMYRLkiRJktSIIVySJEmSpEYM4ZIkSZIkNWIIlyRJkiSpEUO4JEmSJEmNzBh2AVr1zJ4N8+YNuwpJkiRJmnqcCZckSZIkqRFDuCRJkiRJjRjCJUmSJElqxBAuSZIkSVIjhnBJkiRJkhoxhEuSJEmS1IghXJIkSZKkRgzhkiRJkiQ1MmPYBWjVM38+JMOuQpIkSdKqqmrYFSw7Z8IlSZIkSWrEEC5JkiRJUiOGcEmSJEmSGjGES5IkSZLUiCFckiRJkqRGDOGSJEmSJDViCJckSZIkqRFDuCRJkiRJjRjCJUmSJElqxBAuSZIkSVIjhnBJkiRJkhoxhEuSJEmS1IghXJIkSZKkRgzhkiRJkiQ1YghfhSQ5MMlnxtl/dJJ9W9YkSZIkSbqHIXwlkGT1YdcgSZIkSbrvDOErQJL3JXlj3/P3JzlklHa7Jzk3yUlJrkxyRJLVun23Jnlvkp8COyV5cZILk1yS5PNLgnmSg5L8Isk5wC6TrPHoJKsluSbJe5JclGRBkq26Nocl+WKSs5MsHO0cJEmSJEmDM4SvGF8AXgbQher9ga+N0XZH4K3AtsCWwD7d9nWAy6vqCcAfgf2AXapqFrAYOCDJg4D30AvfTwe2HqS4JB8GNgUOqqq7u803VNX2wOeAQ/uabwX8XVfnu5OsMUafByeZl2QeXD9IGZIkSZI07RjCV4Cqugb4Y5LHA88ALq6qP47R/MKqWlhVi4FjgV277YuBE7rHTwNmA3OTXNI9fwTwBODsqrq+qu4AjhugvH8DNqyqV1VV9W0/sfs+H5jZt/2UqlpUVTcA1wGbjXHOR1bVnKqaA5sMUIYkSZIkTT8zhl3AKuwo4EDgb4AvjtOuxnj+1y6YAwT4clX9S3/DJHuNcvxE5gKzk2xUVTf2bV/UfV/MvX8uFvU9HrlPkiRJkjQJzoSvOCcBfw/sAJw2Trsdkzy8W7a+H/DjUdqcCeybZFOAJBsl2QL4KbB7kgd2y8RfMEBdpwIfBE5Jst7gpyNJkiRJuq+c1VxBquqOJGcBf+6b0R7N+fRC8bbAufTC+8i+rkzyTuD0LqzfCbyuqi5IcljXx7XARcCEd1KvquO7AH5ykmdN8tQkSZIkScso9/5YsJaXLixfBLygqn45RpvdgUOr6jkNS1vhkjkF84ZdhiRJkqRV1FSPsUnm9+6XtTSXo68ASbYGfgWcOVYAlyRJkiRNPy5HXwGq6kp6dy8HIMm2wDEjmi3q/vzY2ct7/CTvYOnPhx9fVe9f3mNJkiRJkgbncnQtdy5HlyRJkrQiTfUY63J0SZIkSZKmAEO4JEmSJEmNGMIlSZIkSWrEEC5JkiRJUiOGcEmSJEmSGjGES5IkSZLUiCFckiRJkqRGDOGSJEmSJDViCJckSZIkqZEZwy5Aq57Zs2HevGFXIUmSJElTjzPhkiRJkiQ1YgiXJEmSJKkRQ7gkSZIkSY0YwiVJkiRJasQQLkmSJElSI4ZwSZIkSZIaMYRLkiRJktSIIVySJEmSpEYM4ZIkSZIkNWIIlyRJkiSpEUO4JEmSJEmNGMIlSZIkSWrEEC5JkiRJUiOGcEmSJEmSGjGES5IkSZLUiCFckiRJkqRGDOGSJEmSJDViCJckSZIkqRFDuCRJkiRJjaSqhl2DVjFJbgF+Puw6tMw2Bm4YdhFaJl67lZfXbuXm9Vt5ee1Wbl6/ldd0uHZbVNUmo+2Y0boSTQs/r6o5wy5CyybJPK/fyslrt/Ly2q3cvH4rL6/dys3rt/Ka7tfO5eiSJEmSJDViCJckSZIkqRFDuFaEI4ddgO4Tr9/Ky2u38vLardy8fisvr93Kzeu38prW184bs0mSJEmS1Igz4ZIkSZIkNWII1zJL8vdJfp7kV0nePsr+JPlUt/+yJNsPo04tbYBrt1WS85MsSnLoMGrU2Aa4fgd0v3OXJTkvyeOGUaeWNsC127O7bpckmZdk12HUqaVNdO362u2QZHGSfVvWp/EN8Lu3e5Kbut+9S5K8axh1ammD/O511++SJFckOad1jRrbAL97b+v7vbu8++/nRsOotSWXo2uZJFkd+AXwdOC3wFzghVV1ZV+bZwFvAJ4FPAH4ZFU9YQjlqs+A125TYAtgL+BPVfXRIZSqUQx4/XYGrqqqPyV5JnCYv3vDN+C1Wxe4raoqyXbAN6pqq6EUrP8zyLXra3cG8Ffgi1X1zda1amkD/u7tDhxaVc8ZRo0a3YDXbkPgPODvq+p/kmxaVdcNo17d26D/7exr/1zgzVX11HZVDocz4VpWOwK/qqqFVXUH8HVgzxFt9gS+Uj0XABsmeVDrQrWUCa9dVV1XVXOBO4dRoMY1yPU7r6r+1D29AHho4xo1ukGu3a11z7vj6wC+Uz41DPL/POi98XwCYACYWga9fpp6Brl2LwJOrKr/gd6/YRrXqLFN9nfvhcCxTSobMkO4ltVDgN/0Pf9tt22ybdSe12XlNtnr9wrg+yu0Ig1qoGuXZO8kPwNOAV7eqDaNb8Jrl+QhwN7AEQ3r0mAG/e/mTkkuTfL9JNu0KU0TGOTaPRp4QJKzk8xP8tJm1WkiA/+bJcnawN/TeyNzlTdj2AVopZVRto2csRmkjdrzuqzcBr5+SZ5CL4T7ueKpYaBrV1UnAScl2Q14H7DHii5MExrk2n0C+OeqWpyM1lxDNMj1uwjYoqpu7T5O9y3gUSu6ME1okGs3A5gNPA1YCzg/yQVV9YsVXZwmNJl/cz4X+ElV3bgC65kyDOFaVr8FHtb3/KHA75ehjdrzuqzcBrp+3eeJjwKeWVV/bFSbxjep372qOjfJlkk2rqobVnh1Gs8g124O8PUugG8MPCvJXVX1rSYVajwTXr+qurnv8feSfNbfvSlh0H9v3lBVtwG3JTkXeBy9zyJruCbz/739mSZL0cHl6Fp2c4FHJXl4kvvR+8U5eUSbk4GXdndJfyJwU1Vd27pQLWWQa6epa8Lrl2Rz4ETgJc4ETCmDXLtHpktx6f1FifsBvokyfBNeu6p6eFXNrKqZwDeB1xrAp4xBfvf+pu93b0d6/0b2d2/4Bvk3y7eBJyWZ0S1pfgJwVeM6NbqB/s2ZZAPgyfSu5bTgTLiWSVXdleT1wGnA6vTuAntFkld3+48Avkfvzui/Av4CHDSsenWPQa5dkr8B5gHrA3cneROwdf9MgYZjwN+9dwEPBD7b/ZvyrqqaM6ya1TPgtXs+vTcv7wRuB/bru1GbhmTAa6cpasDrty/wmiR30fvd29/fveEb5NpV1VVJTgUuA+4Gjqqqy4dXtZaYxH879wZO71YzTAv+iTJJkiRJkhpxObokSZIkSY0YwiVJkiRJasQQLkmSJElSI4ZwSZIkSZIaMYRLkiRJktSIIVySJEmSpEYM4ZIkSZIkNWIIlyRJkiSpkf8P2tV7bIl0xQkAAAAASUVORK5CYII=\n",
=======
      "image/png": "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\n",
>>>>>>> Dev-Lyon
      "text/plain": [
       "<Figure size 1080x576 with 1 Axes>"
      ]
     },
     "metadata": {
      "needs_background": "light"
     },
     "output_type": "display_data"
    }
   ],
   "source": [
    "RF_importances_m = RF_model_m.best_estimator_.named_steps[\"RForest\"].feature_importances_\n",
    "features_importances(RF_importances_m, X_train_rf_m)"
   ]
  },
  {
   "cell_type": "code",
   "execution_count": null,
<<<<<<< HEAD
   "id": "471c31d3",
=======
>>>>>>> Dev-Lyon
   "metadata": {},
   "outputs": [],
   "source": []
  }
 ],
 "metadata": {
  "kernelspec": {
<<<<<<< HEAD
   "display_name": "Python 3 (ipykernel)",
=======
   "display_name": "Python 3",
>>>>>>> Dev-Lyon
   "language": "python",
   "name": "python3"
  },
  "language_info": {
   "codemirror_mode": {
    "name": "ipython",
    "version": 3
   },
   "file_extension": ".py",
   "mimetype": "text/x-python",
   "name": "python",
   "nbconvert_exporter": "python",
   "pygments_lexer": "ipython3",
<<<<<<< HEAD
   "version": "3.9.12"
=======
   "version": "3.7.6"
>>>>>>> Dev-Lyon
  }
 },
 "nbformat": 4,
 "nbformat_minor": 5
}
