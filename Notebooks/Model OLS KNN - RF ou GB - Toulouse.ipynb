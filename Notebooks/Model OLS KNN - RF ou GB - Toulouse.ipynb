{
 "cells": [
  {
   "cell_type": "code",
   "execution_count": 89,
   "id": "13522ab4",
   "metadata": {},
   "outputs": [],
   "source": [
    "import pandas as pd\n",
    "import numpy as np\n",
    "from pandas_profiling import ProfileReport\n",
    "\n",
    "import datetime, warnings, scipy \n",
    "import seaborn as sns\n",
    "\n",
    "import matplotlib as mpl\n",
    "import matplotlib.pyplot as plt\n",
    "import matplotlib.pyplot as plt\n",
    "from matplotlib.pyplot import figure\n",
    "import matplotlib.patches as patches\n",
    "from matplotlib.patches import ConnectionPatch\n",
    "from collections import OrderedDict\n",
    "\n",
    "from matplotlib.gridspec import GridSpec\n",
    "import plotly.graph_objects as go\n",
    "from plotly.subplots import make_subplots\n",
    "import plotly.express as px\n",
    "\n",
    "pd.set_option('display.max_columns', None)\n",
    "pd.options.mode.chained_assignment = None\n",
    "\n",
    "from mpl_toolkits.basemap import Basemap\n",
    "\n",
    "import warnings\n",
    "warnings.filterwarnings(action='once')\n",
    "from geopandas import points_from_xy\n",
    "import geopandas as gdp\n",
    "\n",
    "\n",
    "    # OLS\n",
    "import statsmodels.api as sm\n",
    "    # ML Models\n",
    "from sklearn.neighbors import KNeighborsRegressor\n",
    "from sklearn.ensemble import RandomForestRegressor, GradientBoostingRegressor\n",
    "\n",
    "    # Pipeline & Preprocess\n",
    "from sklearn.pipeline import Pipeline\n",
    "from sklearn.preprocessing import MaxAbsScaler, StandardScaler, MinMaxScaler\n",
    "from sklearn.model_selection import train_test_split, GridSearchCV\n",
    "\n",
    "    # Scores\n",
    "from sklearn.metrics import balanced_accuracy_score, make_scorer, f1_score\n",
    "from sklearn.metrics import roc_auc_score\n",
    "from sklearn.metrics import accuracy_score\n",
    "from sklearn.metrics import mean_absolute_error , r2_score\n",
    "from sklearn.metrics import mean_absolute_percentage_error"
   ]
  },
  {
   "cell_type": "code",
   "execution_count": 90,
   "id": "6dd722fc",
   "metadata": {},
   "outputs": [],
   "source": [
    "\n",
    "# ---------------   OLS    --------------------\n",
    "\n",
    "def model_OLS_prix(data, outcome, features, summary = True) : \n",
    "    X = data[features]\n",
    "    Y = data[outcome]\n",
    "\n",
    "    X = sm.add_constant(X)\n",
    "\n",
    "    model = sm.OLS(Y, X).fit()\n",
    "    \n",
    "    if summary : \n",
    "        print(model.summary())\n",
    "    \n",
    "    return(model)\n",
    "\n",
    "def indice_prix_quarter(model_ols_prix, plot = True) : \n",
    "    indices = model_ols_prix.params[:15]\n",
    "    indices = indices[0] + indices\n",
    "    indices[0] = indices[0]/2\n",
    "    index = indices.index[1:].insert(0, 'quarter_2017_Q3')\n",
    "    indices.index = index\n",
    "    indices\n",
    "\n",
    "    indices_plot = indices.copy()\n",
    "    indices_plot.index = indices_plot.index.str[8:12]+'-'+indices_plot.index.str[13:]\n",
    "    indices_plot.index = pd.to_datetime(indices_plot.index)\n",
    "    indices.index = indices.index.str[8:12]+'_'+indices.index.str[13:]\n",
    "    \n",
    "    if plot : \n",
    "        indices_plot.plot()\n",
    "    \n",
    "    return(indices)\n",
    "\n",
    "def add_indice_prix(data_train, indices) :\n",
    "    # Growth\n",
    "    growth = indices.pct_change()\n",
    "    growth[0] = 0\n",
    "    \n",
    "    growth_cum = growth.copy()\n",
    "    growth_cum[1] = 1+growth_cum[1]\n",
    "    for i in range(1,len(growth)-1) : \n",
    "        growth_cum[i+1] = (growth_cum[i])*(1+growth[i+1])\n",
    "    growth_cum[0] = 1\n",
    "    \n",
    "    df_growth = pd.DataFrame(growth_cum).reset_index()\n",
    "    df_growth.columns  = ['quarter', 'pct_change']\n",
    "    \n",
    "    df_growth['pct_change_toQ1_2021'] = df_growth.iloc[14,1]-df_growth['pct_change']\n",
    "    \n",
    "    # Merge with data\n",
    "    data = data_train.copy()\n",
    "    data = data.merge(df_growth, on = 'quarter', how = 'left')\n",
    "    data['Prix_m2_actualise_Q1_2021'] = data['Prix_m2']*(1+data['pct_change_toQ1_2021'])\n",
    "    \n",
    "    return(data)\n",
    "\n",
    "# -------------    KNN   ------------------ #\n",
    "\n",
    "def model_KNN_coordinates(df_train, df_test, features,\n",
    "                          label_train, label_test,\n",
    "                          standardization, type_weights, max_nn, nb_cv) :\n",
    "        # X datasets\n",
    "    X_train_knn = df_train[features]\n",
    "    X_test_knn = df_test[features]\n",
    "        # outcomes\n",
    "    y_train = df_train[label_train]\n",
    "    y_test = df_test[label_test]\n",
    "\n",
    "        # pipeline for the model\n",
    "    pipe = Pipeline([('scaler', standardization), ('Knn', KNeighborsRegressor(weights=type_weights))])\n",
    "    parameters = {'Knn__n_neighbors': range(1, max_nn, 2)} \n",
    "    knn_pipe = GridSearchCV(pipe, parameters, cv=nb_cv)\n",
    "    knn_pipe.fit(X_train_knn, y_train)\n",
    "\n",
    "    print('Returned hyperparameter: {}'.format(knn_pipe.best_params_))\n",
    "\n",
    "    return(knn_pipe)\n",
    "\n",
    "def model_RF_post_KNN(df_test, df_train, features_RF, features_KNN, label_train, label_test,\n",
    "                      model_knn, standardisation, range_depth, nb_cv) :\n",
    "    X_train_rf = df_train[features_RF]\n",
    "    X_train_rf['y_pred_knn'] = model_knn.predict(df_train[features_KNN])\n",
    "    X_test_rf = df_test[features_RF]\n",
    "    X_test_rf['y_pred_knn'] = model_knn.predict(df_test[features_KNN])\n",
    "        # outcomes\n",
    "    y_train = df_train[label_train]\n",
    "    y_test = df_test[label_test]\n",
    "\n",
    "        # Model\n",
    "    pipe = Pipeline([('scaler', standardisation), ('RForest', RandomForestRegressor())])\n",
    "    parameters = {'RForest__max_depth': range_depth} # defining parameter space\n",
    "    rforest_pipe = GridSearchCV(pipe, parameters, cv=nb_cv)\n",
    "    rforest_pipe.fit(X_train_rf, y_train)\n",
    "\n",
    "    return(rforest_pipe)\n",
    "\n",
    "\n",
    "def features_importances(model_importances, X_train_model) :\n",
    "    #X_train_model = df_train[features_model]\n",
    "    indices = np.argsort(model_importances)[::-1]\n",
    "    columns = X_train_model.columns\n",
    "    # plot\n",
    "    nb_features = X_train_model.shape[1]\n",
    "    plt.figure(figsize=(15, 8))\n",
    "    plt.title(\"Feature importances\")\n",
    "    plt.barh(\n",
    "        range(nb_features),\n",
    "        model_importances[indices],\n",
    "        color='b')\n",
    "    plt.yticks(range(nb_features), columns[indices], rotation='horizontal', size=10)\n",
    "    plt.show()\n",
    "    \n",
    "   \n",
    "\n",
    "# -------------   SCORES   ---------------- #\n",
    "\n",
    "def MAPE(Y_actual, Y_Predicted):\n",
    "    mape = np.mean(np.abs((Y_actual - Y_Predicted)/Y_actual))*100\n",
    "    return mape\n",
    "\n",
    "def MDAPE(Y_actual, Y_Predicted):\n",
    "    mdape = np.median(np.abs((Y_actual - Y_Predicted)/Y_actual))*100\n",
    "    return mdape\n",
    "\n",
    "def compute_scores(model, X_test, y_test) :\n",
    "    y_pred = model.predict(X_test)\n",
    "\n",
    "    mape = MAPE(y_test, y_pred)\n",
    "    mdape = MDAPE(y_test, y_pred)\n",
    "    \n",
    "    print(\"MAPE: \", mape)\n",
    "    print(\"MDAPE: \", mdape)\n"
   ]
  },
  {
   "cell_type": "code",
   "execution_count": 91,
   "id": "41dcc435",
   "metadata": {},
   "outputs": [
    {
     "name": "stderr",
     "output_type": "stream",
     "text": [
      "<>:51: DeprecationWarning: invalid escape sequence \\i\n"
     ]
    }
   ],
   "source": [
    "import pandas as pd\n",
    "import numpy as np\n",
    "import datetime, warnings, scipy \n",
    "from sklearn.preprocessing import StandardScaler\n",
    "from statsmodels.stats.outliers_influence import variance_inflation_factor\n",
    "\n",
    "def Process_data(data, quantile_low, quantile_high):    \n",
    "    \n",
    "    #we remove the extreme 5 % values of price per meter_square\n",
    "    Threshold_up = data.groupby(['iris_code','quarter'])['Prix_m2'].quantile(quantile_high).reset_index()\n",
    "    Threshold_down = data.groupby(['iris_code','quarter'])['Prix_m2'].quantile(quantile_low).reset_index()\n",
    "\n",
    "    df_comune ={'iris_code':Threshold_up['iris_code'], 'Threshold_up_iris': Threshold_up['Prix_m2'] , \n",
    "            'Threshold_down_iris':Threshold_down['Prix_m2'] , 'quarter': Threshold_down['quarter']}\n",
    "    df_comune = pd.DataFrame(df_comune)\n",
    "\n",
    "    df_process = pd.merge(data, df_comune ,how='inner', on=['iris_code','quarter'])\n",
    "\n",
    "    df_final = df_process[(df_process['Prix_m2'] < df_process['Threshold_up_iris']) \n",
    "                      & (df_process['Prix_m2'] > df_process['Threshold_down_iris'])]\n",
    "    \n",
    "    df_final=df_final.drop(['Threshold_up_iris','Threshold_down_iris'],axis = 1)\n",
    "    \n",
    "    return df_final\n",
    "\n",
    "def Process_data_2(data):    \n",
    "    \n",
    "    #we remove the extreme 5 % values of price per meter_square\n",
    "    data['Threshold_up'] = data['Pris_m2_moy_iris'] + data['std']\n",
    "    data['Threshold_down'] = data['Pris_m2_moy_iris'] - data['std']\n",
    "\n",
    "\n",
    "    df_final = data[(data['Prix_m2'] < data['Threshold_up']) \n",
    "                      & (data['Prix_m2'] > data['Threshold_down'])]\n",
    "    \n",
    "    df_final=df_final.drop(['Threshold_up','Threshold_down'],axis = 1)\n",
    "    \n",
    "    return df_final\n",
    "\n",
    "\n",
    "# Mettre les variables de la liste_var en log dans le dataframe data\n",
    "def log_var(data, liste_vars) : \n",
    "    for variable in liste_vars :\n",
    "        new_variable = variable + '_log'\n",
    "        data[new_variable] = np.log(data[variable])\n",
    "        \n",
    "    \n",
    "\n",
    "# Filtre pour garder les données pertinentes pour le modèle\n",
    "def filtre_data_pour_model(data, ville, type_local, quantile_low = None, quantile_high = None) :\n",
    "    '''\n",
    "    data : DataFrame (celui a nettoyer)\n",
    "    ville : str ('Paris', 'Lyon', ...)\n",
    "    type_local : int (1 : Maison / 2 : Appartement)\n",
    "    quantile_low : int (\\in [0, 1])\n",
    "    quantile_high : int (\\in [0, 1])\n",
    "    output : DataFrame (nettoyé)\n",
    "    '''\n",
    "    data_model = data.copy()\n",
    "    \n",
    "    \n",
    "    if quantile_low :\n",
    "        min_prix = np.quantile(data.Prix_m2, quantile_low)\n",
    "        data_model = data_model[data_model.Prix_m2 > min_prix]\n",
    "    if quantile_high :\n",
    "        max_prix = np.quantile(data.Prix_m2, quantile_high)\n",
    "        data_model = data_model[data_model.Prix_m2 < max_prix]\n",
    "        \n",
    "    data_model = data_model[(data_model['bv2012_name'] == \"['\" + ville + \"']\")\n",
    "                     & (data_model.code_type_local == type_local)]\n",
    "    \n",
    "    return(data_model)\n",
    "\n",
    "\n",
    "def filter_quantile(data, var, quantile_low, quantile_high) :\n",
    "    '''\n",
    "    data : DataFrame (celui a nettoyer)\n",
    "    ville : str ('Paris', 'Lyon', ...)\n",
    "    type_local : int (1 : Maison / 2 : Appartement)\n",
    "    quantile_low : int (\\in [0, 1])\n",
    "    quantile_high : int (\\in [0, 1])\n",
    "    output : DataFrame (nettoyé)\n",
    "    '''\n",
    "    data_model = data.copy()\n",
    "    \n",
    "    if quantile_low :\n",
    "        min_prix = np.quantile(data[var], quantile_low)\n",
    "        data_model = data_model[data_model[var] > min_prix]\n",
    "    if quantile_high :\n",
    "        max_prix = np.quantile(data[var], quantile_high)\n",
    "        data_model = data_model[data_model[var] < max_prix]\n",
    "    \n",
    "    return(data_model)\n",
    "\n",
    "\n",
    "# Premier split temporel avec toutes la bases de données,\n",
    "# Les 20 derniers pourcent de la base sont dans l'éch de test\n",
    "# Le reste sert d'apprentissage\n",
    "def split_temporel_V1(data, liste_features, output) :\n",
    "    '''\n",
    "    data : DataFrame (sur lequel on veut faire le split\n",
    "    liste_features : list (des variables explicatives)\n",
    "    output : str\n",
    "    output : 4 DataFrame (X_train, X_test, y_train, y_test)\n",
    "    '''\n",
    "    # Trier la base par date\n",
    "    data = data.sort_values('date_mutation')\n",
    "\n",
    "    # Choix les variables du modèles\n",
    "    X = data[liste_features]\n",
    "    y = data[output]\n",
    "    \n",
    "    # Shuffle = False pour garder les dernières obs en test\n",
    "    X_train, X_test, y_train, y_test = train_test_split(X, y, test_size=0.20, shuffle=False)\n",
    "    return(X_train, X_test, y_train, y_test)\n",
    "\n",
    "    \n",
    "#Split le dataset entre appartements et maisons\n",
    "def split_appart_maison(data): \n",
    "    df_maison = data[data['code_type_local']==1]\n",
    "    df_appart = data[data['code_type_local']==2]\n",
    "    print(f\"Nombre de maisons : {df_maison.shape[0]}\")\n",
    "    print(f\"Nombre d'apparts : {df_appart.shape[0]}\")\n",
    "    return(df_maison, df_appart)\n",
    "\n",
    "\n",
    "def zTransform (data, liste_vars, prix) : \n",
    "    scaler = StandardScaler()\n",
    "    liste_vars.append(prix)\n",
    "    scaler.fit(data[liste_vars])\n",
    "    print(scaler.mean_)\n",
    "    data[liste_vars] = scaler.transform(data[liste_vars])\n",
    "    \n",
    "\n",
    "def nb_iris (data, path, dep_code):\n",
    "    IRIS = pd.read_excel(path, header = 5)[['CODE_IRIS', 'DEP']]\n",
    "    IRIS_ville = IRIS[IRIS[\"DEP\"] == dep_code]\n",
    "    IRIS_ville = IRIS_ville['CODE_IRIS'].tolist()\n",
    "    iris_df = data['iris_code'].unique().tolist()\n",
    "\n",
    "    list_dif = [i for i in IRIS_ville + iris_df if i in IRIS_ville and i not in iris_df]\n",
    "    print(f\"Length of all Paris IRIS : {len(IRIS_ville)}\")\n",
    "    print(f\"Length of IRIS in DF : {len(iris_df)}\")\n",
    "    print(f\"Number of IRIS not in DF : {len(list_dif)}\")\n",
    "    \n",
    "\n",
    "# Ajouter des indicatrices si la variable continue dépasse un seuil\n",
    "def dummies_pr_var_continues(data, var, seuil) :\n",
    "    '''\n",
    "    data : DataFrame\n",
    "    var : str\n",
    "    seuil : int / float\n",
    "    output : None\n",
    "    '''\n",
    "    var_dummy = var + '_dummy'\n",
    "    data[var_dummy] = 0\n",
    "    data.loc[data[var] > seuil, var_dummy] = 1\n",
    "    \n",
    "    \n",
    "def filling_factor(data) : \n",
    "    '''\n",
    "    Output : Table des pourcentages de remplissage des variables\n",
    "    '''\n",
    "    missing_df = data.isnull().sum(axis=0).reset_index()\n",
    "    missing_df.columns = ['variable', 'missing values']\n",
    "    missing_df['filling factor (%)']=(data.shape[0]-missing_df['missing values'])/data.shape[0]*100\n",
    "    missing_df.sort_values('filling factor (%)').reset_index(drop = True)\n",
    "    return(missing_df)\n",
    "\n",
    "\n",
    "def calc_vif(X):\n",
    "    '''\n",
    "    Output : Table des VIF des variables\n",
    "    '''\n",
    "    vif = pd.DataFrame()\n",
    "    vif[\"variables\"] = X.columns\n",
    "    vif[\"VIF\"] = [variance_inflation_factor(X.values, i) \n",
    "    for i in range(X.shape[1])]\n",
    "    return(vif)\n"
   ]
  },
  {
   "cell_type": "markdown",
   "id": "6326fe75",
   "metadata": {},
   "source": [
    "### Data"
   ]
  },
  {
   "cell_type": "code",
   "execution_count": 158,
   "id": "7d21e6f0",
   "metadata": {},
   "outputs": [],
   "source": [
    "df = pd.read_csv('./df_Toulouse_appartement_vf.csv',low_memory=False)"
   ]
  },
  {
   "cell_type": "code",
   "execution_count": 159,
   "id": "c0463fa7",
   "metadata": {},
   "outputs": [],
   "source": [
    "dfm = pd.read_csv('./df_Toulouse_maison_vf.csv',low_memory=False)"
   ]
  },
  {
   "cell_type": "code",
   "execution_count": 160,
   "id": "4551ba91",
   "metadata": {},
   "outputs": [],
   "source": [
    "list_dist_metro_dummies = []\n",
    "for i in range(0,df.shape[0]):\n",
    "    if df['dist_metro'].iloc[i] <= 200 :\n",
    "        a = 0\n",
    "    elif (df['dist_metro'].iloc[i] <= 500) & (df['dist_metro'].iloc[i] > 200) :\n",
    "        a = 1\n",
    "    elif (df['dist_metro'].iloc[i] > 500) & (df['dist_metro'].iloc[i] <= 1000) :\n",
    "        a = 2\n",
    "    else:\n",
    "        a = 3\n",
    "    list_dist_metro_dummies.append(a)\n",
    "df['dist_metro_dummies'] = list_dist_metro_dummies"
   ]
  },
  {
   "cell_type": "markdown",
   "id": "88f23e40",
   "metadata": {},
   "source": [
    "### OLS"
   ]
  },
  {
   "cell_type": "code",
   "execution_count": 162,
   "id": "03f7bf42",
   "metadata": {},
   "outputs": [],
   "source": [
    "#dummies_pr_var_continues(df, 'dist_metro', 200)\n",
    "dummies_pr_var_continues(df, 'Nombre_dependance', 0)\n",
    "dummies_pr_var_continues(df, 'Ec_maternelle', 0)\n",
    "dummies_pr_var_continues(df, 'Ec_elementaire', 0)"
   ]
  },
  {
   "cell_type": "code",
   "execution_count": 164,
   "id": "d466b5cb",
   "metadata": {},
   "outputs": [],
   "source": [
    "df_train = df[df['date_mutation'] < '2021-04-01']\n",
    "df_test = df[df['date_mutation'] >= '2021-04-01']"
   ]
  },
  {
   "cell_type": "code",
   "execution_count": 165,
   "id": "9ea4c0e9",
   "metadata": {},
   "outputs": [],
   "source": [
    "df_train = pd.concat([df_train, pd.get_dummies(df_train[['quarter']])], axis = 1)"
   ]
  },
  {
   "cell_type": "code",
   "execution_count": 166,
   "id": "b6bfb41a",
   "metadata": {},
   "outputs": [],
   "source": [
    "df_train['n_pieces_BienStandard'] = df_train['nombre_pieces_principales']-3\n",
    "df_train['n_dependances_BienStandard'] = df_train['Nombre_dependance']"
   ]
  },
  {
   "cell_type": "code",
   "execution_count": 167,
   "id": "8dc141da",
   "metadata": {},
   "outputs": [],
   "source": [
    "features_ols = ['quarter_2017_Q4', 'quarter_2018_Q1', 'quarter_2018_Q2', 'quarter_2018_Q3',\n",
    "'quarter_2018_Q4', 'quarter_2019_Q1', 'quarter_2019_Q2',\n",
    "'quarter_2019_Q3', 'quarter_2019_Q4', 'quarter_2020_Q1','quarter_2020_Q2', \n",
    "'quarter_2020_Q3', 'quarter_2020_Q4','quarter_2021_Q1',\n",
    "'n_pieces_BienStandard', 'n_dependances_BienStandard']\n",
    "outcome = 'Prix_m2'"
   ]
  },
  {
   "cell_type": "code",
   "execution_count": 168,
   "id": "c591fa2f",
   "metadata": {},
   "outputs": [
    {
     "name": "stdout",
     "output_type": "stream",
     "text": [
      "                            OLS Regression Results                            \n",
      "==============================================================================\n",
      "Dep. Variable:                Prix_m2   R-squared:                       0.104\n",
      "Model:                            OLS   Adj. R-squared:                  0.103\n",
      "Method:                 Least Squares   F-statistic:                     142.4\n",
      "Date:                Thu, 30 Mar 2023   Prob (F-statistic):               0.00\n",
      "Time:                        19:33:56   Log-Likelihood:            -1.6238e+05\n",
      "No. Observations:               19709   AIC:                         3.248e+05\n",
      "Df Residuals:                   19692   BIC:                         3.249e+05\n",
      "Df Model:                          16                                         \n",
      "Covariance Type:            nonrobust                                         \n",
      "==============================================================================================\n",
      "                                 coef    std err          t      P>|t|      [0.025      0.975]\n",
      "----------------------------------------------------------------------------------------------\n",
      "const                       2961.5797     26.312    112.555      0.000    2910.005    3013.154\n",
      "quarter_2017_Q4                5.0968     36.216      0.141      0.888     -65.890      76.084\n",
      "quarter_2018_Q1               20.9137     36.811      0.568      0.570     -51.240      93.067\n",
      "quarter_2018_Q2               78.2727     36.838      2.125      0.034       6.067     150.478\n",
      "quarter_2018_Q3              133.2600     34.861      3.823      0.000      64.930     201.590\n",
      "quarter_2018_Q4              168.8167     35.336      4.778      0.000      99.556     238.077\n",
      "quarter_2019_Q1              171.6317     35.693      4.809      0.000     101.671     241.592\n",
      "quarter_2019_Q2              137.5225     35.165      3.911      0.000      68.596     206.449\n",
      "quarter_2019_Q3              261.9251     34.259      7.645      0.000     194.774     329.076\n",
      "quarter_2019_Q4              278.1257     34.143      8.146      0.000     211.202     345.049\n",
      "quarter_2020_Q1              353.3681     35.432      9.973      0.000     283.918     422.819\n",
      "quarter_2020_Q2              534.8764     36.009     14.854      0.000     464.296     605.457\n",
      "quarter_2020_Q3              589.0713     35.941     16.390      0.000     518.624     659.519\n",
      "quarter_2020_Q4              559.8235     34.607     16.177      0.000     491.992     627.655\n",
      "quarter_2021_Q1              507.5567     36.246     14.003      0.000     436.511     578.602\n",
      "n_pieces_BienStandard       -152.3170      6.082    -25.044      0.000    -164.238    -140.396\n",
      "n_dependances_BienStandard  -238.5607      9.837    -24.250      0.000    -257.843    -219.278\n",
      "==============================================================================\n",
      "Omnibus:                     1169.508   Durbin-Watson:                   0.651\n",
      "Prob(Omnibus):                  0.000   Jarque-Bera (JB):             1468.433\n",
      "Skew:                           0.581   Prob(JB):                         0.00\n",
      "Kurtosis:                       3.662   Cond. No.                         22.6\n",
      "==============================================================================\n",
      "\n",
      "Notes:\n",
      "[1] Standard Errors assume that the covariance matrix of the errors is correctly specified.\n"
     ]
    }
   ],
   "source": [
    "model = model_OLS_prix(df_train, 'Prix_m2', features_ols, summary = True)"
   ]
  },
  {
   "cell_type": "code",
   "execution_count": 169,
   "id": "68d462ba",
   "metadata": {},
   "outputs": [
    {
     "data": {
      "image/png": "[encoded data removed]",
      "text/plain": [
       "<Figure size 432x288 with 1 Axes>"
      ]
     },
     "metadata": {
      "needs_background": "light"
     },
     "output_type": "display_data"
    }
   ],
   "source": [
    "df_train = add_indice_prix(df_train, indice_prix_quarter(model, plot = True))"
   ]
  },
  {
   "cell_type": "markdown",
   "id": "1ec3764f",
   "metadata": {},
   "source": [
    "### KNN"
   ]
  },
  {
   "cell_type": "code",
   "execution_count": 170,
   "id": "2dc28720",
   "metadata": {},
   "outputs": [],
   "source": [
    "    # Dependant variables : cooridnates\n",
    "features_knn = ['latitude', 'longitude']\n",
    "    # Output\n",
    "label_train = 'Prix_m2_actualise_Q1_2021'\n",
    "label_test = 'Prix_m2'"
   ]
  },
  {
   "cell_type": "code",
   "execution_count": 171,
   "id": "796d85b1",
   "metadata": {},
   "outputs": [
    {
     "name": "stdout",
     "output_type": "stream",
     "text": [
      "Returned hyperparameter: {'Knn__n_neighbors': 23}\n"
     ]
    }
   ],
   "source": [
    "knn_pipe = model_KNN_coordinates(df_train, df_test, features_knn,\n",
    "                          label_train, label_test,\n",
    "                          MinMaxScaler(), 'uniform', 25, 5)"
   ]
  },
  {
   "cell_type": "code",
   "execution_count": 172,
   "id": "5f1b9aed",
   "metadata": {},
   "outputs": [
    {
     "name": "stdout",
     "output_type": "stream",
     "text": [
      "MAPE:  11.593018937862725\n",
      "MDAPE:  9.174631173729322\n"
     ]
    }
   ],
   "source": [
    "    # Scores on TRAIN dataset\n",
    "compute_scores(knn_pipe, df_train[features_knn], df_train[label_train])"
   ]
  },
  {
   "cell_type": "code",
   "execution_count": 173,
   "id": "fb95727d",
   "metadata": {},
   "outputs": [
    {
     "name": "stdout",
     "output_type": "stream",
     "text": [
      "MAPE:  12.101562365803579\n",
      "MDAPE:  10.247081918815429\n"
     ]
    }
   ],
   "source": [
    "    # Scores on TEST dataset\n",
    "compute_scores(knn_pipe, df_test[features_knn], df_test[label_test])"
   ]
  },
  {
   "cell_type": "markdown",
   "id": "763aae19",
   "metadata": {},
   "source": [
    "### RF"
   ]
  },
  {
   "cell_type": "code",
   "execution_count": 273,
   "id": "64b5e510",
   "metadata": {},
   "outputs": [],
   "source": [
    "features_RF = [#'Nombre_dependance', \n",
    "               'Nombre_dependance', 'dist_metro',\n",
    "               #'dist_metro', \n",
    "               'nombre_pieces_principales',\n",
    "               #'Ec_elementaire', 'Ec_maternelle',\n",
    "               'Ec_elementaire', 'Ec_maternelle',\n",
    "               'N_apparts', \n",
    "               'DISP_MED19', \n",
    "               'Part_chomeurs', \n",
    "               #'P19_LOG','P19_RP_SDB','P19_RP_CCCOLL',\n",
    "               #'P19_RP_CCIND','P19_RP_CINDELEC'\n",
    "]"
   ]
  },
  {
   "cell_type": "code",
   "execution_count": 274,
   "id": "156e803e",
   "metadata": {},
   "outputs": [],
   "source": [
    "RF_model = model_RF_post_KNN(df_test, df_train, features_RF, features_knn, label_train, label_test,\n",
    "                      model_knn = knn_pipe, standardisation = StandardScaler(), range_depth = [1, 1000], nb_cv = 5)"
   ]
  },
  {
   "cell_type": "code",
   "execution_count": 275,
   "id": "4e4073aa",
   "metadata": {},
   "outputs": [
    {
     "name": "stdout",
     "output_type": "stream",
     "text": [
      "MAPE:  11.748786182123853\n",
      "MDAPE:  9.826000319464448\n"
     ]
    }
   ],
   "source": [
    "X_train_rf = df_train[features_RF]\n",
    "X_train_rf['y_pred_knn'] = knn_pipe.predict(df_train[features_knn])\n",
    "X_test_rf = df_test[features_RF]\n",
    "X_test_rf['y_pred_knn'] = knn_pipe.predict(df_test[features_knn])\n",
    "compute_scores(RF_model, X_test_rf, df_test[label_test])"
   ]
  },
  {
   "cell_type": "code",
   "execution_count": 276,
   "id": "4eab9816",
   "metadata": {},
   "outputs": [
    {
     "data": {
      "image/png": "[encoded data removed]",
      "text/plain": [
       "<Figure size 1080x576 with 1 Axes>"
      ]
     },
     "metadata": {
      "needs_background": "light"
     },
     "output_type": "display_data"
    }
   ],
   "source": [
    "RF_importances = RF_model.best_estimator_.named_steps[\"RForest\"].feature_importances_\n",
    "features_importances(RF_importances, X_train_rf)"
   ]
  },
  {
   "cell_type": "code",
   "execution_count": 124,
   "id": "7748af20",
   "metadata": {},
   "outputs": [
    {
     "name": "stdout",
     "output_type": "stream",
     "text": [
      "MAPE:  11.783811368110262\n",
      "MDAPE:  9.895061662740455\n"
     ]
    }
   ],
   "source": [
    "pipe = Pipeline([('scaler', StandardScaler()), ('GBoost', GradientBoostingRegressor())])\n",
    "parameters = {'GBoost__n_estimators': [50, 100, 150, 250, 500]} # defining parameter space\n",
    "gboost_pipe = GridSearchCV(pipe, parameters, cv=5)\n",
    "gboost_pipe.fit(X_train_rf, df_train[label_train])\n",
    "\n",
    "compute_scores(gboost_pipe, X_test_rf, df_test[label_test])"
   ]
  },
  {
   "cell_type": "markdown",
   "id": "e76e1ab8",
   "metadata": {},
   "source": [
    "### Maison"
   ]
  },
  {
   "cell_type": "markdown",
   "id": "1b30ee1a",
   "metadata": {},
   "source": [
    "### OLS"
   ]
  },
  {
   "cell_type": "code",
   "execution_count": 200,
   "id": "317901cd",
   "metadata": {},
   "outputs": [],
   "source": [
    "#dummies_pr_var_continues(dfm, 'dist_metro', 0.01)\n",
    "dummies_pr_var_continues(dfm, 'Nombre_dependance', 0)\n",
    "dummies_pr_var_continues(dfm, 'Ec_maternelle', 0)\n",
    "dummies_pr_var_continues(dfm, 'Ec_elementaire', 0)\n",
    "\n",
    "df_train_m = dfm[dfm['date_mutation'] < '2021-04-01']\n",
    "df_test_m = dfm[dfm['date_mutation'] >= '2021-04-01']\n",
    "\n",
    "df_train_m = pd.concat([df_train_m, pd.get_dummies(df_train_m[['quarter']])], axis = 1)\n",
    "df_train_m['n_pieces_BienStandard'] = df_train_m['nombre_pieces_principales']- 4 #4c'est le nombre le plus frequent\n",
    "df_train_m['n_dependances_BienStandard'] = df_train_m['Nombre_dependance']\n",
    "\n",
    "features_ols = ['quarter_2017_Q4', 'quarter_2018_Q1', 'quarter_2018_Q2', 'quarter_2018_Q3',\n",
    "'quarter_2018_Q4', 'quarter_2019_Q1', 'quarter_2019_Q2',\n",
    "'quarter_2019_Q3', 'quarter_2019_Q4', 'quarter_2020_Q1','quarter_2020_Q2', \n",
    "'quarter_2020_Q3', 'quarter_2020_Q4','quarter_2021_Q1',\n",
    "'n_pieces_BienStandard', 'n_dependances_BienStandard']\n",
    "outcome = 'Prix_m2'\n",
    "\n",
    "list_dist_metro_dummies = []\n",
    "for i in range(0,dfm.shape[0]):\n",
    "    if dfm['dist_metro'].iloc[i] <= 200 :\n",
    "        a = 0\n",
    "    elif (dfm['dist_metro'].iloc[i] <= 500) & (dfm['dist_metro'].iloc[i] > 200) :\n",
    "        a = 1\n",
    "    elif (dfm['dist_metro'].iloc[i] > 500) & (dfm['dist_metro'].iloc[i] <= 1000) :\n",
    "        a = 2\n",
    "    else:\n",
    "        a = 3\n",
    "    list_dist_metro_dummies.append(a)\n",
    "dfm['dist_metro_dummies'] = list_dist_metro_dummies\n"
   ]
  },
  {
   "cell_type": "code",
   "execution_count": 201,
   "id": "d7de6f5b",
   "metadata": {},
   "outputs": [
    {
     "name": "stdout",
     "output_type": "stream",
     "text": [
      "                            OLS Regression Results                            \n",
      "==============================================================================\n",
      "Dep. Variable:                Prix_m2   R-squared:                       0.033\n",
      "Model:                            OLS   Adj. R-squared:                  0.026\n",
      "Method:                 Least Squares   F-statistic:                     4.966\n",
      "Date:                Thu, 30 Mar 2023   Prob (F-statistic):           3.28e-10\n",
      "Time:                        19:40:30   Log-Likelihood:                -19152.\n",
      "No. Observations:                2336   AIC:                         3.834e+04\n",
      "Df Residuals:                    2319   BIC:                         3.844e+04\n",
      "Df Model:                          16                                         \n",
      "Covariance Type:            nonrobust                                         \n",
      "==============================================================================================\n",
      "                                 coef    std err          t      P>|t|      [0.025      0.975]\n",
      "----------------------------------------------------------------------------------------------\n",
      "const                       2967.9014     67.566     43.926      0.000    2835.405    3100.398\n",
      "quarter_2017_Q4              102.3037     96.983      1.055      0.292     -87.878     292.485\n",
      "quarter_2018_Q1              113.3133    102.329      1.107      0.268     -87.353     313.980\n",
      "quarter_2018_Q2              131.1472    100.945      1.299      0.194     -66.805     329.099\n",
      "quarter_2018_Q3               79.6037     92.769      0.858      0.391    -102.316     261.523\n",
      "quarter_2018_Q4              146.7330     98.436      1.491      0.136     -46.298     339.764\n",
      "quarter_2019_Q1               73.8928     99.825      0.740      0.459    -121.863     269.649\n",
      "quarter_2019_Q2              111.4050     94.563      1.178      0.239     -74.032     296.842\n",
      "quarter_2019_Q3              282.5892     94.262      2.998      0.003      97.743     467.436\n",
      "quarter_2019_Q4              259.9810     94.293      2.757      0.006      75.074     444.888\n",
      "quarter_2020_Q1              184.0995    102.928      1.789      0.074     -17.741     385.940\n",
      "quarter_2020_Q2              335.8157    102.622      3.272      0.001     134.575     537.056\n",
      "quarter_2020_Q3              380.0166    104.570      3.634      0.000     174.956     585.077\n",
      "quarter_2020_Q4              465.4481     91.771      5.072      0.000     285.486     645.410\n",
      "quarter_2021_Q1              487.3303     98.279      4.959      0.000     294.607     680.054\n",
      "n_pieces_BienStandard         54.5945     13.712      3.982      0.000      27.705      81.484\n",
      "n_dependances_BienStandard   -88.3638     43.046     -2.053      0.040    -172.777      -3.950\n",
      "==============================================================================\n",
      "Omnibus:                      268.076   Durbin-Watson:                   0.907\n",
      "Prob(Omnibus):                  0.000   Jarque-Bera (JB):              401.765\n",
      "Skew:                           0.836   Prob(JB):                     5.73e-88\n",
      "Kurtosis:                       4.153   Cond. No.                         22.5\n",
      "==============================================================================\n",
      "\n",
      "Notes:\n",
      "[1] Standard Errors assume that the covariance matrix of the errors is correctly specified.\n"
     ]
    }
   ],
   "source": [
    "model_m = model_OLS_prix(df_train_m, 'Prix_m2', features_ols, summary = True)"
   ]
  },
  {
   "cell_type": "code",
   "execution_count": 202,
   "id": "34dc9585",
   "metadata": {
    "scrolled": true
   },
   "outputs": [
    {
     "data": {
      "image/png": "[encoded data removed]",
      "text/plain": [
       "<Figure size 432x288 with 1 Axes>"
      ]
     },
     "metadata": {
      "needs_background": "light"
     },
     "output_type": "display_data"
    }
   ],
   "source": [
    "df_train_m = add_indice_prix(df_train_m, indice_prix_quarter(model_m, plot = True))"
   ]
  },
  {
   "cell_type": "markdown",
   "id": "4e85f9bd",
   "metadata": {},
   "source": [
    "### KNN"
   ]
  },
  {
   "cell_type": "code",
   "execution_count": 225,
   "id": "6bfec855",
   "metadata": {},
   "outputs": [
    {
     "name": "stdout",
     "output_type": "stream",
     "text": [
      "Returned hyperparameter: {'Knn__n_neighbors': 9}\n"
     ]
    }
   ],
   "source": [
    "    # Dependant variables : cooridnates\n",
    "features_knn = ['latitude', 'longitude']\n",
    "    # Output\n",
    "label_train_m  = 'Prix_m2_actualise_Q1_2021'\n",
    "label_test_m   = 'Prix_m2'\n",
    "\n",
    "knn_pipe_m = model_KNN_coordinates(df_train_m, df_test_m, features_knn,\n",
    "                          label_train_m, label_test_m,\n",
    "                          MinMaxScaler(), 'uniform', 25, 5)"
   ]
  },
  {
   "cell_type": "code",
   "execution_count": 226,
   "id": "5d42b79f",
   "metadata": {},
   "outputs": [
    {
     "name": "stdout",
     "output_type": "stream",
     "text": [
      "MAPE:  13.048844162218726\n",
      "MDAPE:  9.664033631868419\n"
     ]
    }
   ],
   "source": [
    "\n",
    "    # Scores on TRAIN dataset\n",
    "compute_scores(knn_pipe_m, df_train_m[features_knn], df_train_m[label_train])"
   ]
  },
  {
   "cell_type": "code",
   "execution_count": 227,
   "id": "42ee5c98",
   "metadata": {},
   "outputs": [
    {
     "name": "stdout",
     "output_type": "stream",
     "text": [
      "MAPE:  18.952746316437686\n",
      "MDAPE:  17.24560040553687\n"
     ]
    }
   ],
   "source": [
    "    # Scores on TEST dataset\n",
    "compute_scores(knn_pipe, df_test_m[features_knn], df_test_m[label_test])"
   ]
  },
  {
   "cell_type": "markdown",
   "id": "b4bec649",
   "metadata": {},
   "source": [
    "### RF"
   ]
  },
  {
   "cell_type": "code",
   "execution_count": 269,
   "id": "c389b814",
   "metadata": {},
   "outputs": [],
   "source": [
    "features_RF_m = [#'Nombre_dependance', \n",
    "               'Nombre_dependance', 'dist_metro',\n",
    "               #'dist_metro', \n",
    "               'nombre_pieces_principales',\n",
    "               #'Ec_elementaire', 'Ec_maternelle',\n",
    "               'Ec_elementaire_dummy', 'Ec_maternelle_dummy',\n",
    "               'N_apparts', \n",
    "               'DISP_MED19', \n",
    "               'Part_chomeurs', \n",
    "               #'P19_LOG','P19_RP_SDB','P19_RP_CCCOLL',\n",
    "               #'P19_RP_CCIND','P19_RP_CINDELEC'\n",
    "]"
   ]
  },
  {
   "cell_type": "code",
   "execution_count": 270,
   "id": "0f111046",
   "metadata": {},
   "outputs": [],
   "source": [
    "RF_model_m = model_RF_post_KNN(df_test_m, df_train_m, features_RF_m, features_knn, label_train_m, label_test_m,\n",
    "                      model_knn = knn_pipe_m, standardisation = StandardScaler(), range_depth = [1, 1000], nb_cv = 5)\n"
   ]
  },
  {
   "cell_type": "code",
   "execution_count": 271,
   "id": "efa554a7",
   "metadata": {},
   "outputs": [
    {
     "name": "stdout",
     "output_type": "stream",
     "text": [
      "MAPE:  14.531278046633242\n",
      "MDAPE:  11.332700487226004\n"
     ]
    }
   ],
   "source": [
    "X_train_rf_m = df_train_m[features_RF_m]\n",
    "X_train_rf_m['y_pred_knn'] = knn_pipe_m.predict(df_train_m[features_knn])\n",
    "X_test_rf_m = df_test_m[features_RF_m]\n",
    "X_test_rf_m['y_pred_knn'] = knn_pipe_m.predict(df_test_m[features_knn])\n",
    "compute_scores(RF_model_m, X_test_rf_m, df_test_m[label_test_m])"
   ]
  },
  {
   "cell_type": "code",
   "execution_count": 277,
   "id": "b2a3a0db",
   "metadata": {},
   "outputs": [
    {
     "data": {
      "image/png": "[encoded data removed]",
      "text/plain": [
       "<Figure size 1080x576 with 1 Axes>"
      ]
     },
     "metadata": {
      "needs_background": "light"
     },
     "output_type": "display_data"
    }
   ],
   "source": [
    "RF_importances_m = RF_model_m.best_estimator_.named_steps[\"RForest\"].feature_importances_\n",
    "features_importances(RF_importances_m, X_train_rf_m)"
   ]
  },
  {
   "cell_type": "code",
   "execution_count": null,
   "id": "471c31d3",
   "metadata": {},
   "outputs": [],
   "source": []
  }
 ],
 "metadata": {
  "kernelspec": {
   "display_name": "Python 3 (ipykernel)",
   "language": "python",
   "name": "python3"
  },
  "language_info": {
   "codemirror_mode": {
    "name": "ipython",
    "version": 3
   },
   "file_extension": ".py",
   "mimetype": "text/x-python",
   "name": "python",
   "nbconvert_exporter": "python",
   "pygments_lexer": "ipython3",
   "version": "3.9.12"
  }
 },
 "nbformat": 4,
 "nbformat_minor": 5
}
