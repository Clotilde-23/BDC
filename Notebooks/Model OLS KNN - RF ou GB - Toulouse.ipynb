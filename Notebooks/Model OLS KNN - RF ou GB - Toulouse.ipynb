{
 "cells": [
  {
   "cell_type": "markdown",
   "metadata": {},
   "source": [
    "# Model for Toulouse"
   ]
  },
  {
   "cell_type": "code",
   "execution_count": 1,
   "metadata": {},
   "outputs": [],
   "source": [
    "import pandas as pd\n",
    "import numpy as np\n",
    "import matplotlib.pyplot as plt\n",
    "import plotly.express as px\n",
    "\n",
    "pd.set_option('display.max_columns', None)\n",
    "pd.options.mode.chained_assignment = None\n",
    "\n",
    "\n",
    "    # OLS\n",
    "import statsmodels.api as sm\n",
    "    # ML Models\n",
    "from sklearn.neighbors import KNeighborsRegressor\n",
    "from sklearn.ensemble import RandomForestRegressor, GradientBoostingRegressor\n",
    "\n",
    "    # Pipeline & Preprocess\n",
    "from sklearn.pipeline import Pipeline\n",
    "from sklearn.preprocessing import MaxAbsScaler, StandardScaler, MinMaxScaler\n",
    "from sklearn.model_selection import train_test_split, GridSearchCV\n",
    "\n",
    "    # Scores\n",
    "from sklearn.metrics import balanced_accuracy_score, make_scorer, f1_score\n",
    "from sklearn.metrics import roc_auc_score\n",
    "from sklearn.metrics import accuracy_score\n",
    "from sklearn.metrics import mean_absolute_error , r2_score\n",
    "from sklearn.metrics import mean_absolute_percentage_error"
   ]
  },
  {
   "cell_type": "markdown",
   "metadata": {},
   "source": [
    "#### Run Helpers"
   ]
  },
  {
   "cell_type": "code",
   "execution_count": 62,
   "metadata": {},
   "outputs": [],
   "source": [
    "%run '../Helpers/Data_Process.py'\n",
    "%run '../Helpers/Models.py'\n",
    "%run '../Helpers/Data_visualisation.py'"
   ]
  },
  {
   "cell_type": "markdown",
   "metadata": {},
   "source": [
    "#### Datasets"
   ]
  },
  {
   "cell_type": "code",
   "execution_count": 3,
   "metadata": {},
   "outputs": [],
   "source": [
    "df = pd.read_csv('../Data/df_Toulouse_appartement_vf.csv',low_memory=False)"
   ]
  },
  {
   "cell_type": "code",
   "execution_count": 4,
   "metadata": {},
   "outputs": [],
   "source": [
    "dfm = pd.read_csv('../Data/df_Toulouse_maison_vf.csv',low_memory=False)"
   ]
  },
  {
   "cell_type": "code",
   "execution_count": 5,
   "metadata": {},
   "outputs": [],
   "source": [
    "list_dist_metro_dummies = []\n",
    "for i in range(0,df.shape[0]):\n",
    "    if df['dist_metro'].iloc[i] <= 200 :\n",
    "        a = 0\n",
    "    elif (df['dist_metro'].iloc[i] <= 500) & (df['dist_metro'].iloc[i] > 200) :\n",
    "        a = 1\n",
    "    elif (df['dist_metro'].iloc[i] > 500) & (df['dist_metro'].iloc[i] <= 1000) :\n",
    "        a = 2\n",
    "    else:\n",
    "        a = 3\n",
    "    list_dist_metro_dummies.append(a)\n",
    "df['dist_metro_dummies'] = list_dist_metro_dummies"
   ]
  },
  {
   "cell_type": "code",
   "execution_count": 6,
   "metadata": {},
   "outputs": [],
   "source": [
    "dummies_pr_var_continues(df, 'Nombre_dependance', 0)\n",
    "dummies_pr_var_continues(df, 'Ec_maternelle', 0)\n",
    "dummies_pr_var_continues(df, 'Ec_elementaire', 0)"
   ]
  },
  {
   "cell_type": "markdown",
   "metadata": {},
   "source": [
    "### OLS (Price Index)"
   ]
  },
  {
   "cell_type": "code",
   "execution_count": 7,
   "metadata": {},
   "outputs": [],
   "source": [
    "    # SPLIT test/train\n",
    "df_train = df[df['date_mutation'] < '2021-04-01']\n",
    "df_test = df[df['date_mutation'] >= '2021-04-01']"
   ]
  },
  {
   "cell_type": "code",
   "execution_count": 8,
   "metadata": {},
   "outputs": [],
   "source": [
    "df_train = pd.concat([df_train, pd.get_dummies(df_train[['quarter']])], axis = 1)"
   ]
  },
  {
   "cell_type": "code",
   "execution_count": 9,
   "metadata": {},
   "outputs": [],
   "source": [
    "    # Definition of a standard apartment\n",
    "df_train['n_pieces_BienStandard'] = df_train['nombre_pieces_principales']-3\n",
    "df_train['n_dependances_BienStandard'] = df_train['Nombre_dependance']"
   ]
  },
  {
   "cell_type": "code",
   "execution_count": 10,
   "metadata": {},
   "outputs": [],
   "source": [
    "features_ols = ['quarter_2017_Q4', 'quarter_2018_Q1', 'quarter_2018_Q2', 'quarter_2018_Q3',\n",
    "'quarter_2018_Q4', 'quarter_2019_Q1', 'quarter_2019_Q2',\n",
    "'quarter_2019_Q3', 'quarter_2019_Q4', 'quarter_2020_Q1','quarter_2020_Q2', \n",
    "'quarter_2020_Q3', 'quarter_2020_Q4','quarter_2021_Q1',\n",
    "'n_pieces_BienStandard', 'n_dependances_BienStandard']\n",
    "outcome = 'Prix_m2'"
   ]
  },
  {
   "cell_type": "code",
   "execution_count": 11,
   "metadata": {},
   "outputs": [
    {
     "name": "stdout",
     "output_type": "stream",
     "text": [
      "                            OLS Regression Results                            \n",
      "==============================================================================\n",
      "Dep. Variable:                Prix_m2   R-squared:                       0.104\n",
      "Model:                            OLS   Adj. R-squared:                  0.103\n",
      "Method:                 Least Squares   F-statistic:                     142.4\n",
      "Date:                Tue, 04 Apr 2023   Prob (F-statistic):               0.00\n",
      "Time:                        10:36:49   Log-Likelihood:            -1.6238e+05\n",
      "No. Observations:               19709   AIC:                         3.248e+05\n",
      "Df Residuals:                   19692   BIC:                         3.249e+05\n",
      "Df Model:                          16                                         \n",
      "Covariance Type:            nonrobust                                         \n",
      "==============================================================================================\n",
      "                                 coef    std err          t      P>|t|      [0.025      0.975]\n",
      "----------------------------------------------------------------------------------------------\n",
      "const                       2961.5797     26.312    112.555      0.000    2910.005    3013.154\n",
      "quarter_2017_Q4                5.0968     36.216      0.141      0.888     -65.890      76.084\n",
      "quarter_2018_Q1               20.9137     36.811      0.568      0.570     -51.240      93.067\n",
      "quarter_2018_Q2               78.2727     36.838      2.125      0.034       6.067     150.478\n",
      "quarter_2018_Q3              133.2600     34.861      3.823      0.000      64.930     201.590\n",
      "quarter_2018_Q4              168.8167     35.336      4.778      0.000      99.556     238.077\n",
      "quarter_2019_Q1              171.6317     35.693      4.809      0.000     101.671     241.592\n",
      "quarter_2019_Q2              137.5225     35.165      3.911      0.000      68.596     206.449\n",
      "quarter_2019_Q3              261.9251     34.259      7.645      0.000     194.774     329.076\n",
      "quarter_2019_Q4              278.1257     34.143      8.146      0.000     211.202     345.049\n",
      "quarter_2020_Q1              353.3681     35.432      9.973      0.000     283.918     422.819\n",
      "quarter_2020_Q2              534.8764     36.009     14.854      0.000     464.296     605.457\n",
      "quarter_2020_Q3              589.0713     35.941     16.390      0.000     518.624     659.519\n",
      "quarter_2020_Q4              559.8235     34.607     16.177      0.000     491.992     627.655\n",
      "quarter_2021_Q1              507.5567     36.246     14.003      0.000     436.511     578.602\n",
      "n_pieces_BienStandard       -152.3170      6.082    -25.044      0.000    -164.238    -140.396\n",
      "n_dependances_BienStandard  -238.5607      9.837    -24.250      0.000    -257.843    -219.278\n",
      "==============================================================================\n",
      "Omnibus:                     1169.508   Durbin-Watson:                   0.651\n",
      "Prob(Omnibus):                  0.000   Jarque-Bera (JB):             1468.433\n",
      "Skew:                           0.581   Prob(JB):                         0.00\n",
      "Kurtosis:                       3.662   Cond. No.                         22.6\n",
      "==============================================================================\n",
      "\n",
      "Notes:\n",
      "[1] Standard Errors assume that the covariance matrix of the errors is correctly specified.\n"
     ]
    }
   ],
   "source": [
    "model = model_OLS_prix(df_train, 'Prix_m2', features_ols, summary = True)"
   ]
  },
  {
   "cell_type": "code",
   "execution_count": 12,
   "metadata": {},
   "outputs": [
    {
     "data": {
      "image/png": "[encoded data removed]",
      "text/plain": [
       "<Figure size 432x288 with 1 Axes>"
      ]
     },
     "metadata": {
      "needs_background": "light"
     },
     "output_type": "display_data"
    }
   ],
   "source": [
    "df_train = add_indice_prix(df_train, indice_prix_quarter(model, plot = True))"
   ]
  },
  {
   "cell_type": "markdown",
   "metadata": {},
   "source": [
    "### KNN"
   ]
  },
  {
   "cell_type": "code",
   "execution_count": 13,
   "metadata": {},
   "outputs": [],
   "source": [
    "    # Dependant variables : cooridnates\n",
    "features_knn = ['latitude', 'longitude']\n",
    "    # Output\n",
    "label_train = 'Prix_m2_actualise_Q1_2021'\n",
    "label_test = 'Prix_m2'"
   ]
  },
  {
   "cell_type": "code",
   "execution_count": 24,
   "metadata": {},
   "outputs": [
    {
     "data": {
      "image/png": "[encoded data removed]",
      "text/plain": [
       "<Figure size 432x288 with 1 Axes>"
      ]
     },
     "metadata": {
      "needs_background": "light"
     },
     "output_type": "display_data"
    }
   ],
   "source": [
    "X_train_knn = df_train[features_knn]\n",
    "X_test_knn = df_test[features_knn]\n",
    "        # outcomes\n",
    "y_train = df_train[label_train]\n",
    "y_test = df_test[label_test]\n",
    "knn = []\n",
    "mdape = []\n",
    "for i in np.arange(5, 40) :\n",
    "    knn_model = KNeighborsRegressor(n_neighbors=i, weights='uniform')\n",
    "    knn_model.fit(X_train_knn, y_train)\n",
    "    knn.append(i)\n",
    "    mdape_i = MDAPE(knn_model.predict(df_test[features_knn]), df_test[label_test])\n",
    "    mdape.append(mdape_i)\n",
    "plt.plot(knn, mdape)\n",
    "plt.show()"
   ]
  },
  {
   "cell_type": "code",
   "execution_count": 28,
   "metadata": {},
   "outputs": [
    {
     "name": "stdout",
     "output_type": "stream",
     "text": [
      "Returned hyperparameter: {'Knn__n_neighbors': 17}\n"
     ]
    }
   ],
   "source": [
    "knn_pipe = model_KNN_coordinates(df_train, df_test, features_knn,\n",
    "                          label_train, label_test,\n",
    "                          MinMaxScaler(), 'uniform', 20, 5)"
   ]
  },
  {
   "cell_type": "code",
   "execution_count": 29,
   "metadata": {},
   "outputs": [
    {
     "name": "stdout",
     "output_type": "stream",
     "text": [
      "MAPE:  11.292270270798438\n",
      "MDAPE:  8.877613566559612\n"
     ]
    }
   ],
   "source": [
    "    # Scores on TRAIN dataset\n",
    "compute_scores(knn_pipe, df_train[features_knn], df_train[label_train])"
   ]
  },
  {
   "cell_type": "code",
   "execution_count": 30,
   "metadata": {},
   "outputs": [
    {
     "name": "stdout",
     "output_type": "stream",
     "text": [
      "MAPE:  11.978142371955926\n",
      "MDAPE:  10.130742176956806\n"
     ]
    }
   ],
   "source": [
    "    # Scores on TEST dataset\n",
    "compute_scores(knn_pipe, df_test[features_knn], df_test[label_test])"
   ]
  },
  {
   "cell_type": "markdown",
   "metadata": {},
   "source": [
    "#### Analysis of mdape"
   ]
  },
  {
   "cell_type": "code",
   "execution_count": 53,
   "metadata": {},
   "outputs": [],
   "source": [
    "X_test = df_test.copy()\n",
    "    # Add predictions to the test sample\n",
    "y_pred = knn_pipe.predict(X_test[features_knn])\n",
    "X_test[\"y_pred\"] = y_pred\n",
    "    # Add the true value of the outcome in the test sample\n",
    "X_test['y_true'] = df_test[label_test]\n",
    "    # Compute the relative percentage error\n",
    "X_test['mdape'] = np.abs((X_test['y_true'] - X_test[\"y_pred\"])/X_test['y_true'])*100"
   ]
  },
  {
   "cell_type": "code",
   "execution_count": 55,
   "metadata": {},
   "outputs": [
    {
     "data": {
      "text/html": [
       "<div>\n",
       "<style scoped>\n",
       "    .dataframe tbody tr th:only-of-type {\n",
       "        vertical-align: middle;\n",
       "    }\n",
       "\n",
       "    .dataframe tbody tr th {\n",
       "        vertical-align: top;\n",
       "    }\n",
       "\n",
       "    .dataframe thead th {\n",
       "        text-align: right;\n",
       "    }\n",
       "</style>\n",
       "<table border=\"1\" class=\"dataframe\">\n",
       "  <thead>\n",
       "    <tr style=\"text-align: right;\">\n",
       "      <th>quarter</th>\n",
       "      <th>2021_Q2</th>\n",
       "      <th>2021_Q3</th>\n",
       "      <th>2021_Q4</th>\n",
       "      <th>2022_Q1</th>\n",
       "      <th>2022_Q2</th>\n",
       "    </tr>\n",
       "  </thead>\n",
       "  <tbody>\n",
       "    <tr>\n",
       "      <th>mdape</th>\n",
       "      <td>10.104</td>\n",
       "      <td>9.721</td>\n",
       "      <td>10.736</td>\n",
       "      <td>9.337</td>\n",
       "      <td>10.68</td>\n",
       "    </tr>\n",
       "  </tbody>\n",
       "</table>\n",
       "</div>"
      ],
      "text/plain": [
       "quarter  2021_Q2  2021_Q3  2021_Q4  2022_Q1  2022_Q2\n",
       "mdape     10.104    9.721   10.736    9.337    10.68"
      ]
     },
     "execution_count": 55,
     "metadata": {},
     "output_type": "execute_result"
    }
   ],
   "source": [
    "round(X_test.groupby('quarter').agg({'mdape' : 'median'}).reset_index().set_index('quarter').T, 3)"
   ]
  },
  {
   "cell_type": "markdown",
   "metadata": {},
   "source": [
    "## Selection of features"
   ]
  },
  {
   "cell_type": "code",
   "execution_count": 33,
   "metadata": {},
   "outputs": [],
   "source": [
    "df_test_vif = df[['nombre_pieces_principales','Nombre_dependance',\n",
    "                  'N_apparts', 'Part_chomeurs', 'Ec_maternelle', 'Ec_elementaire',\n",
    "                  'dist_metro', 'DISP_MED19']]"
   ]
  },
  {
   "cell_type": "code",
   "execution_count": 34,
   "metadata": {},
   "outputs": [
    {
     "data": {
      "text/html": [
       "<div>\n",
       "<style scoped>\n",
       "    .dataframe tbody tr th:only-of-type {\n",
       "        vertical-align: middle;\n",
       "    }\n",
       "\n",
       "    .dataframe tbody tr th {\n",
       "        vertical-align: top;\n",
       "    }\n",
       "\n",
       "    .dataframe thead th {\n",
       "        text-align: right;\n",
       "    }\n",
       "</style>\n",
       "<table border=\"1\" class=\"dataframe\">\n",
       "  <thead>\n",
       "    <tr style=\"text-align: right;\">\n",
       "      <th></th>\n",
       "      <th>variables</th>\n",
       "      <th>VIF</th>\n",
       "    </tr>\n",
       "  </thead>\n",
       "  <tbody>\n",
       "    <tr>\n",
       "      <th>0</th>\n",
       "      <td>nombre_pieces_principales</td>\n",
       "      <td>7.092289</td>\n",
       "    </tr>\n",
       "    <tr>\n",
       "      <th>1</th>\n",
       "      <td>Nombre_dependance</td>\n",
       "      <td>2.999334</td>\n",
       "    </tr>\n",
       "    <tr>\n",
       "      <th>2</th>\n",
       "      <td>N_apparts</td>\n",
       "      <td>6.636223</td>\n",
       "    </tr>\n",
       "    <tr>\n",
       "      <th>3</th>\n",
       "      <td>Part_chomeurs</td>\n",
       "      <td>9.915903</td>\n",
       "    </tr>\n",
       "    <tr>\n",
       "      <th>4</th>\n",
       "      <td>Ec_maternelle</td>\n",
       "      <td>3.671775</td>\n",
       "    </tr>\n",
       "    <tr>\n",
       "      <th>5</th>\n",
       "      <td>Ec_elementaire</td>\n",
       "      <td>4.860537</td>\n",
       "    </tr>\n",
       "    <tr>\n",
       "      <th>6</th>\n",
       "      <td>dist_metro</td>\n",
       "      <td>2.819461</td>\n",
       "    </tr>\n",
       "    <tr>\n",
       "      <th>7</th>\n",
       "      <td>DISP_MED19</td>\n",
       "      <td>9.900096</td>\n",
       "    </tr>\n",
       "  </tbody>\n",
       "</table>\n",
       "</div>"
      ],
      "text/plain": [
       "                   variables       VIF\n",
       "0  nombre_pieces_principales  7.092289\n",
       "1          Nombre_dependance  2.999334\n",
       "2                  N_apparts  6.636223\n",
       "3              Part_chomeurs  9.915903\n",
       "4              Ec_maternelle  3.671775\n",
       "5             Ec_elementaire  4.860537\n",
       "6                 dist_metro  2.819461\n",
       "7                 DISP_MED19  9.900096"
      ]
     },
     "execution_count": 34,
     "metadata": {},
     "output_type": "execute_result"
    }
   ],
   "source": [
    "calc_vif(df_test_vif)"
   ]
  },
  {
   "cell_type": "markdown",
   "metadata": {},
   "source": [
    "### RF"
   ]
  },
  {
   "cell_type": "code",
   "execution_count": 36,
   "metadata": {},
   "outputs": [],
   "source": [
    "features_RF = [#'Nombre_dependance', \n",
    "               'Nombre_dependance', 'dist_metro',\n",
    "               #'dist_metro', \n",
    "               'nombre_pieces_principales',\n",
    "               #'Ec_elementaire', 'Ec_maternelle',\n",
    "               'Ec_elementaire', 'Ec_maternelle',\n",
    "               'N_apparts', \n",
    "               'DISP_MED19', \n",
    "               'Part_chomeurs', 'DISP_MED19'\n",
    "               #'P19_LOG','P19_RP_SDB','P19_RP_CCCOLL',\n",
    "               #'P19_RP_CCIND','P19_RP_CINDELEC'\n",
    "]"
   ]
  },
  {
   "cell_type": "code",
   "execution_count": 45,
   "metadata": {},
   "outputs": [],
   "source": [
    "RF_model = model_RF_post_KNN(df_test, df_train, features_RF, features_knn, label_train, label_test,\n",
    "                      model_knn = knn_pipe, standardisation = StandardScaler(), range_depth = [20, 40, 60], nb_cv = 5)"
   ]
  },
  {
   "cell_type": "code",
   "execution_count": 46,
   "metadata": {},
   "outputs": [
    {
     "name": "stdout",
     "output_type": "stream",
     "text": [
      "MAPE:  11.755631312076297\n",
      "MDAPE:  9.836899713608807\n"
     ]
    }
   ],
   "source": [
    "X_train_rf = df_train[features_RF]\n",
    "X_train_rf['y_pred_knn'] = knn_pipe.predict(df_train[features_knn])\n",
    "X_test_rf = df_test[features_RF]\n",
    "X_test_rf['y_pred_knn'] = knn_pipe.predict(df_test[features_knn])\n",
    "compute_scores(RF_model, X_test_rf, df_test[label_test])"
   ]
  },
  {
   "cell_type": "code",
   "execution_count": 47,
   "metadata": {},
   "outputs": [
    {
     "data": {
      "text/plain": [
       "Pipeline(steps=[('scaler', StandardScaler()),\n",
       "                ('RForest', RandomForestRegressor(max_depth=40))])"
      ]
     },
     "execution_count": 47,
     "metadata": {},
     "output_type": "execute_result"
    }
   ],
   "source": [
    "RF_model.best_estimator_"
   ]
  },
  {
   "cell_type": "code",
   "execution_count": 48,
   "metadata": {},
   "outputs": [
    {
     "data": {
      "image/png": "[encoded data removed]",
      "text/plain": [
       "<Figure size 1080x576 with 1 Axes>"
      ]
     },
     "metadata": {
      "needs_background": "light"
     },
     "output_type": "display_data"
    }
   ],
   "source": [
    "RF_importances = RF_model.best_estimator_.named_steps[\"RForest\"].feature_importances_\n",
    "features_importances(RF_importances, X_train_rf)"
   ]
  },
  {
   "cell_type": "code",
   "execution_count": 49,
   "metadata": {},
   "outputs": [
    {
     "name": "stdout",
     "output_type": "stream",
     "text": [
      "MAPE:  11.686250857270192\n",
      "MDAPE:  9.901366567606484\n"
     ]
    }
   ],
   "source": [
    "pipe = Pipeline([('scaler', StandardScaler()), ('GBoost', GradientBoostingRegressor())])\n",
    "parameters = {'GBoost__n_estimators': [50, 100, 150, 250, 500]} # defining parameter space\n",
    "gboost_pipe = GridSearchCV(pipe, parameters, cv=5)\n",
    "gboost_pipe.fit(X_train_rf, df_train[label_train])\n",
    "\n",
    "compute_scores(gboost_pipe, X_test_rf, df_test[label_test])"
   ]
  },
  {
   "cell_type": "markdown",
   "metadata": {},
   "source": [
    "#### Analysis of mdape"
   ]
  },
  {
   "cell_type": "code",
   "execution_count": 50,
   "metadata": {},
   "outputs": [],
   "source": [
    "X_test = df_test.copy()\n",
    "X_test['y_pred_knn'] = knn_pipe.predict(X_test[features_knn])"
   ]
  },
  {
   "cell_type": "code",
   "execution_count": 51,
   "metadata": {},
   "outputs": [],
   "source": [
    "y_pred = RF_model.predict(X_test[features_RF + ['y_pred_knn']])\n",
    "X_test[\"y_pred\"] = y_pred\n",
    "X_test['y_true'] = df_test[label_test]\n",
    "X_test['mdape'] = np.abs((X_test['y_true'] - X_test[\"y_pred\"])/X_test['y_true'])*100"
   ]
  },
  {
   "cell_type": "code",
   "execution_count": 52,
   "metadata": {},
   "outputs": [
    {
     "data": {
      "text/html": [
       "<div>\n",
       "<style scoped>\n",
       "    .dataframe tbody tr th:only-of-type {\n",
       "        vertical-align: middle;\n",
       "    }\n",
       "\n",
       "    .dataframe tbody tr th {\n",
       "        vertical-align: top;\n",
       "    }\n",
       "\n",
       "    .dataframe thead th {\n",
       "        text-align: right;\n",
       "    }\n",
       "</style>\n",
       "<table border=\"1\" class=\"dataframe\">\n",
       "  <thead>\n",
       "    <tr style=\"text-align: right;\">\n",
       "      <th>quarter</th>\n",
       "      <th>2021_Q2</th>\n",
       "      <th>2021_Q3</th>\n",
       "      <th>2021_Q4</th>\n",
       "      <th>2022_Q1</th>\n",
       "      <th>2022_Q2</th>\n",
       "    </tr>\n",
       "  </thead>\n",
       "  <tbody>\n",
       "    <tr>\n",
       "      <th>mdape</th>\n",
       "      <td>9.569807</td>\n",
       "      <td>9.999017</td>\n",
       "      <td>9.676679</td>\n",
       "      <td>9.537138</td>\n",
       "      <td>10.970013</td>\n",
       "    </tr>\n",
       "  </tbody>\n",
       "</table>\n",
       "</div>"
      ],
      "text/plain": [
       "quarter   2021_Q2   2021_Q3   2021_Q4   2022_Q1    2022_Q2\n",
       "mdape    9.569807  9.999017  9.676679  9.537138  10.970013"
      ]
     },
     "execution_count": 52,
     "metadata": {},
     "output_type": "execute_result"
    }
   ],
   "source": [
    "X_test.groupby('quarter').agg({'mdape' : 'median'}).reset_index().set_index('quarter').T"
   ]
  },
  {
   "cell_type": "code",
   "execution_count": null,
   "metadata": {},
   "outputs": [],
   "source": []
  },
  {
   "cell_type": "markdown",
   "metadata": {},
   "source": [
    "## Maison"
   ]
  },
  {
   "cell_type": "markdown",
   "metadata": {},
   "source": [
    "#### OLS"
   ]
  },
  {
   "cell_type": "code",
   "execution_count": 66,
   "metadata": {},
   "outputs": [],
   "source": [
    "#dummies_pr_var_continues(dfm, 'dist_metro', 0.01)\n",
    "dummies_pr_var_continues(dfm, 'Nombre_dependance', 0)\n",
    "dummies_pr_var_continues(dfm, 'Ec_maternelle', 0)\n",
    "dummies_pr_var_continues(dfm, 'Ec_elementaire', 0)\n",
    "\n",
    "list_dist_metro_dummies = []\n",
    "for i in range(0,dfm.shape[0]):\n",
    "    if dfm['dist_metro'].iloc[i] <= 200 :\n",
    "        a = 0\n",
    "    elif (dfm['dist_metro'].iloc[i] <= 500) & (dfm['dist_metro'].iloc[i] > 200) :\n",
    "        a = 1\n",
    "    elif (dfm['dist_metro'].iloc[i] > 500) & (dfm['dist_metro'].iloc[i] <= 1000) :\n",
    "        a = 2\n",
    "    else:\n",
    "        a = 3\n",
    "    list_dist_metro_dummies.append(a)\n",
    "dfm['dist_metro_dummies'] = list_dist_metro_dummies"
   ]
  },
  {
   "cell_type": "code",
   "execution_count": 67,
   "metadata": {},
   "outputs": [
    {
     "name": "stdout",
     "output_type": "stream",
     "text": [
      "110.43460898502497\n",
      "292.9850249584027\n"
     ]
    }
   ],
   "source": [
    "print(dfm.surface_reelle_bati.mean())\n",
    "print(dfm.surface_terrain.mean())"
   ]
  },
  {
   "cell_type": "code",
   "execution_count": 68,
   "metadata": {},
   "outputs": [],
   "source": [
    "df_train_m = dfm[dfm['date_mutation'] < '2021-04-01']\n",
    "df_test_m = dfm[dfm['date_mutation'] >= '2021-04-01']\n",
    "\n",
    "df_train_m = pd.concat([df_train_m, pd.get_dummies(df_train_m[['quarter']])], axis = 1)\n",
    "df_train_m['n_pieces_BienStandard'] = df_train_m['nombre_pieces_principales']- 4 #4c'est le nombre le plus frequent\n",
    "df_train_m['n_dependances_BienStandard'] = df_train_m['Nombre_dependance']\n",
    "df_train_m['surf_bati_BienStandard'] = df_train_m['surface_reelle_bati'] - dfm.surface_reelle_bati.mean()\n",
    "df_train_m['surf_terrain_BienStandard'] = df_train_m['surface_terrain'] - dfm.surface_terrain.mean()\n",
    "\n",
    "\n",
    "features_ols = ['quarter_2017_Q4', 'quarter_2018_Q1', 'quarter_2018_Q2', 'quarter_2018_Q3',\n",
    "'quarter_2018_Q4', 'quarter_2019_Q1', 'quarter_2019_Q2',\n",
    "'quarter_2019_Q3', 'quarter_2019_Q4', 'quarter_2020_Q1','quarter_2020_Q2', \n",
    "'quarter_2020_Q3', 'quarter_2020_Q4','quarter_2021_Q1',\n",
    "'n_pieces_BienStandard', 'n_dependances_BienStandard', 'surf_bati_BienStandard', 'surf_terrain_BienStandard']\n",
    "outcome = 'valeur_fonciere'"
   ]
  },
  {
   "cell_type": "code",
   "execution_count": 69,
   "metadata": {
    "scrolled": true
   },
   "outputs": [
    {
     "name": "stdout",
     "output_type": "stream",
     "text": [
      "                            OLS Regression Results                            \n",
      "==============================================================================\n",
      "Dep. Variable:        valeur_fonciere   R-squared:                       0.730\n",
      "Model:                            OLS   Adj. R-squared:                  0.728\n",
      "Method:                 Least Squares   F-statistic:                     348.9\n",
      "Date:                Tue, 04 Apr 2023   Prob (F-statistic):               0.00\n",
      "Time:                        10:58:38   Log-Likelihood:                -30350.\n",
      "No. Observations:                2336   AIC:                         6.074e+04\n",
      "Df Residuals:                    2317   BIC:                         6.085e+04\n",
      "Df Model:                          18                                         \n",
      "Covariance Type:            nonrobust                                         \n",
      "==============================================================================================\n",
      "                                 coef    std err          t      P>|t|      [0.025      0.975]\n",
      "----------------------------------------------------------------------------------------------\n",
      "const                       3.437e+05   8237.320     41.725      0.000    3.28e+05     3.6e+05\n",
      "quarter_2017_Q4             7770.2922   1.17e+04      0.663      0.507   -1.52e+04    3.07e+04\n",
      "quarter_2018_Q1             9449.0724   1.24e+04      0.764      0.445   -1.48e+04    3.37e+04\n",
      "quarter_2018_Q2             1.075e+04   1.22e+04      0.881      0.378   -1.32e+04    3.47e+04\n",
      "quarter_2018_Q3             1397.0171   1.12e+04      0.125      0.901   -2.06e+04    2.34e+04\n",
      "quarter_2018_Q4             9724.8143   1.19e+04      0.818      0.414   -1.36e+04     3.3e+04\n",
      "quarter_2019_Q1             3114.3701   1.21e+04      0.258      0.796   -2.05e+04    2.68e+04\n",
      "quarter_2019_Q2             1102.1705   1.14e+04      0.096      0.923   -2.13e+04    2.35e+04\n",
      "quarter_2019_Q3             3.268e+04   1.14e+04      2.869      0.004    1.03e+04     5.5e+04\n",
      "quarter_2019_Q4             2.571e+04   1.14e+04      2.257      0.024    3369.142    4.81e+04\n",
      "quarter_2020_Q1              1.38e+04   1.24e+04      1.110      0.267   -1.06e+04    3.82e+04\n",
      "quarter_2020_Q2             2.905e+04   1.24e+04      2.342      0.019    4721.551    5.34e+04\n",
      "quarter_2020_Q3             3.788e+04   1.26e+04      2.998      0.003    1.31e+04    6.27e+04\n",
      "quarter_2020_Q4             5.338e+04   1.11e+04      4.816      0.000    3.16e+04    7.51e+04\n",
      "quarter_2021_Q1             4.764e+04   1.19e+04      4.013      0.000    2.44e+04    7.09e+04\n",
      "n_pieces_BienStandard      -6315.2493   2524.190     -2.502      0.012   -1.13e+04   -1365.343\n",
      "n_dependances_BienStandard -5044.0812   5229.052     -0.965      0.335   -1.53e+04    5210.029\n",
      "surf_bati_BienStandard      4016.0125     77.841     51.592      0.000    3863.367    4168.658\n",
      "surf_terrain_BienStandard    -18.3876     10.017     -1.836      0.067     -38.031       1.256\n",
      "==============================================================================\n",
      "Omnibus:                      278.820   Durbin-Watson:                   1.134\n",
      "Prob(Omnibus):                  0.000   Jarque-Bera (JB):             1044.079\n",
      "Skew:                           0.552   Prob(JB):                    1.91e-227\n",
      "Kurtosis:                       6.084   Cond. No.                     3.59e+03\n",
      "==============================================================================\n",
      "\n",
      "Notes:\n",
      "[1] Standard Errors assume that the covariance matrix of the errors is correctly specified.\n",
      "[2] The condition number is large, 3.59e+03. This might indicate that there are\n",
      "strong multicollinearity or other numerical problems.\n"
     ]
    }
   ],
   "source": [
    "model_m = model_OLS_prix(df_train_m, 'valeur_fonciere', features_ols, summary = True)"
   ]
  },
  {
   "cell_type": "code",
   "execution_count": 70,
   "metadata": {
    "scrolled": true
   },
   "outputs": [
    {
     "data": {
      "image/png": "[encoded data removed]",
      "text/plain": [
       "<Figure size 432x288 with 1 Axes>"
      ]
     },
     "metadata": {
      "needs_background": "light"
     },
     "output_type": "display_data"
    }
   ],
   "source": [
    "df_train_m = add_indice_prix_house(df_train_m, indice_prix_quarter(model_m, plot = True))"
   ]
  },
  {
   "cell_type": "code",
   "execution_count": null,
   "metadata": {},
   "outputs": [],
   "source": []
  },
  {
   "cell_type": "markdown",
   "metadata": {},
   "source": [
    "### KNN"
   ]
  },
  {
   "cell_type": "code",
   "execution_count": 95,
   "metadata": {},
   "outputs": [
    {
     "name": "stdout",
     "output_type": "stream",
     "text": [
      "Returned hyperparameter: {'Knn__n_neighbors': 15}\n"
     ]
    }
   ],
   "source": [
    "    # Dependant variables : cooridnates\n",
    "features_knn = ['latitude', 'longitude']\n",
    "    # Output\n",
    "label_train_m  = 'val_fonciere_actualise_Q1_2021'\n",
    "label_test_m   = 'valeur_fonciere'\n",
    "\n",
    "knn_pipe_m = model_KNN_coordinates(df_train_m, df_test_m, features_knn,\n",
    "                          label_train_m, label_test_m,\n",
    "                          MinMaxScaler(), 'uniform', 25, 5)"
   ]
  },
  {
   "cell_type": "code",
   "execution_count": 96,
   "metadata": {},
   "outputs": [
    {
     "name": "stdout",
     "output_type": "stream",
     "text": [
      "MAPE:  28.215799434086808\n",
      "MDAPE:  18.911931870240352\n"
     ]
    }
   ],
   "source": [
    "    # Scores on TRAIN dataset\n",
    "compute_scores(knn_pipe_m, df_train_m[features_knn], df_train_m[label_train_m])"
   ]
  },
  {
   "cell_type": "code",
   "execution_count": 97,
   "metadata": {},
   "outputs": [
    {
     "name": "stdout",
     "output_type": "stream",
     "text": [
      "MAPE:  27.761174502155363\n",
      "MDAPE:  20.42674512322995\n"
     ]
    }
   ],
   "source": [
    "    # Scores on TEST dataset\n",
    "compute_scores(knn_pipe_m, df_test_m[features_knn], df_test_m[label_test_m])"
   ]
  },
  {
   "cell_type": "markdown",
   "metadata": {},
   "source": [
    "### Selection of features"
   ]
  },
  {
   "cell_type": "code",
   "execution_count": 87,
   "metadata": {},
   "outputs": [],
   "source": [
    "df_test_vif = df[['Nombre_dependance', 'N_maisons',\n",
    "                  'Part_chomeurs', 'Ec_maternelle', 'Ec_elementaire',\n",
    "                  'dist_metro', 'surface_reelle_bati', 'surface_terrain']]"
   ]
  },
  {
   "cell_type": "code",
   "execution_count": 88,
   "metadata": {},
   "outputs": [
    {
     "data": {
      "text/html": [
       "<div>\n",
       "<style scoped>\n",
       "    .dataframe tbody tr th:only-of-type {\n",
       "        vertical-align: middle;\n",
       "    }\n",
       "\n",
       "    .dataframe tbody tr th {\n",
       "        vertical-align: top;\n",
       "    }\n",
       "\n",
       "    .dataframe thead th {\n",
       "        text-align: right;\n",
       "    }\n",
       "</style>\n",
       "<table border=\"1\" class=\"dataframe\">\n",
       "  <thead>\n",
       "    <tr style=\"text-align: right;\">\n",
       "      <th></th>\n",
       "      <th>variables</th>\n",
       "      <th>VIF</th>\n",
       "    </tr>\n",
       "  </thead>\n",
       "  <tbody>\n",
       "    <tr>\n",
       "      <th>0</th>\n",
       "      <td>Nombre_dependance</td>\n",
       "      <td>3.148067</td>\n",
       "    </tr>\n",
       "    <tr>\n",
       "      <th>1</th>\n",
       "      <td>N_maisons</td>\n",
       "      <td>3.906678</td>\n",
       "    </tr>\n",
       "    <tr>\n",
       "      <th>2</th>\n",
       "      <td>Part_chomeurs</td>\n",
       "      <td>6.660674</td>\n",
       "    </tr>\n",
       "    <tr>\n",
       "      <th>3</th>\n",
       "      <td>Ec_maternelle</td>\n",
       "      <td>3.562585</td>\n",
       "    </tr>\n",
       "    <tr>\n",
       "      <th>4</th>\n",
       "      <td>Ec_elementaire</td>\n",
       "      <td>4.263427</td>\n",
       "    </tr>\n",
       "    <tr>\n",
       "      <th>5</th>\n",
       "      <td>dist_metro</td>\n",
       "      <td>3.363504</td>\n",
       "    </tr>\n",
       "    <tr>\n",
       "      <th>6</th>\n",
       "      <td>surface_reelle_bati</td>\n",
       "      <td>5.091317</td>\n",
       "    </tr>\n",
       "    <tr>\n",
       "      <th>7</th>\n",
       "      <td>surface_terrain</td>\n",
       "      <td>1.010927</td>\n",
       "    </tr>\n",
       "  </tbody>\n",
       "</table>\n",
       "</div>"
      ],
      "text/plain": [
       "             variables       VIF\n",
       "0    Nombre_dependance  3.148067\n",
       "1            N_maisons  3.906678\n",
       "2        Part_chomeurs  6.660674\n",
       "3        Ec_maternelle  3.562585\n",
       "4       Ec_elementaire  4.263427\n",
       "5           dist_metro  3.363504\n",
       "6  surface_reelle_bati  5.091317\n",
       "7      surface_terrain  1.010927"
      ]
     },
     "execution_count": 88,
     "metadata": {},
     "output_type": "execute_result"
    }
   ],
   "source": [
    "calc_vif(df_test_vif)"
   ]
  },
  {
   "cell_type": "markdown",
   "metadata": {},
   "source": [
    "### RF"
   ]
  },
  {
   "cell_type": "code",
   "execution_count": 108,
   "metadata": {},
   "outputs": [],
   "source": [
    "features_RF_m = [#'Nombre_dependance_dummy',\n",
    "                 'N_maisons',\n",
    "                  'Part_chomeurs', \n",
    "                 #'Ec_maternelle_dummy', 'Ec_elementaire_dummy',\n",
    "                  'dist_metro', 'surface_reelle_bati', 'surface_terrain']"
   ]
  },
  {
   "cell_type": "code",
   "execution_count": 109,
   "metadata": {},
   "outputs": [],
   "source": [
    "RF_model_m = model_RF_post_KNN(df_test_m, df_train_m, features_RF_m, features_knn, \n",
    "                               label_train_m, label_test_m,\n",
    "                               model_knn = knn_pipe_m, standardisation = StandardScaler(), \n",
    "                               range_depth = [20, 40, 60], nb_cv = 5)\n"
   ]
  },
  {
   "cell_type": "code",
   "execution_count": 110,
   "metadata": {},
   "outputs": [
    {
     "name": "stdout",
     "output_type": "stream",
     "text": [
      "MAPE:  13.549182797807283\n",
      "MDAPE:  10.385069260478849\n"
     ]
    }
   ],
   "source": [
    "X_train_rf_m = df_train_m[features_RF_m]\n",
    "X_train_rf_m['y_pred_knn'] = knn_pipe_m.predict(df_train_m[features_knn])\n",
    "X_test_rf_m = df_test_m[features_RF_m]\n",
    "X_test_rf_m['y_pred_knn'] = knn_pipe_m.predict(df_test_m[features_knn])\n",
    "compute_scores(RF_model_m, X_test_rf_m, df_test_m[label_test_m])"
   ]
  },
  {
   "cell_type": "code",
   "execution_count": 111,
   "metadata": {},
   "outputs": [
    {
     "data": {
      "image/png": "[encoded data removed]",
      "text/plain": [
       "<Figure size 1080x576 with 1 Axes>"
      ]
     },
     "metadata": {
      "needs_background": "light"
     },
     "output_type": "display_data"
    }
   ],
   "source": [
    "RF_importances_m = RF_model_m.best_estimator_.named_steps[\"RForest\"].feature_importances_\n",
    "features_importances(RF_importances_m, X_train_rf_m)"
   ]
  },
  {
   "cell_type": "code",
   "execution_count": 112,
   "metadata": {},
   "outputs": [],
   "source": [
    "X_test = df_test.copy()\n",
    "X_test['y_pred_knn'] = knn_pipe.predict(X_test[features_knn])\n",
    "y_pred = RF_model.predict(X_test[features_RF + ['y_pred_knn']])\n",
    "X_test[\"y_pred\"] = y_pred\n",
    "X_test['y_true'] = df_test[label_test]\n",
    "X_test['mdape'] = np.abs((X_test['y_true'] - X_test[\"y_pred\"])/X_test['y_true'])*100"
   ]
  },
  {
   "cell_type": "code",
   "execution_count": 127,
   "metadata": {},
   "outputs": [],
   "source": [
    "X_test['quantile_surf'] = pd.qcut(X_test['surface_reelle_bati'], 6, labels=False)\n",
    "#X_test['quantile_terrain'] = pd.qcut(X_test['surface_terrain'], 7, labels=False)\n",
    "X_test['quantile_valfonciere'] = pd.qcut(X_test['valeur_fonciere'], 6, labels=False)"
   ]
  },
  {
   "cell_type": "code",
   "execution_count": 123,
   "metadata": {},
   "outputs": [
    {
     "data": {
      "text/html": [
       "<div>\n",
       "<style scoped>\n",
       "    .dataframe tbody tr th:only-of-type {\n",
       "        vertical-align: middle;\n",
       "    }\n",
       "\n",
       "    .dataframe tbody tr th {\n",
       "        vertical-align: top;\n",
       "    }\n",
       "\n",
       "    .dataframe thead th {\n",
       "        text-align: right;\n",
       "    }\n",
       "</style>\n",
       "<table border=\"1\" class=\"dataframe\">\n",
       "  <thead>\n",
       "    <tr style=\"text-align: right;\">\n",
       "      <th>quantile_surf</th>\n",
       "      <th>0</th>\n",
       "      <th>1</th>\n",
       "      <th>2</th>\n",
       "      <th>3</th>\n",
       "      <th>4</th>\n",
       "      <th>5</th>\n",
       "    </tr>\n",
       "  </thead>\n",
       "  <tbody>\n",
       "    <tr>\n",
       "      <th>mdape</th>\n",
       "      <td>11.458765</td>\n",
       "      <td>9.768001</td>\n",
       "      <td>9.471492</td>\n",
       "      <td>9.494436</td>\n",
       "      <td>9.200924</td>\n",
       "      <td>9.736483</td>\n",
       "    </tr>\n",
       "  </tbody>\n",
       "</table>\n",
       "</div>"
      ],
      "text/plain": [
       "quantile_surf          0         1         2         3         4         5\n",
       "mdape          11.458765  9.768001  9.471492  9.494436  9.200924  9.736483"
      ]
     },
     "execution_count": 123,
     "metadata": {},
     "output_type": "execute_result"
    }
   ],
   "source": [
    "X_test.groupby('quantile_surf').agg({'mdape' : 'median'}).reset_index().set_index('quantile_surf').T"
   ]
  },
  {
   "cell_type": "code",
   "execution_count": 128,
   "metadata": {},
   "outputs": [
    {
     "data": {
      "text/html": [
       "<div>\n",
       "<style scoped>\n",
       "    .dataframe tbody tr th:only-of-type {\n",
       "        vertical-align: middle;\n",
       "    }\n",
       "\n",
       "    .dataframe tbody tr th {\n",
       "        vertical-align: top;\n",
       "    }\n",
       "\n",
       "    .dataframe thead th {\n",
       "        text-align: right;\n",
       "    }\n",
       "</style>\n",
       "<table border=\"1\" class=\"dataframe\">\n",
       "  <thead>\n",
       "    <tr style=\"text-align: right;\">\n",
       "      <th>quantile_valfonciere</th>\n",
       "      <th>0</th>\n",
       "      <th>1</th>\n",
       "      <th>2</th>\n",
       "      <th>3</th>\n",
       "      <th>4</th>\n",
       "      <th>5</th>\n",
       "    </tr>\n",
       "  </thead>\n",
       "  <tbody>\n",
       "    <tr>\n",
       "      <th>mdape</th>\n",
       "      <td>9.86857</td>\n",
       "      <td>9.986994</td>\n",
       "      <td>8.833322</td>\n",
       "      <td>9.47825</td>\n",
       "      <td>9.67377</td>\n",
       "      <td>11.371809</td>\n",
       "    </tr>\n",
       "  </tbody>\n",
       "</table>\n",
       "</div>"
      ],
      "text/plain": [
       "quantile_valfonciere        0         1         2        3        4          5\n",
       "mdape                 9.86857  9.986994  8.833322  9.47825  9.67377  11.371809"
      ]
     },
     "execution_count": 128,
     "metadata": {},
     "output_type": "execute_result"
    }
   ],
   "source": [
    "X_test.groupby('quantile_valfonciere').agg({'mdape' : 'median'}).reset_index().set_index('quantile_valfonciere').T"
   ]
  },
  {
   "cell_type": "markdown",
   "metadata": {},
   "source": [
    "### GradientBoost"
   ]
  },
  {
   "cell_type": "code",
   "execution_count": 103,
   "metadata": {},
   "outputs": [
    {
     "name": "stdout",
     "output_type": "stream",
     "text": [
      "MAPE:  13.913051410328443\n",
      "MDAPE:  10.969994680872164\n"
     ]
    }
   ],
   "source": [
    "pipe = Pipeline([('scaler', StandardScaler()), ('GBoost', GradientBoostingRegressor())])\n",
    "parameters = {'GBoost__n_estimators': [50, 100, 150, 250, 500]} # defining parameter space\n",
    "gboost_pipe = GridSearchCV(pipe, parameters, cv=5)\n",
    "gboost_pipe.fit(X_train_rf_m, df_train_m[label_train_m])\n",
    "\n",
    "compute_scores(gboost_pipe, X_test_rf_m, df_test_m[label_test_m])"
   ]
  }
 ],
 "metadata": {
  "kernelspec": {
   "display_name": "Python 3",
   "language": "python",
   "name": "python3"
  },
  "language_info": {
   "codemirror_mode": {
    "name": "ipython",
    "version": 3
   },
   "file_extension": ".py",
   "mimetype": "text/x-python",
   "name": "python",
   "nbconvert_exporter": "python",
   "pygments_lexer": "ipython3",
   "version": "3.7.6"
  }
 },
 "nbformat": 4,
 "nbformat_minor": 5
}
