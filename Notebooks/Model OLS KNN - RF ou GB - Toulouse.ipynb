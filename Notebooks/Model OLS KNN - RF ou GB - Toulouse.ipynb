{
 "cells": [
  {
   "cell_type": "code",
   "execution_count": null,
   "metadata": {},
   "outputs": [],
   "source": []
  },
  {
   "cell_type": "code",
   "execution_count": 3,
   "metadata": {},
   "outputs": [],
   "source": [
    "import pandas as pd\n",
    "import numpy as np\n",
    "import matplotlib.pyplot as plt\n",
    "import plotly.express as px\n",
    "\n",
    "pd.set_option('display.max_columns', None)\n",
    "pd.options.mode.chained_assignment = None\n",
    "\n",
    "\n",
    "    # OLS\n",
    "import statsmodels.api as sm\n",
    "    # ML Models\n",
    "from sklearn.neighbors import KNeighborsRegressor\n",
    "from sklearn.ensemble import RandomForestRegressor, GradientBoostingRegressor\n",
    "\n",
    "    # Pipeline & Preprocess\n",
    "from sklearn.pipeline import Pipeline\n",
    "from sklearn.preprocessing import MaxAbsScaler, StandardScaler, MinMaxScaler\n",
    "from sklearn.model_selection import train_test_split, GridSearchCV\n",
    "\n",
    "    # Scores\n",
    "from sklearn.metrics import balanced_accuracy_score, make_scorer, f1_score\n",
    "from sklearn.metrics import roc_auc_score\n",
    "from sklearn.metrics import accuracy_score\n",
    "from sklearn.metrics import mean_absolute_error , r2_score\n",
    "from sklearn.metrics import mean_absolute_percentage_error"
   ]
  },
  {
   "cell_type": "markdown",
   "metadata": {},
   "source": [
    "#### Run Helpers"
   ]
  },
  {
   "cell_type": "code",
   "execution_count": 2,
   "metadata": {},
   "outputs": [],
   "source": [
    "%run '../Helpers/Data_Process.py'\n",
    "%run '../Helpers/Models.py'\n",
    "%run '../Helpers/Data_visualisation.py'"
   ]
  },
  {
   "cell_type": "code",
   "execution_count": null,
   "metadata": {},
   "outputs": [],
   "source": []
  },
  {
   "cell_type": "markdown",
   "metadata": {},
   "source": [
    "### Data"
   ]
  },
  {
   "cell_type": "code",
   "execution_count": 5,
   "metadata": {},
   "outputs": [],
   "source": [
    "df = pd.read_csv('../Data/df_Toulouse_appartement_vf.csv',low_memory=False)"
   ]
  },
  {
   "cell_type": "code",
   "execution_count": 6,
   "metadata": {},
   "outputs": [],
   "source": [
    "dfm = pd.read_csv('../Data/df_Toulouse_maison_vf.csv',low_memory=False)"
   ]
  },
  {
   "cell_type": "code",
   "execution_count": 7,
   "metadata": {},
   "outputs": [],
   "source": [
    "list_dist_metro_dummies = []\n",
    "for i in range(0,df.shape[0]):\n",
    "    if df['dist_metro'].iloc[i] <= 200 :\n",
    "        a = 0\n",
    "    elif (df['dist_metro'].iloc[i] <= 500) & (df['dist_metro'].iloc[i] > 200) :\n",
    "        a = 1\n",
    "    elif (df['dist_metro'].iloc[i] > 500) & (df['dist_metro'].iloc[i] <= 1000) :\n",
    "        a = 2\n",
    "    else:\n",
    "        a = 3\n",
    "    list_dist_metro_dummies.append(a)\n",
    "df['dist_metro_dummies'] = list_dist_metro_dummies"
   ]
  },
  {
   "cell_type": "markdown",
   "metadata": {},
   "source": [
    "### OLS"
   ]
  },
  {
   "cell_type": "code",
   "execution_count": 8,
   "metadata": {},
   "outputs": [],
   "source": [
    "#dummies_pr_var_continues(df, 'dist_metro', 200)\n",
    "dummies_pr_var_continues(df, 'Nombre_dependance', 0)\n",
    "dummies_pr_var_continues(df, 'Ec_maternelle', 0)\n",
    "dummies_pr_var_continues(df, 'Ec_elementaire', 0)"
   ]
  },
  {
   "cell_type": "code",
   "execution_count": 9,
   "metadata": {},
   "outputs": [],
   "source": [
    "df_train = df[df['date_mutation'] < '2021-04-01']\n",
    "df_test = df[df['date_mutation'] >= '2021-04-01']"
   ]
  },
  {
   "cell_type": "code",
   "execution_count": 10,
   "metadata": {},
   "outputs": [],
   "source": [
    "df_train = pd.concat([df_train, pd.get_dummies(df_train[['quarter']])], axis = 1)"
   ]
  },
  {
   "cell_type": "code",
   "execution_count": 11,
   "metadata": {},
   "outputs": [],
   "source": [
    "df_train['n_pieces_BienStandard'] = df_train['nombre_pieces_principales']-3\n",
    "df_train['n_dependances_BienStandard'] = df_train['Nombre_dependance']"
   ]
  },
  {
   "cell_type": "code",
   "execution_count": 12,
   "metadata": {},
   "outputs": [],
   "source": [
    "features_ols = ['quarter_2017_Q4', 'quarter_2018_Q1', 'quarter_2018_Q2', 'quarter_2018_Q3',\n",
    "'quarter_2018_Q4', 'quarter_2019_Q1', 'quarter_2019_Q2',\n",
    "'quarter_2019_Q3', 'quarter_2019_Q4', 'quarter_2020_Q1','quarter_2020_Q2', \n",
    "'quarter_2020_Q3', 'quarter_2020_Q4','quarter_2021_Q1',\n",
    "'n_pieces_BienStandard', 'n_dependances_BienStandard']\n",
    "outcome = 'Prix_m2'"
   ]
  },
  {
   "cell_type": "code",
   "execution_count": 13,
   "metadata": {},
   "outputs": [
    {
     "name": "stdout",
     "output_type": "stream",
     "text": [
      "                            OLS Regression Results                            \n",
      "==============================================================================\n",
      "Dep. Variable:                Prix_m2   R-squared:                       0.104\n",
      "Model:                            OLS   Adj. R-squared:                  0.103\n",
      "Method:                 Least Squares   F-statistic:                     142.4\n",
      "Date:                Sun, 02 Apr 2023   Prob (F-statistic):               0.00\n",
      "Time:                        21:17:17   Log-Likelihood:            -1.6238e+05\n",
      "No. Observations:               19709   AIC:                         3.248e+05\n",
      "Df Residuals:                   19692   BIC:                         3.249e+05\n",
      "Df Model:                          16                                         \n",
      "Covariance Type:            nonrobust                                         \n",
      "==============================================================================================\n",
      "                                 coef    std err          t      P>|t|      [0.025      0.975]\n",
      "----------------------------------------------------------------------------------------------\n",
      "const                       2961.5797     26.312    112.555      0.000    2910.005    3013.154\n",
      "quarter_2017_Q4                5.0968     36.216      0.141      0.888     -65.890      76.084\n",
      "quarter_2018_Q1               20.9137     36.811      0.568      0.570     -51.240      93.067\n",
      "quarter_2018_Q2               78.2727     36.838      2.125      0.034       6.067     150.478\n",
      "quarter_2018_Q3              133.2600     34.861      3.823      0.000      64.930     201.590\n",
      "quarter_2018_Q4              168.8167     35.336      4.778      0.000      99.556     238.077\n",
      "quarter_2019_Q1              171.6317     35.693      4.809      0.000     101.671     241.592\n",
      "quarter_2019_Q2              137.5225     35.165      3.911      0.000      68.596     206.449\n",
      "quarter_2019_Q3              261.9251     34.259      7.645      0.000     194.774     329.076\n",
      "quarter_2019_Q4              278.1257     34.143      8.146      0.000     211.202     345.049\n",
      "quarter_2020_Q1              353.3681     35.432      9.973      0.000     283.918     422.819\n",
      "quarter_2020_Q2              534.8764     36.009     14.854      0.000     464.296     605.457\n",
      "quarter_2020_Q3              589.0713     35.941     16.390      0.000     518.624     659.519\n",
      "quarter_2020_Q4              559.8235     34.607     16.177      0.000     491.992     627.655\n",
      "quarter_2021_Q1              507.5567     36.246     14.003      0.000     436.511     578.602\n",
      "n_pieces_BienStandard       -152.3170      6.082    -25.044      0.000    -164.238    -140.396\n",
      "n_dependances_BienStandard  -238.5607      9.837    -24.250      0.000    -257.843    -219.278\n",
      "==============================================================================\n",
      "Omnibus:                     1169.508   Durbin-Watson:                   0.651\n",
      "Prob(Omnibus):                  0.000   Jarque-Bera (JB):             1468.433\n",
      "Skew:                           0.581   Prob(JB):                         0.00\n",
      "Kurtosis:                       3.662   Cond. No.                         22.6\n",
      "==============================================================================\n",
      "\n",
      "Notes:\n",
      "[1] Standard Errors assume that the covariance matrix of the errors is correctly specified.\n"
     ]
    }
   ],
   "source": [
    "model = model_OLS_prix(df_train, 'Prix_m2', features_ols, summary = True)"
   ]
  },
  {
   "cell_type": "code",
   "execution_count": 14,
   "metadata": {},
   "outputs": [
    {
     "data": {
      "image/png": "[encoded data removed]",
      "text/plain": [
       "<Figure size 432x288 with 1 Axes>"
      ]
     },
     "metadata": {
      "needs_background": "light"
     },
     "output_type": "display_data"
    }
   ],
   "source": [
    "df_train = add_indice_prix(df_train, indice_prix_quarter(model, plot = True))"
   ]
  },
  {
   "cell_type": "markdown",
   "metadata": {},
   "source": [
    "### KNN"
   ]
  },
  {
   "cell_type": "code",
   "execution_count": 15,
   "metadata": {},
   "outputs": [],
   "source": [
    "    # Dependant variables : cooridnates\n",
    "features_knn = ['latitude', 'longitude']\n",
    "    # Output\n",
    "label_train = 'Prix_m2_actualise_Q1_2021'\n",
    "label_test = 'Prix_m2'"
   ]
  },
  {
   "cell_type": "code",
   "execution_count": 16,
   "metadata": {},
   "outputs": [
    {
     "name": "stdout",
     "output_type": "stream",
     "text": [
      "Returned hyperparameter: {'Knn__n_neighbors': 23}\n"
     ]
    }
   ],
   "source": [
    "knn_pipe = model_KNN_coordinates(df_train, df_test, features_knn,\n",
    "                          label_train, label_test,\n",
    "                          MinMaxScaler(), 'uniform', 25, 5)"
   ]
  },
  {
   "cell_type": "code",
   "execution_count": 17,
   "metadata": {},
   "outputs": [
    {
     "name": "stdout",
     "output_type": "stream",
     "text": [
      "MAPE:  11.589403301592382\n",
      "MDAPE:  9.145257573447289\n"
     ]
    }
   ],
   "source": [
    "    # Scores on TRAIN dataset\n",
    "compute_scores(knn_pipe, df_train[features_knn], df_train[label_train])"
   ]
  },
  {
   "cell_type": "code",
   "execution_count": 18,
   "metadata": {},
   "outputs": [
    {
     "name": "stdout",
     "output_type": "stream",
     "text": [
      "MAPE:  12.08485738488736\n",
      "MDAPE:  10.242775367593355\n"
     ]
    }
   ],
   "source": [
    "    # Scores on TEST dataset\n",
    "compute_scores(knn_pipe, df_test[features_knn], df_test[label_test])"
   ]
  },
  {
   "cell_type": "markdown",
   "metadata": {},
   "source": [
    "### RF"
   ]
  },
  {
   "cell_type": "code",
   "execution_count": 19,
   "metadata": {},
   "outputs": [],
   "source": [
    "features_RF = [#'Nombre_dependance', \n",
    "               'Nombre_dependance', 'dist_metro',\n",
    "               #'dist_metro', \n",
    "               'nombre_pieces_principales',\n",
    "               #'Ec_elementaire', 'Ec_maternelle',\n",
    "               'Ec_elementaire', 'Ec_maternelle',\n",
    "               'N_apparts', \n",
    "               'DISP_MED19', \n",
    "               'Part_chomeurs', \n",
    "               #'P19_LOG','P19_RP_SDB','P19_RP_CCCOLL',\n",
    "               #'P19_RP_CCIND','P19_RP_CINDELEC'\n",
    "]"
   ]
  },
  {
   "cell_type": "code",
   "execution_count": 20,
   "metadata": {},
   "outputs": [],
   "source": [
    "RF_model = model_RF_post_KNN(df_test, df_train, features_RF, features_knn, label_train, label_test,\n",
    "                      model_knn = knn_pipe, standardisation = StandardScaler(), range_depth = [1, 1000], nb_cv = 5)"
   ]
  },
  {
   "cell_type": "code",
   "execution_count": 21,
   "metadata": {},
   "outputs": [
    {
     "name": "stdout",
     "output_type": "stream",
     "text": [
      "MAPE:  11.817103687804734\n",
      "MDAPE:  9.815316206206123\n"
     ]
    }
   ],
   "source": [
    "X_train_rf = df_train[features_RF]\n",
    "X_train_rf['y_pred_knn'] = knn_pipe.predict(df_train[features_knn])\n",
    "X_test_rf = df_test[features_RF]\n",
    "X_test_rf['y_pred_knn'] = knn_pipe.predict(df_test[features_knn])\n",
    "compute_scores(RF_model, X_test_rf, df_test[label_test])"
   ]
  },
  {
   "cell_type": "code",
   "execution_count": 22,
   "metadata": {},
   "outputs": [
    {
     "data": {
      "image/png": "[encoded data removed]",
      "text/plain": [
       "<Figure size 1080x576 with 1 Axes>"
      ]
     },
     "metadata": {
      "needs_background": "light"
     },
     "output_type": "display_data"
    }
   ],
   "source": [
    "RF_importances = RF_model.best_estimator_.named_steps[\"RForest\"].feature_importances_\n",
    "features_importances(RF_importances, X_train_rf)"
   ]
  },
  {
   "cell_type": "code",
   "execution_count": 23,
   "metadata": {},
   "outputs": [
    {
     "name": "stdout",
     "output_type": "stream",
     "text": [
      "MAPE:  11.790295957018673\n",
      "MDAPE:  9.904328389301787\n"
     ]
    }
   ],
   "source": [
    "pipe = Pipeline([('scaler', StandardScaler()), ('GBoost', GradientBoostingRegressor())])\n",
    "parameters = {'GBoost__n_estimators': [50, 100, 150, 250, 500]} # defining parameter space\n",
    "gboost_pipe = GridSearchCV(pipe, parameters, cv=5)\n",
    "gboost_pipe.fit(X_train_rf, df_train[label_train])\n",
    "\n",
    "compute_scores(gboost_pipe, X_test_rf, df_test[label_test])"
   ]
  },
  {
   "cell_type": "markdown",
   "metadata": {},
   "source": [
    "### Maison"
   ]
  },
  {
   "cell_type": "markdown",
   "metadata": {},
   "source": [
    "### OLS"
   ]
  },
  {
   "cell_type": "code",
   "execution_count": 24,
   "metadata": {},
   "outputs": [],
   "source": [
    "#dummies_pr_var_continues(dfm, 'dist_metro', 0.01)\n",
    "dummies_pr_var_continues(dfm, 'Nombre_dependance', 0)\n",
    "dummies_pr_var_continues(dfm, 'Ec_maternelle', 0)\n",
    "dummies_pr_var_continues(dfm, 'Ec_elementaire', 0)\n",
    "\n",
    "df_train_m = dfm[dfm['date_mutation'] < '2021-04-01']\n",
    "df_test_m = dfm[dfm['date_mutation'] >= '2021-04-01']\n",
    "\n",
    "df_train_m = pd.concat([df_train_m, pd.get_dummies(df_train_m[['quarter']])], axis = 1)\n",
    "df_train_m['n_pieces_BienStandard'] = df_train_m['nombre_pieces_principales']- 4 #4c'est le nombre le plus frequent\n",
    "df_train_m['n_dependances_BienStandard'] = df_train_m['Nombre_dependance']\n",
    "\n",
    "features_ols = ['quarter_2017_Q4', 'quarter_2018_Q1', 'quarter_2018_Q2', 'quarter_2018_Q3',\n",
    "'quarter_2018_Q4', 'quarter_2019_Q1', 'quarter_2019_Q2',\n",
    "'quarter_2019_Q3', 'quarter_2019_Q4', 'quarter_2020_Q1','quarter_2020_Q2', \n",
    "'quarter_2020_Q3', 'quarter_2020_Q4','quarter_2021_Q1',\n",
    "'n_pieces_BienStandard', 'n_dependances_BienStandard']\n",
    "outcome = 'Prix_m2'\n",
    "\n",
    "list_dist_metro_dummies = []\n",
    "for i in range(0,dfm.shape[0]):\n",
    "    if dfm['dist_metro'].iloc[i] <= 200 :\n",
    "        a = 0\n",
    "    elif (dfm['dist_metro'].iloc[i] <= 500) & (dfm['dist_metro'].iloc[i] > 200) :\n",
    "        a = 1\n",
    "    elif (dfm['dist_metro'].iloc[i] > 500) & (dfm['dist_metro'].iloc[i] <= 1000) :\n",
    "        a = 2\n",
    "    else:\n",
    "        a = 3\n",
    "    list_dist_metro_dummies.append(a)\n",
    "dfm['dist_metro_dummies'] = list_dist_metro_dummies\n"
   ]
  },
  {
   "cell_type": "code",
   "execution_count": 25,
   "metadata": {},
   "outputs": [
    {
     "name": "stdout",
     "output_type": "stream",
     "text": [
      "                            OLS Regression Results                            \n",
      "==============================================================================\n",
      "Dep. Variable:                Prix_m2   R-squared:                       0.033\n",
      "Model:                            OLS   Adj. R-squared:                  0.026\n",
      "Method:                 Least Squares   F-statistic:                     4.966\n",
      "Date:                Sun, 02 Apr 2023   Prob (F-statistic):           3.28e-10\n",
      "Time:                        21:19:18   Log-Likelihood:                -19152.\n",
      "No. Observations:                2336   AIC:                         3.834e+04\n",
      "Df Residuals:                    2319   BIC:                         3.844e+04\n",
      "Df Model:                          16                                         \n",
      "Covariance Type:            nonrobust                                         \n",
      "==============================================================================================\n",
      "                                 coef    std err          t      P>|t|      [0.025      0.975]\n",
      "----------------------------------------------------------------------------------------------\n",
      "const                       2967.9014     67.566     43.926      0.000    2835.405    3100.398\n",
      "quarter_2017_Q4              102.3037     96.983      1.055      0.292     -87.878     292.485\n",
      "quarter_2018_Q1              113.3133    102.329      1.107      0.268     -87.353     313.980\n",
      "quarter_2018_Q2              131.1472    100.945      1.299      0.194     -66.805     329.099\n",
      "quarter_2018_Q3               79.6037     92.769      0.858      0.391    -102.316     261.523\n",
      "quarter_2018_Q4              146.7330     98.436      1.491      0.136     -46.298     339.764\n",
      "quarter_2019_Q1               73.8928     99.825      0.740      0.459    -121.863     269.649\n",
      "quarter_2019_Q2              111.4050     94.563      1.178      0.239     -74.032     296.842\n",
      "quarter_2019_Q3              282.5892     94.262      2.998      0.003      97.743     467.436\n",
      "quarter_2019_Q4              259.9810     94.293      2.757      0.006      75.074     444.888\n",
      "quarter_2020_Q1              184.0995    102.928      1.789      0.074     -17.741     385.940\n",
      "quarter_2020_Q2              335.8157    102.622      3.272      0.001     134.575     537.056\n",
      "quarter_2020_Q3              380.0166    104.570      3.634      0.000     174.956     585.077\n",
      "quarter_2020_Q4              465.4481     91.771      5.072      0.000     285.486     645.410\n",
      "quarter_2021_Q1              487.3303     98.279      4.959      0.000     294.607     680.054\n",
      "n_pieces_BienStandard         54.5945     13.712      3.982      0.000      27.705      81.484\n",
      "n_dependances_BienStandard   -88.3638     43.046     -2.053      0.040    -172.777      -3.950\n",
      "==============================================================================\n",
      "Omnibus:                      268.076   Durbin-Watson:                   0.907\n",
      "Prob(Omnibus):                  0.000   Jarque-Bera (JB):              401.765\n",
      "Skew:                           0.836   Prob(JB):                     5.73e-88\n",
      "Kurtosis:                       4.153   Cond. No.                         22.5\n",
      "==============================================================================\n",
      "\n",
      "Notes:\n",
      "[1] Standard Errors assume that the covariance matrix of the errors is correctly specified.\n"
     ]
    }
   ],
   "source": [
    "model_m = model_OLS_prix(df_train_m, 'Prix_m2', features_ols, summary = True)"
   ]
  },
  {
   "cell_type": "code",
   "execution_count": 26,
   "metadata": {
    "scrolled": true
   },
   "outputs": [
    {
     "data": {
      "image/png": "[encoded data removed]",
      "text/plain": [
       "<Figure size 432x288 with 1 Axes>"
      ]
     },
     "metadata": {
      "needs_background": "light"
     },
     "output_type": "display_data"
    }
   ],
   "source": [
    "df_train_m = add_indice_prix(df_train_m, indice_prix_quarter(model_m, plot = True))"
   ]
  },
  {
   "cell_type": "markdown",
   "metadata": {},
   "source": [
    "### KNN"
   ]
  },
  {
   "cell_type": "code",
   "execution_count": 40,
   "metadata": {},
   "outputs": [
    {
     "name": "stdout",
     "output_type": "stream",
     "text": [
      "Returned hyperparameter: {'Knn__n_neighbors': 9}\n"
     ]
    }
   ],
   "source": [
    "    # Dependant variables : cooridnates\n",
    "features_knn = ['latitude', 'longitude']\n",
    "    # Output\n",
    "label_train_m  = 'Prix_m2_actualise_Q1_2021'\n",
    "label_test_m   = 'Prix_m2'\n",
    "\n",
    "knn_pipe_m = model_KNN_coordinates(df_train_m, df_test_m, features_knn,\n",
    "                          label_train_m, label_test_m,\n",
    "                          MinMaxScaler(), 'uniform', 25, 5)"
   ]
  },
  {
   "cell_type": "code",
   "execution_count": 28,
   "metadata": {},
   "outputs": [
    {
     "name": "stdout",
     "output_type": "stream",
     "text": [
      "MAPE:  13.038484336994777\n",
      "MDAPE:  9.721214998290776\n"
     ]
    }
   ],
   "source": [
    "    # Scores on TRAIN dataset\n",
    "compute_scores(knn_pipe_m, df_train_m[features_knn], df_train_m[label_train])"
   ]
  },
  {
   "cell_type": "code",
   "execution_count": 31,
   "metadata": {},
   "outputs": [
    {
     "name": "stdout",
     "output_type": "stream",
     "text": [
      "MAPE:  13.692739237676943\n",
      "MDAPE:  10.938316272248416\n"
     ]
    }
   ],
   "source": [
    "    # Scores on TEST dataset\n",
    "compute_scores(knn_pipe_m, df_test_m[features_knn], df_test_m[label_test])"
   ]
  },
  {
   "cell_type": "code",
   "execution_count": 41,
   "metadata": {},
   "outputs": [
    {
     "name": "stdout",
     "output_type": "stream",
     "text": [
      "Returned hyperparameter: {'Knn__n_neighbors': 13}\n"
     ]
    }
   ],
   "source": [
    "knn_pipe_m_distance = model_KNN_coordinates(df_train_m, df_test_m, features_knn,\n",
    "                          label_train_m, label_test_m,\n",
    "                          MinMaxScaler(), 'distance', 25, 5)"
   ]
  },
  {
   "cell_type": "code",
   "execution_count": 42,
   "metadata": {},
   "outputs": [
    {
     "name": "stdout",
     "output_type": "stream",
     "text": [
      "MAPE:  1.1261338763083255\n",
      "MDAPE:  0.0\n"
     ]
    }
   ],
   "source": [
    "    # Scores on TRAIN dataset\n",
    "compute_scores(knn_pipe_m_distance, df_train_m[features_knn], df_train_m[label_train])"
   ]
  },
  {
   "cell_type": "code",
   "execution_count": 46,
   "metadata": {},
   "outputs": [
    {
     "name": "stdout",
     "output_type": "stream",
     "text": [
      "MAPE:  13.647884600385773\n",
      "MDAPE:  10.854386821482828\n"
     ]
    }
   ],
   "source": [
    "    # Scores on TEST dataset\n",
    "compute_scores(knn_pipe_m_distance, df_test_m[features_knn], df_test_m[label_test])"
   ]
  },
  {
   "cell_type": "markdown",
   "metadata": {},
   "source": [
    "### RF"
   ]
  },
  {
   "cell_type": "code",
   "execution_count": 54,
   "metadata": {},
   "outputs": [],
   "source": [
    "features_RF_m = [#'Nombre_dependance', \n",
    "               'Nombre_dependance', 'dist_metro',\n",
    "               #'dist_metro', \n",
    "               'nombre_pieces_principales',\n",
    "               #'Ec_elementaire', 'Ec_maternelle',\n",
    "               'Ec_elementaire_dummy', 'Ec_maternelle_dummy',\n",
    "               'N_apparts', \n",
    "               'DISP_MED19', \n",
    "               'Part_chomeurs', \n",
    "               #'P19_LOG','P19_RP_SDB','P19_RP_CCCOLL',\n",
    "               #'P19_RP_CCIND','P19_RP_CINDELEC'\n",
    "]"
   ]
  },
  {
   "cell_type": "code",
   "execution_count": 55,
   "metadata": {},
   "outputs": [],
   "source": [
    "RF_model_m = model_RF_post_KNN(df_test_m, df_train_m, features_RF_m, features_knn, label_train_m, label_test_m,\n",
    "                      model_knn = knn_pipe_m, standardisation = StandardScaler(), range_depth = [20, 40, 60], nb_cv = 5)\n"
   ]
  },
  {
   "cell_type": "code",
   "execution_count": 56,
   "metadata": {},
   "outputs": [
    {
     "name": "stdout",
     "output_type": "stream",
     "text": [
      "MAPE:  14.48906827010559\n",
      "MDAPE:  11.649408824069894\n"
     ]
    }
   ],
   "source": [
    "X_train_rf_m = df_train_m[features_RF_m]\n",
    "X_train_rf_m['y_pred_knn'] = knn_pipe_m.predict(df_train_m[features_knn])\n",
    "X_test_rf_m = df_test_m[features_RF_m]\n",
    "X_test_rf_m['y_pred_knn'] = knn_pipe_m.predict(df_test_m[features_knn])\n",
    "compute_scores(RF_model_m, X_test_rf_m, df_test_m[label_test_m])"
   ]
  },
  {
   "cell_type": "code",
   "execution_count": 57,
   "metadata": {},
   "outputs": [
    {
     "data": {
      "image/png": "[encoded data removed]",
      "text/plain": [
       "<Figure size 1080x576 with 1 Axes>"
      ]
     },
     "metadata": {
      "needs_background": "light"
     },
     "output_type": "display_data"
    }
   ],
   "source": [
    "RF_importances_m = RF_model_m.best_estimator_.named_steps[\"RForest\"].feature_importances_\n",
    "features_importances(RF_importances_m, X_train_rf_m)"
   ]
  },
  {
   "cell_type": "code",
   "execution_count": null,
   "metadata": {},
   "outputs": [],
   "source": []
  }
 ],
 "metadata": {
  "kernelspec": {
   "display_name": "Python 3",
   "language": "python",
   "name": "python3"
  },
  "language_info": {
   "codemirror_mode": {
    "name": "ipython",
    "version": 3
   },
   "file_extension": ".py",
   "mimetype": "text/x-python",
   "name": "python",
   "nbconvert_exporter": "python",
   "pygments_lexer": "ipython3",
   "version": "3.7.6"
  }
 },
 "nbformat": 4,
 "nbformat_minor": 5
}
