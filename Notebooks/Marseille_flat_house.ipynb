{
 "cells": [
  {
   "cell_type": "markdown",
   "metadata": {},
   "source": [
    "# Model for Marseille"
   ]
  },
  {
   "cell_type": "code",
   "execution_count": 1,
   "metadata": {},
   "outputs": [],
   "source": [
    "import pandas as pd\n",
    "import numpy as np\n",
    "import matplotlib.pyplot as plt\n",
    "import plotly.express as px\n",
    "\n",
    "pd.set_option('display.max_columns', None)\n",
    "pd.options.mode.chained_assignment = None\n",
    "\n",
    "\n",
    "    # OLS\n",
    "import statsmodels.api as sm\n",
    "    # ML Models\n",
    "from sklearn.neighbors import KNeighborsRegressor\n",
    "from sklearn.ensemble import RandomForestRegressor, GradientBoostingRegressor\n",
    "\n",
    "    # Pipeline & Preprocess\n",
    "from sklearn.pipeline import Pipeline\n",
    "from sklearn.preprocessing import MaxAbsScaler, StandardScaler, MinMaxScaler\n",
    "from sklearn.model_selection import train_test_split, GridSearchCV\n",
    "\n",
    "    # Scores\n",
    "from sklearn.metrics import balanced_accuracy_score, make_scorer, f1_score\n",
    "from sklearn.metrics import roc_auc_score\n",
    "from sklearn.metrics import accuracy_score\n",
    "from sklearn.metrics import mean_absolute_error , r2_score\n",
    "from sklearn.metrics import mean_absolute_percentage_error"
   ]
  },
  {
   "cell_type": "markdown",
   "metadata": {},
   "source": [
    "#### Run Helpers"
   ]
  },
  {
   "cell_type": "code",
   "execution_count": 2,
   "metadata": {},
   "outputs": [],
   "source": [
    "%run '../Helpers/Data_Process.py'\n",
    "%run '../Helpers/Models.py'\n",
    "%run '../Helpers/Data_visualisation.py'"
   ]
  },
  {
   "cell_type": "markdown",
   "metadata": {},
   "source": [
    "#### Datasets"
   ]
  },
  {
   "cell_type": "code",
   "execution_count": 3,
   "metadata": {},
   "outputs": [],
   "source": [
    "df = pd.read_csv('../Data/df_Marseille_appartement_sansProcess.csv',low_memory=False)"
   ]
  },
  {
   "cell_type": "code",
   "execution_count": 8,
   "metadata": {},
   "outputs": [],
   "source": [
    "dfm = pd.read_csv('../Data/df_Marseille_Maison_sansProcess.csv',low_memory=False)"
   ]
  },
  {
   "cell_type": "code",
   "execution_count": 9,
   "metadata": {},
   "outputs": [],
   "source": [
    "list_dist_metro_dummies = []\n",
    "for i in range(0,df.shape[0]):\n",
    "    if df['dist_metro'].iloc[i] <= 200 :\n",
    "        a = 0\n",
    "    elif (df['dist_metro'].iloc[i] <= 500) & (df['dist_metro'].iloc[i] > 200) :\n",
    "        a = 1\n",
    "    elif (df['dist_metro'].iloc[i] > 500) & (df['dist_metro'].iloc[i] <= 1000) :\n",
    "        a = 2\n",
    "    else:\n",
    "        a = 3\n",
    "    list_dist_metro_dummies.append(a)\n",
    "df['dist_metro_dummies'] = list_dist_metro_dummies"
   ]
  },
  {
   "cell_type": "code",
   "execution_count": 10,
   "metadata": {},
   "outputs": [],
   "source": [
    "dummies_pr_var_continues(df, 'Nombre_dependance', 0)\n",
    "dummies_pr_var_continues(df, 'Ec_maternelle', 0)\n",
    "dummies_pr_var_continues(df, 'Ec_elementaire', 0)"
   ]
  },
  {
   "cell_type": "markdown",
   "metadata": {},
   "source": [
    "### OLS (Price Index)"
   ]
  },
  {
   "cell_type": "code",
   "execution_count": 11,
   "metadata": {},
   "outputs": [],
   "source": [
    "    # SPLIT test/train\n",
    "df_train = df[df['date_mutation'] < '2021-04-01']\n",
    "df_test = df[df['date_mutation'] >= '2021-04-01']"
   ]
  },
  {
   "cell_type": "code",
   "execution_count": 12,
   "metadata": {},
   "outputs": [],
   "source": [
    "df_train = pd.concat([df_train, pd.get_dummies(df_train[['quarter']])], axis = 1)"
   ]
  },
  {
   "cell_type": "code",
   "execution_count": 13,
   "metadata": {},
   "outputs": [],
   "source": [
    "    # Definition of a standard apartment\n",
    "df_train['n_pieces_BienStandard'] = df_train['nombre_pieces_principales']-3\n",
    "df_train['n_dependances_BienStandard'] = df_train['Nombre_dependance']"
   ]
  },
  {
   "cell_type": "code",
   "execution_count": 14,
   "metadata": {},
   "outputs": [],
   "source": [
    "features_ols = ['quarter_2017_Q4', 'quarter_2018_Q1', 'quarter_2018_Q2', 'quarter_2018_Q3',\n",
    "'quarter_2018_Q4', 'quarter_2019_Q1', 'quarter_2019_Q2',\n",
    "'quarter_2019_Q3', 'quarter_2019_Q4', 'quarter_2020_Q1','quarter_2020_Q2', \n",
    "'quarter_2020_Q3', 'quarter_2020_Q4','quarter_2021_Q1',\n",
    "'n_pieces_BienStandard', 'n_dependances_BienStandard']\n",
    "outcome = 'Prix_m2'"
   ]
  },
  {
   "cell_type": "code",
   "execution_count": 15,
   "metadata": {},
   "outputs": [
    {
     "name": "stdout",
     "output_type": "stream",
     "text": [
      "                            OLS Regression Results                            \n",
      "==============================================================================\n",
      "Dep. Variable:                Prix_m2   R-squared:                       0.040\n",
      "Model:                            OLS   Adj. R-squared:                  0.039\n",
      "Method:                 Least Squares   F-statistic:                     103.1\n",
      "Date:                Tue, 04 Apr 2023   Prob (F-statistic):               0.00\n",
      "Time:                        14:24:35   Log-Likelihood:            -3.5263e+05\n",
      "No. Observations:               40125   AIC:                         7.053e+05\n",
      "Df Residuals:                   40108   BIC:                         7.055e+05\n",
      "Df Model:                          16                                         \n",
      "Covariance Type:            nonrobust                                         \n",
      "==============================================================================================\n",
      "                                 coef    std err          t      P>|t|      [0.025      0.975]\n",
      "----------------------------------------------------------------------------------------------\n",
      "const                       2424.6004     31.461     77.066      0.000    2362.935    2486.266\n",
      "quarter_2017_Q4             -105.4437     45.408     -2.322      0.020    -194.445     -16.442\n",
      "quarter_2018_Q1              -38.9534     45.310     -0.860      0.390    -127.762      49.855\n",
      "quarter_2018_Q2             -104.8384     44.588     -2.351      0.019    -192.232     -17.445\n",
      "quarter_2018_Q3              -31.2714     43.356     -0.721      0.471    -116.251      53.708\n",
      "quarter_2018_Q4              -31.8062     43.955     -0.724      0.469    -117.960      54.347\n",
      "quarter_2019_Q1              -34.9298     44.358     -0.787      0.431    -121.873      52.013\n",
      "quarter_2019_Q2               -8.4275     43.576     -0.193      0.847     -93.838      76.983\n",
      "quarter_2019_Q3               75.0173     42.247      1.776      0.076      -7.787     157.822\n",
      "quarter_2019_Q4              241.8967     43.307      5.586      0.000     157.014     326.780\n",
      "quarter_2020_Q1              214.7393     45.416      4.728      0.000     125.723     303.756\n",
      "quarter_2020_Q2              213.8940     45.362      4.715      0.000     124.983     302.805\n",
      "quarter_2020_Q3              260.0089     43.375      5.994      0.000     174.992     345.025\n",
      "quarter_2020_Q4              186.2487     41.507      4.487      0.000     104.894     267.603\n",
      "quarter_2021_Q1              142.8238     43.391      3.292      0.001      57.777     227.871\n",
      "n_pieces_BienStandard       -144.0888      7.252    -19.869      0.000    -158.302    -129.875\n",
      "n_dependances_BienStandard   295.3251      9.026     32.719      0.000     277.634     313.017\n",
      "==============================================================================\n",
      "Omnibus:                    89566.472   Durbin-Watson:                   1.545\n",
      "Prob(Omnibus):                  0.000   Jarque-Bera (JB):       2082838239.434\n",
      "Skew:                          20.325   Prob(JB):                         0.00\n",
      "Kurtosis:                    1118.418   Cond. No.                         19.2\n",
      "==============================================================================\n",
      "\n",
      "Notes:\n",
      "[1] Standard Errors assume that the covariance matrix of the errors is correctly specified.\n"
     ]
    }
   ],
   "source": [
    "model = model_OLS_prix(df_train, 'Prix_m2', features_ols, summary = True)"
   ]
  },
  {
   "cell_type": "code",
   "execution_count": 16,
   "metadata": {},
   "outputs": [
    {
     "data": {
      "image/png": "[encoded data removed]",
      "text/plain": [
       "<Figure size 432x288 with 1 Axes>"
      ]
     },
     "metadata": {
      "needs_background": "light"
     },
     "output_type": "display_data"
    }
   ],
   "source": [
    "df_train = add_indice_prix(df_train, indice_prix_quarter(model, plot = True))"
   ]
  },
  {
   "cell_type": "markdown",
   "metadata": {},
   "source": [
    "### KNN"
   ]
  },
  {
   "cell_type": "code",
   "execution_count": 17,
   "metadata": {},
   "outputs": [],
   "source": [
    "    # Dependant variables : cooridnates\n",
    "features_knn = ['latitude', 'longitude']\n",
    "    # Output\n",
    "label_train = 'Prix_m2_actualise_Q1_2021'\n",
    "label_test = 'Prix_m2'"
   ]
  },
  {
   "cell_type": "code",
   "execution_count": 25,
   "metadata": {},
   "outputs": [
    {
     "name": "stdout",
     "output_type": "stream",
     "text": [
      "Returned hyperparameter: {'Knn__n_neighbors': 11}\n"
     ]
    }
   ],
   "source": [
    "knn_pipe = model_KNN_coordinates(df_train, df_test, features_knn,\n",
    "                          label_train, label_test,\n",
    "                          MinMaxScaler(), 'uniform', 13, 5)"
   ]
  },
  {
   "cell_type": "code",
   "execution_count": 26,
   "metadata": {},
   "outputs": [
    {
     "name": "stdout",
     "output_type": "stream",
     "text": [
      "MAPE:  32.73899061462341\n",
      "MDAPE:  14.994481982466091\n"
     ]
    }
   ],
   "source": [
    "    # Scores on TRAIN dataset\n",
    "compute_scores(knn_pipe, df_train[features_knn], df_train[label_train])"
   ]
  },
  {
   "cell_type": "code",
   "execution_count": 27,
   "metadata": {},
   "outputs": [
    {
     "name": "stdout",
     "output_type": "stream",
     "text": [
      "MAPE:  33.0271276736089\n",
      "MDAPE:  16.67460830442707\n"
     ]
    }
   ],
   "source": [
    "    # Scores on TEST dataset\n",
    "compute_scores(knn_pipe, df_test[features_knn], df_test[label_test])"
   ]
  },
  {
   "cell_type": "markdown",
   "metadata": {},
   "source": [
    "#### Analysis of mdape"
   ]
  },
  {
   "cell_type": "code",
   "execution_count": 28,
   "metadata": {},
   "outputs": [],
   "source": [
    "X_test = df_test.copy()\n",
    "    # Add predictions to the test sample\n",
    "y_pred = knn_pipe.predict(X_test[features_knn])\n",
    "X_test[\"y_pred\"] = y_pred\n",
    "    # Add the true value of the outcome in the test sample\n",
    "X_test['y_true'] = df_test[label_test]\n",
    "    # Compute the relative percentage error\n",
    "X_test['mdape'] = np.abs((X_test['y_true'] - X_test[\"y_pred\"])/X_test['y_true'])*100"
   ]
  },
  {
   "cell_type": "code",
   "execution_count": 29,
   "metadata": {},
   "outputs": [
    {
     "data": {
      "text/html": [
       "<div>\n",
       "<style scoped>\n",
       "    .dataframe tbody tr th:only-of-type {\n",
       "        vertical-align: middle;\n",
       "    }\n",
       "\n",
       "    .dataframe tbody tr th {\n",
       "        vertical-align: top;\n",
       "    }\n",
       "\n",
       "    .dataframe thead th {\n",
       "        text-align: right;\n",
       "    }\n",
       "</style>\n",
       "<table border=\"1\" class=\"dataframe\">\n",
       "  <thead>\n",
       "    <tr style=\"text-align: right;\">\n",
       "      <th>quarter</th>\n",
       "      <th>2021_Q2</th>\n",
       "      <th>2021_Q3</th>\n",
       "      <th>2021_Q4</th>\n",
       "      <th>2022_Q1</th>\n",
       "      <th>2022_Q2</th>\n",
       "    </tr>\n",
       "  </thead>\n",
       "  <tbody>\n",
       "    <tr>\n",
       "      <th>mdape</th>\n",
       "      <td>16.001</td>\n",
       "      <td>17.31</td>\n",
       "      <td>15.456</td>\n",
       "      <td>10.663</td>\n",
       "      <td>23.734</td>\n",
       "    </tr>\n",
       "  </tbody>\n",
       "</table>\n",
       "</div>"
      ],
      "text/plain": [
       "quarter  2021_Q2  2021_Q3  2021_Q4  2022_Q1  2022_Q2\n",
       "mdape     16.001    17.31   15.456   10.663   23.734"
      ]
     },
     "execution_count": 29,
     "metadata": {},
     "output_type": "execute_result"
    }
   ],
   "source": [
    "round(X_test.groupby('quarter').agg({'mdape' : 'median'}).reset_index().set_index('quarter').T, 3)"
   ]
  },
  {
   "cell_type": "code",
   "execution_count": 30,
   "metadata": {},
   "outputs": [
    {
     "data": {
      "text/html": [
       "<div>\n",
       "<style scoped>\n",
       "    .dataframe tbody tr th:only-of-type {\n",
       "        vertical-align: middle;\n",
       "    }\n",
       "\n",
       "    .dataframe tbody tr th {\n",
       "        vertical-align: top;\n",
       "    }\n",
       "\n",
       "    .dataframe thead th {\n",
       "        text-align: right;\n",
       "    }\n",
       "</style>\n",
       "<table border=\"1\" class=\"dataframe\">\n",
       "  <thead>\n",
       "    <tr style=\"text-align: right;\">\n",
       "      <th>Arrondissement</th>\n",
       "      <th>13201</th>\n",
       "      <th>13202</th>\n",
       "      <th>13203</th>\n",
       "      <th>13204</th>\n",
       "      <th>13205</th>\n",
       "      <th>13206</th>\n",
       "      <th>13207</th>\n",
       "      <th>13208</th>\n",
       "      <th>13209</th>\n",
       "      <th>13210</th>\n",
       "      <th>13211</th>\n",
       "      <th>13212</th>\n",
       "      <th>13213</th>\n",
       "      <th>13214</th>\n",
       "      <th>13215</th>\n",
       "      <th>13216</th>\n",
       "    </tr>\n",
       "  </thead>\n",
       "  <tbody>\n",
       "    <tr>\n",
       "      <th>mdape</th>\n",
       "      <td>23.293</td>\n",
       "      <td>19.636</td>\n",
       "      <td>21.682</td>\n",
       "      <td>19.484</td>\n",
       "      <td>18.108</td>\n",
       "      <td>20.622</td>\n",
       "      <td>21.595</td>\n",
       "      <td>14.065</td>\n",
       "      <td>13.425</td>\n",
       "      <td>16.392</td>\n",
       "      <td>12.589</td>\n",
       "      <td>12.356</td>\n",
       "      <td>12.422</td>\n",
       "      <td>17.179</td>\n",
       "      <td>17.756</td>\n",
       "      <td>13.665</td>\n",
       "    </tr>\n",
       "  </tbody>\n",
       "</table>\n",
       "</div>"
      ],
      "text/plain": [
       "Arrondissement   13201   13202   13203   13204   13205   13206   13207  \\\n",
       "mdape           23.293  19.636  21.682  19.484  18.108  20.622  21.595   \n",
       "\n",
       "Arrondissement   13208   13209   13210   13211   13212   13213   13214  \\\n",
       "mdape           14.065  13.425  16.392  12.589  12.356  12.422  17.179   \n",
       "\n",
       "Arrondissement   13215   13216  \n",
       "mdape           17.756  13.665  "
      ]
     },
     "execution_count": 30,
     "metadata": {},
     "output_type": "execute_result"
    }
   ],
   "source": [
    "round(X_test.groupby('Arrondissement').agg({'mdape' : 'median'}).reset_index().set_index('Arrondissement').T, 3)"
   ]
  },
  {
   "cell_type": "code",
   "execution_count": 31,
   "metadata": {},
   "outputs": [],
   "source": [
    "X_test['quantile_surf'] = pd.qcut(X_test['surface_reelle_bati'], 6, labels=False)\n",
    "X_test['quantile_valfonciere'] = pd.qcut(X_test['valeur_fonciere'], 6, labels=False)"
   ]
  },
  {
   "cell_type": "code",
   "execution_count": 32,
   "metadata": {},
   "outputs": [
    {
     "data": {
      "text/html": [
       "<div>\n",
       "<style scoped>\n",
       "    .dataframe tbody tr th:only-of-type {\n",
       "        vertical-align: middle;\n",
       "    }\n",
       "\n",
       "    .dataframe tbody tr th {\n",
       "        vertical-align: top;\n",
       "    }\n",
       "\n",
       "    .dataframe thead th {\n",
       "        text-align: right;\n",
       "    }\n",
       "</style>\n",
       "<table border=\"1\" class=\"dataframe\">\n",
       "  <thead>\n",
       "    <tr style=\"text-align: right;\">\n",
       "      <th>quantile_surf</th>\n",
       "      <th>0</th>\n",
       "      <th>1</th>\n",
       "      <th>2</th>\n",
       "      <th>3</th>\n",
       "      <th>4</th>\n",
       "      <th>5</th>\n",
       "    </tr>\n",
       "  </thead>\n",
       "  <tbody>\n",
       "    <tr>\n",
       "      <th>mdape</th>\n",
       "      <td>21.607</td>\n",
       "      <td>18.858</td>\n",
       "      <td>17.076</td>\n",
       "      <td>13.556</td>\n",
       "      <td>15.186</td>\n",
       "      <td>15.087</td>\n",
       "    </tr>\n",
       "  </tbody>\n",
       "</table>\n",
       "</div>"
      ],
      "text/plain": [
       "quantile_surf       0       1       2       3       4       5\n",
       "mdape          21.607  18.858  17.076  13.556  15.186  15.087"
      ]
     },
     "execution_count": 32,
     "metadata": {},
     "output_type": "execute_result"
    }
   ],
   "source": [
    "round(X_test.groupby('quantile_surf').agg({'mdape' : 'median'}).reset_index().set_index('quantile_surf').T, 3)"
   ]
  },
  {
   "cell_type": "code",
   "execution_count": 33,
   "metadata": {},
   "outputs": [
    {
     "data": {
      "text/html": [
       "<div>\n",
       "<style scoped>\n",
       "    .dataframe tbody tr th:only-of-type {\n",
       "        vertical-align: middle;\n",
       "    }\n",
       "\n",
       "    .dataframe tbody tr th {\n",
       "        vertical-align: top;\n",
       "    }\n",
       "\n",
       "    .dataframe thead th {\n",
       "        text-align: right;\n",
       "    }\n",
       "</style>\n",
       "<table border=\"1\" class=\"dataframe\">\n",
       "  <thead>\n",
       "    <tr style=\"text-align: right;\">\n",
       "      <th>quantile_valfonciere</th>\n",
       "      <th>0</th>\n",
       "      <th>1</th>\n",
       "      <th>2</th>\n",
       "      <th>3</th>\n",
       "      <th>4</th>\n",
       "      <th>5</th>\n",
       "    </tr>\n",
       "  </thead>\n",
       "  <tbody>\n",
       "    <tr>\n",
       "      <th>mdape</th>\n",
       "      <td>23.937</td>\n",
       "      <td>16.403</td>\n",
       "      <td>16.286</td>\n",
       "      <td>14.308</td>\n",
       "      <td>13.022</td>\n",
       "      <td>19.154</td>\n",
       "    </tr>\n",
       "  </tbody>\n",
       "</table>\n",
       "</div>"
      ],
      "text/plain": [
       "quantile_valfonciere       0       1       2       3       4       5\n",
       "mdape                 23.937  16.403  16.286  14.308  13.022  19.154"
      ]
     },
     "execution_count": 33,
     "metadata": {},
     "output_type": "execute_result"
    }
   ],
   "source": [
    "round(X_test.groupby('quantile_valfonciere').agg({'mdape' : 'median'}).reset_index().set_index('quantile_valfonciere').T, 3)"
   ]
  },
  {
   "cell_type": "markdown",
   "metadata": {},
   "source": [
    "## Selection of features"
   ]
  },
  {
   "cell_type": "code",
   "execution_count": 36,
   "metadata": {},
   "outputs": [],
   "source": [
    "df_test_vif = df[['nombre_pieces_principales','Nombre_dependance',\n",
    "                  'N_apparts', 'Part_chomeurs', 'Ec_maternelle', 'Ec_elementaire',\n",
    "                  'dist_metro']]"
   ]
  },
  {
   "cell_type": "code",
   "execution_count": 37,
   "metadata": {},
   "outputs": [
    {
     "data": {
      "text/html": [
       "<div>\n",
       "<style scoped>\n",
       "    .dataframe tbody tr th:only-of-type {\n",
       "        vertical-align: middle;\n",
       "    }\n",
       "\n",
       "    .dataframe tbody tr th {\n",
       "        vertical-align: top;\n",
       "    }\n",
       "\n",
       "    .dataframe thead th {\n",
       "        text-align: right;\n",
       "    }\n",
       "</style>\n",
       "<table border=\"1\" class=\"dataframe\">\n",
       "  <thead>\n",
       "    <tr style=\"text-align: right;\">\n",
       "      <th></th>\n",
       "      <th>variables</th>\n",
       "      <th>VIF</th>\n",
       "    </tr>\n",
       "  </thead>\n",
       "  <tbody>\n",
       "    <tr>\n",
       "      <th>0</th>\n",
       "      <td>nombre_pieces_principales</td>\n",
       "      <td>5.224223</td>\n",
       "    </tr>\n",
       "    <tr>\n",
       "      <th>1</th>\n",
       "      <td>Nombre_dependance</td>\n",
       "      <td>1.348067</td>\n",
       "    </tr>\n",
       "    <tr>\n",
       "      <th>2</th>\n",
       "      <td>N_apparts</td>\n",
       "      <td>6.032427</td>\n",
       "    </tr>\n",
       "    <tr>\n",
       "      <th>3</th>\n",
       "      <td>Part_chomeurs</td>\n",
       "      <td>6.562134</td>\n",
       "    </tr>\n",
       "    <tr>\n",
       "      <th>4</th>\n",
       "      <td>Ec_maternelle</td>\n",
       "      <td>2.127675</td>\n",
       "    </tr>\n",
       "    <tr>\n",
       "      <th>5</th>\n",
       "      <td>Ec_elementaire</td>\n",
       "      <td>2.481401</td>\n",
       "    </tr>\n",
       "    <tr>\n",
       "      <th>6</th>\n",
       "      <td>dist_metro</td>\n",
       "      <td>1.318923</td>\n",
       "    </tr>\n",
       "  </tbody>\n",
       "</table>\n",
       "</div>"
      ],
      "text/plain": [
       "                   variables       VIF\n",
       "0  nombre_pieces_principales  5.224223\n",
       "1          Nombre_dependance  1.348067\n",
       "2                  N_apparts  6.032427\n",
       "3              Part_chomeurs  6.562134\n",
       "4              Ec_maternelle  2.127675\n",
       "5             Ec_elementaire  2.481401\n",
       "6                 dist_metro  1.318923"
      ]
     },
     "execution_count": 37,
     "metadata": {},
     "output_type": "execute_result"
    }
   ],
   "source": [
    "calc_vif(df_test_vif)"
   ]
  },
  {
   "cell_type": "markdown",
   "metadata": {},
   "source": [
    "### RF"
   ]
  },
  {
   "cell_type": "code",
   "execution_count": 38,
   "metadata": {},
   "outputs": [],
   "source": [
    "features_RF = ['nombre_pieces_principales','Nombre_dependance',\n",
    "                  'N_apparts', 'Part_chomeurs', 'Ec_maternelle', 'Ec_elementaire',\n",
    "                  'dist_metro']"
   ]
  },
  {
   "cell_type": "code",
   "execution_count": 39,
   "metadata": {},
   "outputs": [],
   "source": [
    "RF_model = model_RF_post_KNN(df_test, df_train, features_RF, features_knn, label_train, label_test,\n",
    "                      model_knn = knn_pipe, standardisation = StandardScaler(), range_depth = [20, 40, 60], nb_cv = 5)"
   ]
  },
  {
   "cell_type": "code",
   "execution_count": 40,
   "metadata": {},
   "outputs": [
    {
     "name": "stdout",
     "output_type": "stream",
     "text": [
      "MAPE:  34.26562243004642\n",
      "MDAPE:  16.340581812342307\n"
     ]
    }
   ],
   "source": [
    "X_train_rf = df_train[features_RF]\n",
    "X_train_rf['y_pred_knn'] = knn_pipe.predict(df_train[features_knn])\n",
    "X_test_rf = df_test[features_RF]\n",
    "X_test_rf['y_pred_knn'] = knn_pipe.predict(df_test[features_knn])\n",
    "compute_scores(RF_model, X_test_rf, df_test[label_test])"
   ]
  },
  {
   "cell_type": "code",
   "execution_count": 41,
   "metadata": {},
   "outputs": [
    {
     "data": {
      "text/plain": [
       "Pipeline(steps=[('scaler', StandardScaler()),\n",
       "                ('RForest', RandomForestRegressor(max_depth=40))])"
      ]
     },
     "execution_count": 41,
     "metadata": {},
     "output_type": "execute_result"
    }
   ],
   "source": [
    "RF_model.best_estimator_"
   ]
  },
  {
   "cell_type": "code",
   "execution_count": 42,
   "metadata": {},
   "outputs": [
    {
     "data": {
      "image/png": "[encoded data removed]",
      "text/plain": [
       "<Figure size 1080x576 with 1 Axes>"
      ]
     },
     "metadata": {
      "needs_background": "light"
     },
     "output_type": "display_data"
    }
   ],
   "source": [
    "RF_importances = RF_model.best_estimator_.named_steps[\"RForest\"].feature_importances_\n",
    "features_importances(RF_importances, X_train_rf)"
   ]
  },
  {
   "cell_type": "code",
   "execution_count": 43,
   "metadata": {},
   "outputs": [
    {
     "name": "stdout",
     "output_type": "stream",
     "text": [
      "MAPE:  33.54263464868114\n",
      "MDAPE:  15.966664887507303\n"
     ]
    }
   ],
   "source": [
    "pipe = Pipeline([('scaler', StandardScaler()), ('GBoost', GradientBoostingRegressor())])\n",
    "parameters = {'GBoost__n_estimators': [50, 100, 150, 250, 500]} # defining parameter space\n",
    "gboost_pipe = GridSearchCV(pipe, parameters, cv=5)\n",
    "gboost_pipe.fit(X_train_rf, df_train[label_train])\n",
    "\n",
    "compute_scores(gboost_pipe, X_test_rf, df_test[label_test])"
   ]
  },
  {
   "cell_type": "markdown",
   "metadata": {},
   "source": [
    "#### Analysis of mdape"
   ]
  },
  {
   "cell_type": "code",
   "execution_count": 46,
   "metadata": {},
   "outputs": [],
   "source": [
    "X_test = df_test.copy()\n",
    "X_test['y_pred_knn'] = knn_pipe.predict(X_test[features_knn])"
   ]
  },
  {
   "cell_type": "code",
   "execution_count": 47,
   "metadata": {},
   "outputs": [],
   "source": [
    "y_pred = RF_model.predict(X_test[features_RF + ['y_pred_knn']])\n",
    "X_test[\"y_pred\"] = y_pred\n",
    "X_test['y_true'] = df_test[label_test]\n",
    "X_test['mdape'] = np.abs((X_test['y_true'] - X_test[\"y_pred\"])/X_test['y_true'])*100"
   ]
  },
  {
   "cell_type": "code",
   "execution_count": 48,
   "metadata": {},
   "outputs": [
    {
     "data": {
      "text/html": [
       "<div>\n",
       "<style scoped>\n",
       "    .dataframe tbody tr th:only-of-type {\n",
       "        vertical-align: middle;\n",
       "    }\n",
       "\n",
       "    .dataframe tbody tr th {\n",
       "        vertical-align: top;\n",
       "    }\n",
       "\n",
       "    .dataframe thead th {\n",
       "        text-align: right;\n",
       "    }\n",
       "</style>\n",
       "<table border=\"1\" class=\"dataframe\">\n",
       "  <thead>\n",
       "    <tr style=\"text-align: right;\">\n",
       "      <th>quarter</th>\n",
       "      <th>2021_Q2</th>\n",
       "      <th>2021_Q3</th>\n",
       "      <th>2021_Q4</th>\n",
       "      <th>2022_Q1</th>\n",
       "      <th>2022_Q2</th>\n",
       "    </tr>\n",
       "  </thead>\n",
       "  <tbody>\n",
       "    <tr>\n",
       "      <th>mdape</th>\n",
       "      <td>16.167323</td>\n",
       "      <td>16.502225</td>\n",
       "      <td>15.193683</td>\n",
       "      <td>12.972815</td>\n",
       "      <td>28.341604</td>\n",
       "    </tr>\n",
       "  </tbody>\n",
       "</table>\n",
       "</div>"
      ],
      "text/plain": [
       "quarter    2021_Q2    2021_Q3    2021_Q4    2022_Q1    2022_Q2\n",
       "mdape    16.167323  16.502225  15.193683  12.972815  28.341604"
      ]
     },
     "execution_count": 48,
     "metadata": {},
     "output_type": "execute_result"
    }
   ],
   "source": [
    "X_test.groupby('quarter').agg({'mdape' : 'median'}).reset_index().set_index('quarter').T"
   ]
  },
  {
   "cell_type": "code",
   "execution_count": 49,
   "metadata": {},
   "outputs": [
    {
     "data": {
      "text/html": [
       "<div>\n",
       "<style scoped>\n",
       "    .dataframe tbody tr th:only-of-type {\n",
       "        vertical-align: middle;\n",
       "    }\n",
       "\n",
       "    .dataframe tbody tr th {\n",
       "        vertical-align: top;\n",
       "    }\n",
       "\n",
       "    .dataframe thead th {\n",
       "        text-align: right;\n",
       "    }\n",
       "</style>\n",
       "<table border=\"1\" class=\"dataframe\">\n",
       "  <thead>\n",
       "    <tr style=\"text-align: right;\">\n",
       "      <th>Arrondissement</th>\n",
       "      <th>13201</th>\n",
       "      <th>13202</th>\n",
       "      <th>13203</th>\n",
       "      <th>13204</th>\n",
       "      <th>13205</th>\n",
       "      <th>13206</th>\n",
       "      <th>13207</th>\n",
       "      <th>13208</th>\n",
       "      <th>13209</th>\n",
       "      <th>13210</th>\n",
       "      <th>13211</th>\n",
       "      <th>13212</th>\n",
       "      <th>13213</th>\n",
       "      <th>13214</th>\n",
       "      <th>13215</th>\n",
       "      <th>13216</th>\n",
       "    </tr>\n",
       "  </thead>\n",
       "  <tbody>\n",
       "    <tr>\n",
       "      <th>mdape</th>\n",
       "      <td>23.56</td>\n",
       "      <td>20.632</td>\n",
       "      <td>21.386</td>\n",
       "      <td>17.954</td>\n",
       "      <td>18.115</td>\n",
       "      <td>21.034</td>\n",
       "      <td>22.286</td>\n",
       "      <td>13.735</td>\n",
       "      <td>12.714</td>\n",
       "      <td>13.835</td>\n",
       "      <td>12.134</td>\n",
       "      <td>12.159</td>\n",
       "      <td>12.421</td>\n",
       "      <td>17.431</td>\n",
       "      <td>19.824</td>\n",
       "      <td>20.11</td>\n",
       "    </tr>\n",
       "  </tbody>\n",
       "</table>\n",
       "</div>"
      ],
      "text/plain": [
       "Arrondissement  13201   13202   13203   13204   13205   13206   13207   13208  \\\n",
       "mdape           23.56  20.632  21.386  17.954  18.115  21.034  22.286  13.735   \n",
       "\n",
       "Arrondissement   13209   13210   13211   13212   13213   13214   13215  13216  \n",
       "mdape           12.714  13.835  12.134  12.159  12.421  17.431  19.824  20.11  "
      ]
     },
     "execution_count": 49,
     "metadata": {},
     "output_type": "execute_result"
    }
   ],
   "source": [
    "round(X_test.groupby('Arrondissement').agg({'mdape' : 'median'}).reset_index().set_index('Arrondissement').T, 3)"
   ]
  },
  {
   "cell_type": "code",
   "execution_count": 50,
   "metadata": {},
   "outputs": [],
   "source": [
    "X_test['quantile_surf'] = pd.qcut(X_test['surface_reelle_bati'], 6, labels=False)\n",
    "X_test['quantile_valfonciere'] = pd.qcut(X_test['valeur_fonciere'], 6, labels=False)"
   ]
  },
  {
   "cell_type": "code",
   "execution_count": 51,
   "metadata": {},
   "outputs": [
    {
     "data": {
      "text/html": [
       "<div>\n",
       "<style scoped>\n",
       "    .dataframe tbody tr th:only-of-type {\n",
       "        vertical-align: middle;\n",
       "    }\n",
       "\n",
       "    .dataframe tbody tr th {\n",
       "        vertical-align: top;\n",
       "    }\n",
       "\n",
       "    .dataframe thead th {\n",
       "        text-align: right;\n",
       "    }\n",
       "</style>\n",
       "<table border=\"1\" class=\"dataframe\">\n",
       "  <thead>\n",
       "    <tr style=\"text-align: right;\">\n",
       "      <th>quantile_surf</th>\n",
       "      <th>0</th>\n",
       "      <th>1</th>\n",
       "      <th>2</th>\n",
       "      <th>3</th>\n",
       "      <th>4</th>\n",
       "      <th>5</th>\n",
       "    </tr>\n",
       "  </thead>\n",
       "  <tbody>\n",
       "    <tr>\n",
       "      <th>mdape</th>\n",
       "      <td>21.179</td>\n",
       "      <td>17.45</td>\n",
       "      <td>16.748</td>\n",
       "      <td>13.63</td>\n",
       "      <td>15.094</td>\n",
       "      <td>14.902</td>\n",
       "    </tr>\n",
       "  </tbody>\n",
       "</table>\n",
       "</div>"
      ],
      "text/plain": [
       "quantile_surf       0      1       2      3       4       5\n",
       "mdape          21.179  17.45  16.748  13.63  15.094  14.902"
      ]
     },
     "execution_count": 51,
     "metadata": {},
     "output_type": "execute_result"
    }
   ],
   "source": [
    "round(X_test.groupby('quantile_surf').agg({'mdape' : 'median'}).reset_index().set_index('quantile_surf').T, 3)"
   ]
  },
  {
   "cell_type": "code",
   "execution_count": 52,
   "metadata": {},
   "outputs": [
    {
     "data": {
      "text/html": [
       "<div>\n",
       "<style scoped>\n",
       "    .dataframe tbody tr th:only-of-type {\n",
       "        vertical-align: middle;\n",
       "    }\n",
       "\n",
       "    .dataframe tbody tr th {\n",
       "        vertical-align: top;\n",
       "    }\n",
       "\n",
       "    .dataframe thead th {\n",
       "        text-align: right;\n",
       "    }\n",
       "</style>\n",
       "<table border=\"1\" class=\"dataframe\">\n",
       "  <thead>\n",
       "    <tr style=\"text-align: right;\">\n",
       "      <th>quantile_valfonciere</th>\n",
       "      <th>0</th>\n",
       "      <th>1</th>\n",
       "      <th>2</th>\n",
       "      <th>3</th>\n",
       "      <th>4</th>\n",
       "      <th>5</th>\n",
       "    </tr>\n",
       "  </thead>\n",
       "  <tbody>\n",
       "    <tr>\n",
       "      <th>mdape</th>\n",
       "      <td>25.915</td>\n",
       "      <td>16.339</td>\n",
       "      <td>14.622</td>\n",
       "      <td>14.115</td>\n",
       "      <td>13.367</td>\n",
       "      <td>17.901</td>\n",
       "    </tr>\n",
       "  </tbody>\n",
       "</table>\n",
       "</div>"
      ],
      "text/plain": [
       "quantile_valfonciere       0       1       2       3       4       5\n",
       "mdape                 25.915  16.339  14.622  14.115  13.367  17.901"
      ]
     },
     "execution_count": 52,
     "metadata": {},
     "output_type": "execute_result"
    }
   ],
   "source": [
    "round(X_test.groupby('quantile_valfonciere').agg({'mdape' : 'median'}).reset_index().set_index('quantile_valfonciere').T, 3)"
   ]
  },
  {
   "cell_type": "markdown",
   "metadata": {},
   "source": [
    "## Maison"
   ]
  },
  {
   "cell_type": "markdown",
   "metadata": {},
   "source": [
    "#### OLS"
   ]
  },
  {
   "cell_type": "code",
   "execution_count": 53,
   "metadata": {},
   "outputs": [],
   "source": [
    "#dummies_pr_var_continues(dfm, 'dist_metro', 0.01)\n",
    "dummies_pr_var_continues(dfm, 'Nombre_dependance', 0)\n",
    "dummies_pr_var_continues(dfm, 'Ec_maternelle', 0)\n",
    "dummies_pr_var_continues(dfm, 'Ec_elementaire', 0)\n",
    "\n",
    "list_dist_metro_dummies = []\n",
    "for i in range(0,dfm.shape[0]):\n",
    "    if dfm['dist_metro'].iloc[i] <= 200 :\n",
    "        a = 0\n",
    "    elif (dfm['dist_metro'].iloc[i] <= 500) & (dfm['dist_metro'].iloc[i] > 200) :\n",
    "        a = 1\n",
    "    elif (dfm['dist_metro'].iloc[i] > 500) & (dfm['dist_metro'].iloc[i] <= 1000) :\n",
    "        a = 2\n",
    "    else:\n",
    "        a = 3\n",
    "    list_dist_metro_dummies.append(a)\n",
    "dfm['dist_metro_dummies'] = list_dist_metro_dummies"
   ]
  },
  {
   "cell_type": "code",
   "execution_count": 54,
   "metadata": {},
   "outputs": [
    {
     "name": "stdout",
     "output_type": "stream",
     "text": [
      "92.33001318295005\n",
      "340.27552365607147\n"
     ]
    }
   ],
   "source": [
    "print(dfm.surface_reelle_bati.mean())\n",
    "print(dfm.surface_terrain.mean())"
   ]
  },
  {
   "cell_type": "code",
   "execution_count": 55,
   "metadata": {},
   "outputs": [],
   "source": [
    "df_train_m = dfm[dfm['date_mutation'] < '2021-04-01']\n",
    "df_test_m = dfm[dfm['date_mutation'] >= '2021-04-01']\n",
    "\n",
    "df_train_m = pd.concat([df_train_m, pd.get_dummies(df_train_m[['quarter']])], axis = 1)\n",
    "df_train_m['n_pieces_BienStandard'] = df_train_m['nombre_pieces_principales']- 4 #4c'est le nombre le plus frequent\n",
    "df_train_m['n_dependances_BienStandard'] = df_train_m['Nombre_dependance']\n",
    "df_train_m['surf_bati_BienStandard'] = df_train_m['surface_reelle_bati'] - dfm.surface_reelle_bati.mean()\n",
    "df_train_m['surf_terrain_BienStandard'] = df_train_m['surface_terrain'] - dfm.surface_terrain.mean()\n",
    "\n",
    "\n",
    "features_ols = ['quarter_2017_Q4', 'quarter_2018_Q1', 'quarter_2018_Q2', 'quarter_2018_Q3',\n",
    "'quarter_2018_Q4', 'quarter_2019_Q1', 'quarter_2019_Q2',\n",
    "'quarter_2019_Q3', 'quarter_2019_Q4', 'quarter_2020_Q1','quarter_2020_Q2', \n",
    "'quarter_2020_Q3', 'quarter_2020_Q4','quarter_2021_Q1',\n",
    "'n_pieces_BienStandard', 'n_dependances_BienStandard', 'surf_bati_BienStandard', 'surf_terrain_BienStandard']\n",
    "outcome = 'valeur_fonciere'"
   ]
  },
  {
   "cell_type": "code",
   "execution_count": 56,
   "metadata": {
    "scrolled": true
   },
   "outputs": [
    {
     "name": "stdout",
     "output_type": "stream",
     "text": [
      "                            OLS Regression Results                            \n",
      "==============================================================================\n",
      "Dep. Variable:        valeur_fonciere   R-squared:                       0.446\n",
      "Model:                            OLS   Adj. R-squared:                  0.444\n",
      "Method:                 Least Squares   F-statistic:                     263.7\n",
      "Date:                Tue, 04 Apr 2023   Prob (F-statistic):               0.00\n",
      "Time:                        14:36:34   Log-Likelihood:                -82462.\n",
      "No. Observations:                5918   AIC:                         1.650e+05\n",
      "Df Residuals:                    5899   BIC:                         1.651e+05\n",
      "Df Model:                          18                                         \n",
      "Covariance Type:            nonrobust                                         \n",
      "==============================================================================================\n",
      "                                 coef    std err          t      P>|t|      [0.025      0.975]\n",
      "----------------------------------------------------------------------------------------------\n",
      "const                       3.546e+05   1.31e+04     27.148      0.000    3.29e+05     3.8e+05\n",
      "quarter_2017_Q4             2039.8920   1.92e+04      0.106      0.916   -3.57e+04    3.98e+04\n",
      "quarter_2018_Q1             3258.4282   1.95e+04      0.167      0.868   -3.51e+04    4.16e+04\n",
      "quarter_2018_Q2             7345.9034   1.97e+04      0.374      0.709   -3.12e+04    4.59e+04\n",
      "quarter_2018_Q3             1.087e+04   1.84e+04      0.592      0.554   -2.52e+04    4.69e+04\n",
      "quarter_2018_Q4             3.416e+04   1.87e+04      1.824      0.068   -2562.548    7.09e+04\n",
      "quarter_2019_Q1            -1.612e+04   1.93e+04     -0.834      0.404    -5.4e+04    2.18e+04\n",
      "quarter_2019_Q2             2.648e+04   1.93e+04      1.375      0.169   -1.13e+04    6.42e+04\n",
      "quarter_2019_Q3             5.494e+04   1.81e+04      3.039      0.002    1.95e+04    9.04e+04\n",
      "quarter_2019_Q4             6.372e+04   1.85e+04      3.446      0.001    2.75e+04       1e+05\n",
      "quarter_2020_Q1             5.263e+04   2.02e+04      2.599      0.009    1.29e+04    9.23e+04\n",
      "quarter_2020_Q2             2.607e+04   2.06e+04      1.264      0.206   -1.44e+04    6.65e+04\n",
      "quarter_2020_Q3             4.663e+04   1.89e+04      2.469      0.014    9602.462    8.37e+04\n",
      "quarter_2020_Q4             4.165e+04   1.79e+04      2.326      0.020    6542.429    7.68e+04\n",
      "quarter_2021_Q1             2743.9121   1.89e+04      0.145      0.885   -3.44e+04    3.99e+04\n",
      "n_pieces_BienStandard      -1.418e+04   4138.227     -3.426      0.001   -2.23e+04   -6063.762\n",
      "n_dependances_BienStandard  1.476e+05   3539.670     41.686      0.000    1.41e+05    1.54e+05\n",
      "surf_bati_BienStandard      3844.5494    131.727     29.186      0.000    3586.316    4102.783\n",
      "surf_terrain_BienStandard    161.8108      9.430     17.159      0.000     143.325     180.297\n",
      "==============================================================================\n",
      "Omnibus:                     9390.978   Durbin-Watson:                   1.435\n",
      "Prob(Omnibus):                  0.000   Jarque-Bera (JB):         15054710.160\n",
      "Skew:                           9.773   Prob(JB):                         0.00\n",
      "Kurtosis:                     249.315   Cond. No.                     6.07e+03\n",
      "==============================================================================\n",
      "\n",
      "Notes:\n",
      "[1] Standard Errors assume that the covariance matrix of the errors is correctly specified.\n",
      "[2] The condition number is large, 6.07e+03. This might indicate that there are\n",
      "strong multicollinearity or other numerical problems.\n"
     ]
    }
   ],
   "source": [
    "model_m = model_OLS_prix(df_train_m, 'valeur_fonciere', features_ols, summary = True)"
   ]
  },
  {
   "cell_type": "code",
   "execution_count": 57,
   "metadata": {
    "scrolled": true
   },
   "outputs": [
    {
     "data": {
      "image/png": "[encoded data removed]",
      "text/plain": [
       "<Figure size 432x288 with 1 Axes>"
      ]
     },
     "metadata": {
      "needs_background": "light"
     },
     "output_type": "display_data"
    }
   ],
   "source": [
    "df_train_m = add_indice_prix_house(df_train_m, indice_prix_quarter(model_m, plot = True))"
   ]
  },
  {
   "cell_type": "code",
   "execution_count": null,
   "metadata": {},
   "outputs": [],
   "source": []
  },
  {
   "cell_type": "markdown",
   "metadata": {},
   "source": [
    "### KNN"
   ]
  },
  {
   "cell_type": "code",
   "execution_count": 81,
   "metadata": {},
   "outputs": [
    {
     "name": "stdout",
     "output_type": "stream",
     "text": [
      "Returned hyperparameter: {'Knn__n_neighbors': 21}\n"
     ]
    }
   ],
   "source": [
    "    # Dependant variables : cooridnates\n",
    "features_knn = ['latitude', 'longitude']\n",
    "    # Output\n",
    "label_train_m  = 'val_fonciere_actualise_Q1_2021'\n",
    "label_test_m   = 'valeur_fonciere'\n",
    "\n",
    "knn_pipe_m = model_KNN_coordinates(df_train_m, df_test_m, features_knn,\n",
    "                          label_train_m, label_test_m,\n",
    "                          MinMaxScaler(), 'uniform', 25, 5)"
   ]
  },
  {
   "cell_type": "code",
   "execution_count": 82,
   "metadata": {},
   "outputs": [
    {
     "name": "stdout",
     "output_type": "stream",
     "text": [
      "MAPE:  51.377897338264965\n",
      "MDAPE:  22.937155008702316\n"
     ]
    }
   ],
   "source": [
    "    # Scores on TRAIN dataset\n",
    "compute_scores(knn_pipe_m, df_train_m[features_knn], df_train_m[label_train_m])"
   ]
  },
  {
   "cell_type": "code",
   "execution_count": 83,
   "metadata": {},
   "outputs": [
    {
     "name": "stdout",
     "output_type": "stream",
     "text": [
      "MAPE:  41.5370527960042\n",
      "MDAPE:  28.946526854140338\n"
     ]
    }
   ],
   "source": [
    "    # Scores on TEST dataset\n",
    "compute_scores(knn_pipe_m, df_test_m[features_knn], df_test_m[label_test_m])"
   ]
  },
  {
   "cell_type": "markdown",
   "metadata": {},
   "source": [
    "### Selection of features"
   ]
  },
  {
   "cell_type": "code",
   "execution_count": 84,
   "metadata": {},
   "outputs": [],
   "source": [
    "df_test_vif = df[['Nombre_dependance', 'N_maisons',\n",
    "                  'Part_chomeurs', 'Ec_maternelle', 'Ec_elementaire',\n",
    "                  'dist_metro', 'surface_reelle_bati', 'surface_terrain', 'DISP_MED19']]"
   ]
  },
  {
   "cell_type": "code",
   "execution_count": 85,
   "metadata": {},
   "outputs": [
    {
     "data": {
      "text/html": [
       "<div>\n",
       "<style scoped>\n",
       "    .dataframe tbody tr th:only-of-type {\n",
       "        vertical-align: middle;\n",
       "    }\n",
       "\n",
       "    .dataframe tbody tr th {\n",
       "        vertical-align: top;\n",
       "    }\n",
       "\n",
       "    .dataframe thead th {\n",
       "        text-align: right;\n",
       "    }\n",
       "</style>\n",
       "<table border=\"1\" class=\"dataframe\">\n",
       "  <thead>\n",
       "    <tr style=\"text-align: right;\">\n",
       "      <th></th>\n",
       "      <th>variables</th>\n",
       "      <th>VIF</th>\n",
       "    </tr>\n",
       "  </thead>\n",
       "  <tbody>\n",
       "    <tr>\n",
       "      <th>0</th>\n",
       "      <td>Nombre_dependance</td>\n",
       "      <td>1.399967</td>\n",
       "    </tr>\n",
       "    <tr>\n",
       "      <th>1</th>\n",
       "      <td>N_maisons</td>\n",
       "      <td>1.912407</td>\n",
       "    </tr>\n",
       "    <tr>\n",
       "      <th>2</th>\n",
       "      <td>Part_chomeurs</td>\n",
       "      <td>4.770386</td>\n",
       "    </tr>\n",
       "    <tr>\n",
       "      <th>3</th>\n",
       "      <td>Ec_maternelle</td>\n",
       "      <td>2.114653</td>\n",
       "    </tr>\n",
       "    <tr>\n",
       "      <th>4</th>\n",
       "      <td>Ec_elementaire</td>\n",
       "      <td>2.542537</td>\n",
       "    </tr>\n",
       "    <tr>\n",
       "      <th>5</th>\n",
       "      <td>dist_metro</td>\n",
       "      <td>1.406051</td>\n",
       "    </tr>\n",
       "    <tr>\n",
       "      <th>6</th>\n",
       "      <td>surface_reelle_bati</td>\n",
       "      <td>7.070330</td>\n",
       "    </tr>\n",
       "    <tr>\n",
       "      <th>7</th>\n",
       "      <td>surface_terrain</td>\n",
       "      <td>1.002403</td>\n",
       "    </tr>\n",
       "    <tr>\n",
       "      <th>8</th>\n",
       "      <td>DISP_MED19</td>\n",
       "      <td>9.998384</td>\n",
       "    </tr>\n",
       "  </tbody>\n",
       "</table>\n",
       "</div>"
      ],
      "text/plain": [
       "             variables       VIF\n",
       "0    Nombre_dependance  1.399967\n",
       "1            N_maisons  1.912407\n",
       "2        Part_chomeurs  4.770386\n",
       "3        Ec_maternelle  2.114653\n",
       "4       Ec_elementaire  2.542537\n",
       "5           dist_metro  1.406051\n",
       "6  surface_reelle_bati  7.070330\n",
       "7      surface_terrain  1.002403\n",
       "8           DISP_MED19  9.998384"
      ]
     },
     "execution_count": 85,
     "metadata": {},
     "output_type": "execute_result"
    }
   ],
   "source": [
    "calc_vif(df_test_vif)"
   ]
  },
  {
   "cell_type": "markdown",
   "metadata": {},
   "source": [
    "### RF"
   ]
  },
  {
   "cell_type": "code",
   "execution_count": 86,
   "metadata": {},
   "outputs": [],
   "source": [
    "features_RF_m = ['Nombre_dependance', 'N_maisons',\n",
    "                  'Part_chomeurs', 'Ec_maternelle', 'Ec_elementaire',\n",
    "                  'dist_metro', 'surface_reelle_bati', 'surface_terrain', 'DISP_MED19']"
   ]
  },
  {
   "cell_type": "code",
   "execution_count": 87,
   "metadata": {},
   "outputs": [],
   "source": [
    "RF_model_m = model_RF_post_KNN(df_test_m, df_train_m, features_RF_m, features_knn, \n",
    "                               label_train_m, label_test_m,\n",
    "                               model_knn = knn_pipe_m, standardisation = StandardScaler(), \n",
    "                               range_depth = [20, 40, 60], nb_cv = 5)\n"
   ]
  },
  {
   "cell_type": "code",
   "execution_count": 88,
   "metadata": {},
   "outputs": [
    {
     "name": "stdout",
     "output_type": "stream",
     "text": [
      "MAPE:  30.124537321017357\n",
      "MDAPE:  21.364388610569023\n"
     ]
    }
   ],
   "source": [
    "X_train_rf_m = df_train_m[features_RF_m]\n",
    "X_train_rf_m['y_pred_knn'] = knn_pipe_m.predict(df_train_m[features_knn])\n",
    "X_test_rf_m = df_test_m[features_RF_m]\n",
    "X_test_rf_m['y_pred_knn'] = knn_pipe_m.predict(df_test_m[features_knn])\n",
    "compute_scores(RF_model_m, X_test_rf_m, df_test_m[label_test_m])"
   ]
  },
  {
   "cell_type": "code",
   "execution_count": 89,
   "metadata": {},
   "outputs": [
    {
     "data": {
      "image/png": "[encoded data removed]",
      "text/plain": [
       "<Figure size 1080x576 with 1 Axes>"
      ]
     },
     "metadata": {
      "needs_background": "light"
     },
     "output_type": "display_data"
    }
   ],
   "source": [
    "RF_importances_m = RF_model_m.best_estimator_.named_steps[\"RForest\"].feature_importances_\n",
    "features_importances(RF_importances_m, X_train_rf_m)"
   ]
  },
  {
   "cell_type": "code",
   "execution_count": 90,
   "metadata": {},
   "outputs": [],
   "source": [
    "X_test = df_test.copy()\n",
    "X_test['y_pred_knn'] = knn_pipe.predict(X_test[features_knn])\n",
    "y_pred = RF_model.predict(X_test[features_RF + ['y_pred_knn']])\n",
    "X_test[\"y_pred\"] = y_pred\n",
    "X_test['y_true'] = df_test[label_test]\n",
    "X_test['mdape'] = np.abs((X_test['y_true'] - X_test[\"y_pred\"])/X_test['y_true'])*100"
   ]
  },
  {
   "cell_type": "code",
   "execution_count": 91,
   "metadata": {},
   "outputs": [],
   "source": [
    "X_test['quantile_surf'] = pd.qcut(X_test['surface_reelle_bati'], 6, labels=False)\n",
    "#X_test['quantile_terrain'] = pd.qcut(X_test['surface_terrain'], 7, labels=False)\n",
    "X_test['quantile_valfonciere'] = pd.qcut(X_test['valeur_fonciere'], 6, labels=False)"
   ]
  },
  {
   "cell_type": "code",
   "execution_count": 92,
   "metadata": {},
   "outputs": [
    {
     "data": {
      "text/html": [
       "<div>\n",
       "<style scoped>\n",
       "    .dataframe tbody tr th:only-of-type {\n",
       "        vertical-align: middle;\n",
       "    }\n",
       "\n",
       "    .dataframe tbody tr th {\n",
       "        vertical-align: top;\n",
       "    }\n",
       "\n",
       "    .dataframe thead th {\n",
       "        text-align: right;\n",
       "    }\n",
       "</style>\n",
       "<table border=\"1\" class=\"dataframe\">\n",
       "  <thead>\n",
       "    <tr style=\"text-align: right;\">\n",
       "      <th>quantile_surf</th>\n",
       "      <th>0</th>\n",
       "      <th>1</th>\n",
       "      <th>2</th>\n",
       "      <th>3</th>\n",
       "      <th>4</th>\n",
       "      <th>5</th>\n",
       "    </tr>\n",
       "  </thead>\n",
       "  <tbody>\n",
       "    <tr>\n",
       "      <th>mdape</th>\n",
       "      <td>21.17855</td>\n",
       "      <td>17.450318</td>\n",
       "      <td>16.748221</td>\n",
       "      <td>13.630332</td>\n",
       "      <td>15.093534</td>\n",
       "      <td>14.901564</td>\n",
       "    </tr>\n",
       "  </tbody>\n",
       "</table>\n",
       "</div>"
      ],
      "text/plain": [
       "quantile_surf         0          1          2          3          4          5\n",
       "mdape          21.17855  17.450318  16.748221  13.630332  15.093534  14.901564"
      ]
     },
     "execution_count": 92,
     "metadata": {},
     "output_type": "execute_result"
    }
   ],
   "source": [
    "X_test.groupby('quantile_surf').agg({'mdape' : 'median'}).reset_index().set_index('quantile_surf').T"
   ]
  },
  {
   "cell_type": "code",
   "execution_count": 93,
   "metadata": {},
   "outputs": [
    {
     "data": {
      "text/html": [
       "<div>\n",
       "<style scoped>\n",
       "    .dataframe tbody tr th:only-of-type {\n",
       "        vertical-align: middle;\n",
       "    }\n",
       "\n",
       "    .dataframe tbody tr th {\n",
       "        vertical-align: top;\n",
       "    }\n",
       "\n",
       "    .dataframe thead th {\n",
       "        text-align: right;\n",
       "    }\n",
       "</style>\n",
       "<table border=\"1\" class=\"dataframe\">\n",
       "  <thead>\n",
       "    <tr style=\"text-align: right;\">\n",
       "      <th>quantile_valfonciere</th>\n",
       "      <th>0</th>\n",
       "      <th>1</th>\n",
       "      <th>2</th>\n",
       "      <th>3</th>\n",
       "      <th>4</th>\n",
       "      <th>5</th>\n",
       "    </tr>\n",
       "  </thead>\n",
       "  <tbody>\n",
       "    <tr>\n",
       "      <th>mdape</th>\n",
       "      <td>25.915002</td>\n",
       "      <td>16.339194</td>\n",
       "      <td>14.621834</td>\n",
       "      <td>14.115031</td>\n",
       "      <td>13.366569</td>\n",
       "      <td>17.900626</td>\n",
       "    </tr>\n",
       "  </tbody>\n",
       "</table>\n",
       "</div>"
      ],
      "text/plain": [
       "quantile_valfonciere          0          1          2          3          4  \\\n",
       "mdape                 25.915002  16.339194  14.621834  14.115031  13.366569   \n",
       "\n",
       "quantile_valfonciere          5  \n",
       "mdape                 17.900626  "
      ]
     },
     "execution_count": 93,
     "metadata": {},
     "output_type": "execute_result"
    }
   ],
   "source": [
    "X_test.groupby('quantile_valfonciere').agg({'mdape' : 'median'}).reset_index().set_index('quantile_valfonciere').T"
   ]
  },
  {
   "cell_type": "markdown",
   "metadata": {},
   "source": [
    "### GradientBoost"
   ]
  },
  {
   "cell_type": "code",
   "execution_count": 94,
   "metadata": {},
   "outputs": [
    {
     "name": "stdout",
     "output_type": "stream",
     "text": [
      "MAPE:  31.417805702936345\n",
      "MDAPE:  21.428321801318564\n"
     ]
    }
   ],
   "source": [
    "pipe = Pipeline([('scaler', StandardScaler()), ('GBoost', GradientBoostingRegressor())])\n",
    "parameters = {'GBoost__n_estimators': [50, 100, 150, 250, 500]} # defining parameter space\n",
    "gboost_pipe = GridSearchCV(pipe, parameters, cv=5)\n",
    "gboost_pipe.fit(X_train_rf_m, df_train_m[label_train_m])\n",
    "\n",
    "compute_scores(gboost_pipe, X_test_rf_m, df_test_m[label_test_m])"
   ]
  },
  {
   "cell_type": "code",
   "execution_count": null,
   "metadata": {},
   "outputs": [],
   "source": []
  }
 ],
 "metadata": {
  "kernelspec": {
   "display_name": "Python 3",
   "language": "python",
   "name": "python3"
  },
  "language_info": {
   "codemirror_mode": {
    "name": "ipython",
    "version": 3
   },
   "file_extension": ".py",
   "mimetype": "text/x-python",
   "name": "python",
   "nbconvert_exporter": "python",
   "pygments_lexer": "ipython3",
   "version": "3.7.6"
  }
 },
 "nbformat": 4,
 "nbformat_minor": 5
}
