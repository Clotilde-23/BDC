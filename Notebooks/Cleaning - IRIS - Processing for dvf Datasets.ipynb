{
 "cells": [
  {
   "cell_type": "code",
   "execution_count": 1,
   "id": "9edc0d7c",
   "metadata": {},
   "outputs": [
    {
     "name": "stderr",
     "output_type": "stream",
     "text": [
      "/var/folders/ps/l253_yxx53sdg2mn5d6_gmgr0000gn/T/ipykernel_2816/94487599.py:3: DeprecationWarning: `import pandas_profiling` is going to be deprecated by April 1st. Please use `import ydata_profiling` instead.\n",
      "  from pandas_profiling import ProfileReport\n"
     ]
    }
   ],
   "source": [
    "import pandas as pd\n",
    "import numpy as np\n",
    "from pandas_profiling import ProfileReport\n",
    "\n",
    "import datetime, warnings, scipy \n",
    "import seaborn as sns\n",
    "\n",
    "import matplotlib as mpl\n",
    "import matplotlib.pyplot as plt\n",
    "import matplotlib.pyplot as plt\n",
    "from matplotlib.pyplot import figure\n",
    "import matplotlib.patches as patches\n",
    "from matplotlib.patches import ConnectionPatch\n",
    "from collections import OrderedDict\n",
    "from matplotlib.gridspec import GridSpec\n",
    "import plotly.graph_objects as go\n",
    "from plotly.subplots import make_subplots\n",
    "import datetime, warnings, scipy \n",
    "#from mpl_toolkits.basemap import Basemap\n",
    "\n",
    "import warnings\n",
    "warnings.filterwarnings(action='once')\n",
    "from geopandas import points_from_xy\n",
    "import geopandas as gdp"
   ]
  },
  {
   "cell_type": "markdown",
   "id": "0d320443",
   "metadata": {},
   "source": [
    "### Step 1 - Cleaning"
   ]
  },
  {
   "cell_type": "code",
   "execution_count": null,
   "id": "7e089a78",
   "metadata": {},
   "outputs": [],
   "source": [
    "# Here we build the function to automotize the cleaning of the data sets\n",
    "def Cleaning(data): \n",
    "    \n",
    "    #removing empty columns\n",
    "    Variables_to_remove = ['lot1_numero', 'lot1_surface_carrez', \n",
    "                       'lot2_numero', 'lot2_surface_carrez',\n",
    "                       'lot3_numero', 'lot3_surface_carrez', \n",
    "                       'lot4_numero', 'lot4_surface_carrez', \n",
    "                       'lot5_numero', 'lot5_surface_carrez',\n",
    "                       'code_nature_culture_speciale',  \n",
    "                       'nature_culture_speciale',\n",
    "                       'ancien_id_parcelle',\n",
    "                       'adresse_suffixe', 'ancien_code_commune','ancien_nom_commune', \n",
    "                       'id_parcelle',\n",
    "                       'numero_volume', \n",
    "                       'type_local', 'adresse_code_voie',   #redundant variables\n",
    "                       'code_nature_culture',\n",
    "                       'code_postal'] # on va utiliser le code commune comme il est replis a 100%\n",
    "\n",
    "    data = data.drop(Variables_to_remove, axis=1)\n",
    "    \n",
    "    #removing empty rows\n",
    "    data = data[(data.valeur_fonciere.isna() == False)   \n",
    "               & (data.latitude.isna() == False) \n",
    "               & (data.longitude.isna() == False)\n",
    "               & (data['nature_mutation'] == \"Vente\") \n",
    "               ]\n",
    "    \n",
    "    #to keep the row if nature_culture is empty but code-type_local is filled\n",
    "    data = data[(data.nature_culture.isna()) | (data.code_type_local.isna() == False)]\n",
    "    \n",
    "    #we limited our self for the appartments, houses and dependences. so we exclude 'loal commerciales'\n",
    "    data = data[(data['code_type_local'] == 1.0)        #Maison\n",
    "               | (data['code_type_local'] == 2.0)       #appartement\n",
    "               | (data['code_type_local'] == 3.0)]      # dependance\n",
    "    \n",
    "    \n",
    "    data = data[(data['nature_culture'] != \"terrains a bâtir\")]\n",
    "    \n",
    "\n",
    "    #fixing the problem of multiple Id_mutation for the same sale. \n",
    "    #we have for the same sale a dependence and a house/appartment so we aggregated them in one row with on id_mutation.\n",
    "    \n",
    "    #in This fucntion we used only the first proposition(waiting to the meeting)\n",
    "    data = data[(data['nature_culture'] == \"sols\") \n",
    "                | (data.nature_culture.isna()) ].groupby(['id_mutation','numero_disposition','date_mutation'],\n",
    "                                                    as_index=False).agg(\n",
    "                                                       {'date_mutation':'first',\n",
    "                                                        'code_type_local': 'min', \n",
    "                                                        'code_commune':'max',\n",
    "                                                        'surface_terrain': 'max', \n",
    "                                                        'surface_reelle_bati':'sum',\n",
    "                                                        'nombre_pieces_principales':'sum',\n",
    "                                                        'nature_culture': 'sum',\n",
    "                                                        'valeur_fonciere':'max', \n",
    "                                                        'latitude':'max' , 'longitude':'max',\n",
    "                                                        'nombre_lots':'max',\n",
    "                                                        'numero_disposition': 'max',\n",
    "                                                        'code_departement':'first'\n",
    "                                                        })\n",
    "    \n",
    "    #setting the data for appartments and houses\n",
    "    data = data[(data.code_type_local.isna() == False)]\n",
    "    \n",
    "    data = data[(data['code_type_local'] == 1.0)        #Maison\n",
    "               | (data['code_type_local'] == 2.0) ]     #appartement   \n",
    "    \n",
    "    data['surface_reelle_bati'].fillna(0, inplace=True)\n",
    "    data['nombre_pieces_principales'].fillna(0, inplace=True)\n",
    "    data['surface_terrain'].fillna(0, inplace = True)\n",
    "    \n",
    "    data['date_mutation'] = pd.to_datetime(data['date_mutation'], format=\"%Y-%m-%d\")\n",
    "\n",
    "    # NOMBRE DE PIECES\n",
    "    # On exclut les biens dont le nombre de pièces est inférieure à 1 et supérieur à 20 :\n",
    "    \n",
    "    data.drop(data[data['nombre_pieces_principales']<1].index, inplace=True)\n",
    "    data.drop(data[data['nombre_pieces_principales']>20].index, inplace=True)\n",
    "\n",
    "    # SURFACE DU BIEN \n",
    "    # On exclut les biens dont la surface est inférieure au seuil légal de 9 mètres carrés pour la location :\n",
    "    data.drop(data[data['surface_reelle_bati']<10].index, inplace=True)\n",
    "    data.drop(data[data['valeur_fonciere'] < 2000].index, inplace=True)\n",
    "\n",
    "    \n",
    "    return data\n"
   ]
  },
  {
   "cell_type": "code",
   "execution_count": null,
   "id": "408a3549",
   "metadata": {},
   "outputs": [],
   "source": [
    "def Cleaning_iris(df_iris):\n",
    "    Variables_to_remove = ['ze2010_code', 'ze2010_name', 'ept_name', \n",
    "                            'ept_code', 'ze2020_name', 'ze2020_code',\n",
    "                            'arrdep_name']\n",
    "\n",
    "    df_iris = df_iris.drop(Variables_to_remove, axis=1)\n",
    "    \n",
    "    #removing empty rows\n",
    "    df_iris = df_iris[(df_iris.geometry.isna() == False) & (df_iris.epci_name.isna() == False)]\n",
    "    \n",
    "    return df_iris"
   ]
  },
  {
   "cell_type": "markdown",
   "id": "a8784835",
   "metadata": {},
   "source": [
    "### Step 2 - Adding Spatial index (IRIS)"
   ]
  },
  {
   "cell_type": "code",
   "execution_count": null,
   "id": "0f7aa95f",
   "metadata": {},
   "outputs": [],
   "source": [
    "def Add_IRIS(data, df_iris):    \n",
    "    # turn df_test into geodataframe\n",
    "    df_spatial = gdp.GeoDataFrame(data, crs=\"EPSG:4326\", \n",
    "                                  geometry=points_from_xy(\n",
    "                                     data[\"longitude\"], data[\"latitude\"]),)\n",
    "    data_spatial = gdp.sjoin(df_spatial, df_iris,how='left', \n",
    "                               predicate=\"within\",)\n",
    "    \n",
    "    return data_spatial\n",
    "\n",
    "def plot_map(data_spatial):\n",
    "    \n",
    "    return data_spatial[data_spatial['Year'] == 2017].drop(['date_mutation'],axis = 1).explore(tiles=\"CartoDB positron\",\n",
    "                                cmap=\"tab20b\", column=\"iris_code\")"
   ]
  },
  {
   "cell_type": "markdown",
   "id": "6c352f30",
   "metadata": {},
   "source": [
    "### Step 3 - Processing"
   ]
  },
  {
   "cell_type": "code",
   "execution_count": null,
   "id": "ca529475",
   "metadata": {},
   "outputs": [],
   "source": [
    "def Prix_m2(data):\n",
    "    data['Prix_m2'] = data['valeur_fonciere'] / data['surface_reelle_bati']\n",
    "    data['Year'] = pd.DatetimeIndex(data['date_mutation']).year\n",
    "    data['Month'] = pd.DatetimeIndex(data['date_mutation']).month\n",
    "    \n",
    "    #Somme du nombre de mètre carré de surface habitable vendue par commune\n",
    "    Sum_m2_bati_par_iris_par_an = data.groupby(['iris_code','Year'])['surface_reelle_bati'].sum().reset_index()\n",
    "    Sum_m2_bati_par_iris_par_an.rename(columns={'surface_reelle_bati': 'Sum_surface_bati_iris'}, inplace=True)\n",
    "    data = data.merge(Sum_m2_bati_par_iris_par_an, on=['iris_code','Year'])\n",
    "    \n",
    "    #Somme du nombre de mètre carré de surface terrain vendue par commune\n",
    "    Sum_m2_terr_par_iris_par_an = data.groupby(['iris_code','Year'])['surface_terrain'].sum().reset_index()\n",
    "    Sum_m2_terr_par_iris_par_an.rename(columns={'surface_terrain': 'Sum_surface_terr_iris'}, inplace=True)\n",
    "    data = data.merge(Sum_m2_terr_par_iris_par_an, on=['iris_code','Year'])\n",
    "\n",
    "    #Somme des ventes par commune\n",
    "    Sum_ventes_par_iris_par_an = data.groupby(['iris_code','Year'])['valeur_fonciere'].sum().reset_index()\n",
    "    Sum_ventes_par_iris_par_an.rename(columns={'valeur_fonciere': 'Sum_valeur_fonc'}, inplace=True)\n",
    "    data = data.merge(Sum_ventes_par_iris_par_an, on=['iris_code','Year'])\n",
    "\n",
    "    #Prix moyen par commune du mètre carré de surface habitable\n",
    "    data = data.assign(prix_m2_moy_surf_habit=(data[\"Sum_valeur_fonc\"]\n",
    "                                                    /data[\"Sum_surface_bati_iris\"]))\n",
    "    \n",
    "    data = data.assign(prix_m2_moy_terrain=(data[\"Sum_valeur_fonc\"]\n",
    "                                                    /data[\"Sum_surface_terr_iris\"]))\n",
    "\n",
    "    #Suppression des variables temporaires \n",
    "    data=data.drop(['Sum_surface_bati_iris', 'Sum_surface_terr_iris' , 'Sum_valeur_fonc'],axis=1)\n",
    "    data.replace([np.inf, -np.inf], 0, inplace=True)\n",
    "    \n",
    "    return data"
   ]
  },
  {
   "cell_type": "code",
   "execution_count": null,
   "id": "4fbad5f1",
   "metadata": {},
   "outputs": [],
   "source": [
    "def Process_data(data, quantile_low, quantile_high):    \n",
    "    \n",
    "    #we remove the extreme 5 % values of price per meter_square\n",
    "    Threshold_up = data.groupby(['iris_code','Year'])['Prix_m2'].quantile(quantile_high).reset_index()\n",
    "    Threshold_down = data.groupby(['iris_code','Year'])['Prix_m2'].quantile(quantile_low).reset_index()\n",
    "\n",
    "    df_comune ={'iris_code':Threshold_up['iris_code'], 'Threshold_up_iris': Threshold_up['Prix_m2'] , \n",
    "            'Threshold_down_iris':Threshold_down['Prix_m2'] , 'Year': Threshold_down['Year']}\n",
    "    df_comune = pd.DataFrame(df_comune)\n",
    "\n",
    "    df_process = pd.merge(data, df_comune ,how='inner', on=['iris_code','Year'])\n",
    "\n",
    "    df_final = df_process[(df_process['Prix_m2'] < df_process['Threshold_up_iris']) \n",
    "                      & (df_process['Prix_m2'] > df_process['Threshold_down_iris'])]\n",
    "    \n",
    "    df_final=df_final.drop(['Threshold_up_iris','Threshold_down_iris'],axis = 1)\n",
    "    \n",
    "    return df_final\n"
   ]
  },
  {
   "cell_type": "markdown",
   "id": "cc0ae601",
   "metadata": {},
   "source": [
    "### Running the Programme"
   ]
  },
  {
   "cell_type": "markdown",
   "id": "c1cc410f",
   "metadata": {},
   "source": [
    "#### Loading Data"
   ]
  },
  {
   "cell_type": "code",
   "execution_count": null,
   "id": "4941c93d",
   "metadata": {},
   "outputs": [],
   "source": [
    "#loading dvf data sets\n",
    "df17 = pd.read_csv('./datadvf2017.csv',low_memory=False)\n",
    "df18 = pd.read_csv('./datadvf2018.csv',low_memory=False)\n",
    "df19 = pd.read_csv('./datadvf2019.csv',low_memory=False)\n",
    "df20 = pd.read_csv('./datadvf2020.csv',low_memory=False)\n",
    "df21 = pd.read_csv('./datadvf2021.csv',low_memory=False)\n",
    "df22 = pd.read_csv('./datadvf2022.csv',low_memory=False)\n",
    "\n",
    "#loading IRIS datasets\n",
    "df_iris_2022 = gdp.read_file( \"./georef-france-iris-millesime.shp\")"
   ]
  },
  {
   "cell_type": "markdown",
   "id": "0ad7e575",
   "metadata": {},
   "source": [
    "#### Applying Step 1 and Concating in one dataframe"
   ]
  },
  {
   "cell_type": "code",
   "execution_count": null,
   "id": "d880ba36",
   "metadata": {},
   "outputs": [],
   "source": [
    "df_cleaned17 = Cleaning(df17)\n",
    "df_cleaned18 = Cleaning(df18)\n",
    "df_cleaned19 = Cleaning(df19)\n",
    "df_cleaned20 = Cleaning(df20)\n",
    "df_cleaned21 = Cleaning(df21)\n",
    "df_cleaned22 = Cleaning(df22)\n",
    "\n",
    "df_iris = Cleaning_iris(df_iris_2022)\n",
    "\n",
    "# Concat all data\n",
    "df_cleaned_tot = pd.concat([df_cleaned17, df_cleaned18, \n",
    "                            df_cleaned19, df_cleaned20, \n",
    "                            df_cleaned21, df_cleaned22] , axis=0 , ignore_index=True)"
   ]
  },
  {
   "cell_type": "markdown",
   "id": "ebf76714",
   "metadata": {},
   "source": [
    "### Paris"
   ]
  },
  {
   "cell_type": "code",
   "execution_count": null,
   "id": "22d3afe6",
   "metadata": {},
   "outputs": [],
   "source": [
    "df_Paris = df_cleaned_tot[df_cleaned_tot['code_departement'] == '75']"
   ]
  },
  {
   "cell_type": "markdown",
   "id": "9715f798",
   "metadata": {},
   "source": [
    "#### Applying Step 2 - Adding spatial features"
   ]
  },
  {
   "cell_type": "code",
   "execution_count": null,
   "id": "75d99f0b",
   "metadata": {},
   "outputs": [],
   "source": [
    "df_Paris_spatial = Add_IRIS(df_Paris, df_iris)"
   ]
  },
  {
   "cell_type": "markdown",
   "id": "ef393f93",
   "metadata": {},
   "source": [
    "#### Applying Step 3 - Processing data"
   ]
  },
  {
   "cell_type": "code",
   "execution_count": null,
   "id": "4336b7f0",
   "metadata": {},
   "outputs": [],
   "source": [
    "df_Paris_price = Prix_m2(df_Paris_spatial)\n",
    "df_Paris_Processed = Process_data(df_Paris_price, 0.05, 0.95)"
   ]
  },
  {
   "cell_type": "code",
   "execution_count": null,
   "id": "bbda7b48",
   "metadata": {},
   "outputs": [],
   "source": [
    "plot_map(df_Paris_Processed)"
   ]
  },
  {
   "cell_type": "markdown",
   "id": "c659abb5",
   "metadata": {},
   "source": [
    "### Marseille"
   ]
  },
  {
   "cell_type": "code",
   "execution_count": null,
   "id": "54eb0890",
   "metadata": {},
   "outputs": [],
   "source": [
    "df_Marseille = df_cleaned_tot[(df_cleaned_tot['code_commune'] == '13201') \n",
    "                              | (df_cleaned_tot['code_commune'] == '13202')\n",
    "                              | (df_cleaned_tot['code_commune'] == '13203')\n",
    "                              | (df_cleaned_tot['code_commune'] == '13204')\n",
    "                              | (df_cleaned_tot['code_commune'] == '13205')\n",
    "                              | (df_cleaned_tot['code_commune'] == '13206')\n",
    "                              | (df_cleaned_tot['code_commune'] == '13207')\n",
    "                              | (df_cleaned_tot['code_commune'] == '13208')\n",
    "                              | (df_cleaned_tot['code_commune'] == '13209')\n",
    "                              | (df_cleaned_tot['code_commune'] == '13210')\n",
    "                              | (df_cleaned_tot['code_commune'] == '13211')\n",
    "                              | (df_cleaned_tot['code_commune'] == '13212')\n",
    "                              | (df_cleaned_tot['code_commune'] == '13213')\n",
    "                              | (df_cleaned_tot['code_commune'] == '13214')\n",
    "                              | (df_cleaned_tot['code_commune'] == '13215')\n",
    "                              | (df_cleaned_tot['code_commune'] == '13216')]"
   ]
  },
  {
   "cell_type": "code",
   "execution_count": null,
   "id": "908589d0",
   "metadata": {},
   "outputs": [],
   "source": [
    "df_Marseille_spatial = Add_IRIS(df_Marseille, df_iris)"
   ]
  },
  {
   "cell_type": "code",
   "execution_count": null,
   "id": "1d6a5b3e",
   "metadata": {},
   "outputs": [],
   "source": [
    "df_Marseille_price = Prix_m2(df_Marseille_spatial)\n",
    "df_Marseille_Processed = Process_data(df_Marseille_price, 0.05, 0.95)"
   ]
  },
  {
   "cell_type": "code",
   "execution_count": null,
   "id": "c30da7d8",
   "metadata": {
    "scrolled": false
   },
   "outputs": [],
   "source": [
    "plot_map(df_Marseille_Processed)"
   ]
  },
  {
   "cell_type": "markdown",
   "id": "7597f196",
   "metadata": {},
   "source": [
    "### Lyon"
   ]
  },
  {
   "cell_type": "code",
   "execution_count": null,
   "id": "68b61ff1",
   "metadata": {},
   "outputs": [],
   "source": [
    "df_Lyon = df_cleaned_tot[(df_cleaned_tot['code_commune'] == '69381') \n",
    "                              | (df_cleaned_tot['code_commune'] == '69382')\n",
    "                              | (df_cleaned_tot['code_commune'] == '69383')\n",
    "                              | (df_cleaned_tot['code_commune'] == '69384')\n",
    "                              | (df_cleaned_tot['code_commune'] == '69385')\n",
    "                              | (df_cleaned_tot['code_commune'] == '69386')\n",
    "                              | (df_cleaned_tot['code_commune'] == '69387')\n",
    "                              | (df_cleaned_tot['code_commune'] == '69388')\n",
    "                              | (df_cleaned_tot['code_commune'] == '69389')]"
   ]
  },
  {
   "cell_type": "markdown",
   "id": "73b9cfed",
   "metadata": {},
   "source": [
    "#### Applying Step 2 - Adding spatial features"
   ]
  },
  {
   "cell_type": "code",
   "execution_count": null,
   "id": "edca35e4",
   "metadata": {},
   "outputs": [],
   "source": [
    "df_Lyon_spatial = Add_IRIS(df_Lyon, df_iris)"
   ]
  },
  {
   "cell_type": "markdown",
   "id": "09f87ed7",
   "metadata": {},
   "source": [
    "#### Applying Step 3 - Processing data"
   ]
  },
  {
   "cell_type": "code",
   "execution_count": null,
   "id": "4eb3fb4b",
   "metadata": {},
   "outputs": [],
   "source": [
    "df_Lyon_price = Prix_m2(df_Lyon_spatial)\n",
    "df_Lyon_Processed = Process_data(df_Lyon_price, 0.05, 0.95)"
   ]
  },
  {
   "cell_type": "markdown",
   "id": "a5b803f2",
   "metadata": {},
   "source": [
    "### Map - Lyon"
   ]
  },
  {
   "cell_type": "code",
   "execution_count": null,
   "id": "82593025",
   "metadata": {},
   "outputs": [],
   "source": [
    "plot_map(df_Lyon_Processed)"
   ]
  },
  {
   "cell_type": "markdown",
   "id": "055ed9cd",
   "metadata": {},
   "source": [
    "### Toulouse"
   ]
  },
  {
   "cell_type": "code",
   "execution_count": null,
   "id": "14dd7dbb",
   "metadata": {},
   "outputs": [],
   "source": [
    "df_Toulouse = df_cleaned_tot[(df_cleaned_tot['code_commune'] == '31555')]"
   ]
  },
  {
   "cell_type": "markdown",
   "id": "7fbb3a14",
   "metadata": {},
   "source": [
    "#### Applying Step 2 - Adding spatial features"
   ]
  },
  {
   "cell_type": "code",
   "execution_count": null,
   "id": "be22b900",
   "metadata": {},
   "outputs": [],
   "source": [
    "df_Toulouse_spatial = Add_IRIS(df_Toulouse, df_iris)"
   ]
  },
  {
   "cell_type": "markdown",
   "id": "91d878af",
   "metadata": {},
   "source": [
    "#### Applying Step 3 - Processing data"
   ]
  },
  {
   "cell_type": "code",
   "execution_count": null,
   "id": "1a7d004d",
   "metadata": {},
   "outputs": [],
   "source": [
    "df_Toulouse_price = Prix_m2(df_Toulouse_spatial)\n",
    "df_Toulouse_Processed = Process_data(df_Toulouse_price, 0.05, 0.95)"
   ]
  },
  {
   "cell_type": "markdown",
   "id": "01dd1a90",
   "metadata": {},
   "source": [
    "### Map - Toulouse"
   ]
  },
  {
   "cell_type": "code",
   "execution_count": null,
   "id": "ab3f0b3a",
   "metadata": {},
   "outputs": [],
   "source": [
    "plot_map(df_Toulouse_Processed)"
   ]
  },
  {
   "cell_type": "markdown",
   "id": "bac70634",
   "metadata": {},
   "source": [
    "### Function Compiling all the Procedure"
   ]
  },
  {
   "cell_type": "code",
   "execution_count": null,
   "id": "ac16544d",
   "metadata": {},
   "outputs": [],
   "source": [
    "def Procedure(data_cleaned):\n",
    "    \n",
    "    data_cleaned_spatial = Add_IRIS(data_cleaned, df_iris)\n",
    "    df_cleaned_price = Prix_m2(data_cleaned_spatial)\n",
    "    data_cleaned_Processed = Process_data(df_cleaned_price, 0.05, 0.95)\n",
    "    \n",
    "    return plot_map(data_cleaned_Processed)"
   ]
  },
  {
   "cell_type": "markdown",
   "id": "2d4f7883",
   "metadata": {},
   "source": [
    "We need to just apply the first step 'the cleaning function then concat the data', once we have that we apply directly the Procedure function on the data for example for Paris: "
   ]
  },
  {
   "cell_type": "code",
   "execution_count": null,
   "id": "3aa1c68b",
   "metadata": {},
   "outputs": [],
   "source": [
    "def Procedure(data_cleaned):\n",
    "    \n",
    "    data_cleaned_spatial = Add_IRIS(data_cleaned, df_iris)\n",
    "    df_cleaned_price = Prix_m2(data_cleaned_spatial)\n",
    "    data_cleaned_Processed = Process_data(df_cleaned_price, 0.05, 0.95)\n",
    "    \n",
    "    return plot_map(data_cleaned_Processed)"
   ]
  },
  {
   "cell_type": "code",
   "execution_count": null,
   "id": "1adfdeb0",
   "metadata": {},
   "outputs": [],
   "source": [
    "Procedure(df_Paris)"
   ]
  },
  {
   "cell_type": "markdown",
   "id": "14f812b1",
   "metadata": {},
   "source": [
    "### Addition of the average price evolution by IRIS"
   ]
  },
  {
   "cell_type": "code",
   "execution_count": 261,
   "id": "9cf0b0c6",
   "metadata": {},
   "outputs": [],
   "source": [
    "df_Paris_Processed = pd.read_csv('/Users/admin/Desktop/BDC-Dev-Antonin/Data/df_Paris_Processed.csv',low_memory=False)"
   ]
  },
  {
   "cell_type": "code",
   "execution_count": 266,
   "id": "2a31cadb",
   "metadata": {},
   "outputs": [],
   "source": [
    "def Average_price_by_IRIS(df_Paris_Processed):\n",
    "\n",
    "    df_Paris_Processed['date_mutation'] = pd.to_datetime(df_Paris_Processed['date_mutation'], format=\"%Y-%m-%d\")\n",
    "\n",
    "    #Création de la variable Trimestre\n",
    "    df_Paris_Processed['trimestre_simple'] = df_Paris_Processed['date_mutation'].dt.quarter\n",
    "    df_Paris_Processed.loc[df_Paris_Processed['trimestre_simple'] == 1, 'trimestre_simple'] = '01-01'\n",
    "    df_Paris_Processed.loc[df_Paris_Processed['trimestre_simple'] == 2, 'trimestre_simple'] = '04-01'\n",
    "    df_Paris_Processed.loc[df_Paris_Processed['trimestre_simple'] == 3, 'trimestre_simple'] = '07-01'\n",
    "    df_Paris_Processed.loc[df_Paris_Processed['trimestre_simple'] == 4, 'trimestre_simple'] = '10-01'\n",
    "\n",
    "\n",
    "    #Création de la variable Trimestre par année\n",
    "    df_Paris_Processed['trimestre'] = df_Paris_Processed['Year'].astype(str).str.cat(df_Paris_Processed['trimestre_simple'].astype(str), sep='-')\n",
    "    \n",
    "    #Somme du nombre de mètre carré de surface habitable vendue par trimestre par IRIS\n",
    "    Sum_m2_bati_par_iris = df_Paris_Processed.groupby(['trimestre','iris_name_l'])['surface_reelle_bati'].sum().reset_index()\n",
    "    Sum_m2_bati_par_iris.rename(columns={'surface_reelle_bati': 'Sum_surface_bati_iris'}, inplace=True)\n",
    "    df_Paris_Processed=df_Paris_Processed.merge(Sum_m2_bati_par_iris, on=['trimestre', 'iris_name_l'])\n",
    "\n",
    "    #Somme des ventes par trimestre par IRIS\n",
    "    Sum_ventes_par_iris = df_Paris_Processed.groupby(['trimestre','iris_name_l'])['valeur_fonciere'].sum().reset_index()\n",
    "    Sum_ventes_par_iris.rename(columns={'valeur_fonciere': 'Sum_valeur_fonc'}, inplace=True)\n",
    "    df_Paris_Processed=df_Paris_Processed.merge(Sum_ventes_par_iris, on=['trimestre', 'iris_name_l'])\n",
    "\n",
    "    #Prix moyen par IRIS du mètre carré de surface habitable\n",
    "    df_Paris_Processed=df_Paris_Processed.assign(prix_m2_moy_IRIS_trimestri_surf_habit=(df_Paris_Processed[\"Sum_valeur_fonc\"]\n",
    "                                                        /df_Paris_Processed[\"Sum_surface_bati_iris\"]))\n",
    "\n",
    "    #Suppression des variables temporaires \n",
    "    df_Paris_Processed = df_Paris_Processed.drop(['Sum_surface_bati_iris', 'Sum_valeur_fonc', 'trimestre_simple'],axis=1)\n",
    "    \n",
    "    #Les observations pour lesquelles les valeurs de 'trimestre' pour chaque valeur \n",
    "    #de 'iris_name_l' ne contiennent pas toutes les valeurs possibles dans 'trimestre' sont supprimées du dataframe.\n",
    "    counts = df_Paris_Processed.groupby('iris_name_l')['trimestre'].transform('nunique')\n",
    "    df_Paris_Processed = df_Paris_Processed[counts == df_Paris_Processed['trimestre'].nunique()]\n",
    "    #Perte de 5000 Observations\n",
    "\n",
    "    # CALCUL DU TAUX D'ACCROISSEMENT \n",
    "    df_prix_m2_moy_IRIS = df_Paris_Processed.loc[:, [\"iris_name_l\", \"trimestre\", \"prix_m2_moy_IRIS_trimestri_surf_habit\"]]\n",
    "    # Sélection des valeurs uniques en utilisant la méthode drop_duplicates()\n",
    "    df_prix_m2_moy_IRIS = df_prix_m2_moy_IRIS.drop_duplicates()\n",
    "    df_prix_m2_moy_IRIS = df_prix_m2_moy_IRIS.sort_values([\"iris_name_l\", \"trimestre\"])\n",
    "    # Dataframe groupé par IRIS\n",
    "    grouped_df = df_prix_m2_moy_IRIS.groupby(\"iris_name_l\")\n",
    "    df_prix_m2_moy_IRIS[\"taux_accroissement\"] = grouped_df[\"prix_m2_moy_IRIS_trimestri_surf_habit\"].pct_change()\n",
    "    df_prix_m2_moy_IRIS[\"taux_accroissement\"] = df_prix_m2_moy_IRIS[\"taux_accroissement\"].fillna(0)\n",
    "    df_Paris_Processed=df_Paris_Processed.merge(df_prix_m2_moy_IRIS, on=['iris_name_l','trimestre','prix_m2_moy_IRIS_trimestri_surf_habit'])\n",
    "    \n",
    "    return df_Paris_Processed"
   ]
  },
  {
   "cell_type": "code",
   "execution_count": 268,
   "id": "1ce76058",
   "metadata": {},
   "outputs": [],
   "source": [
    "df_Paris_Processed_with_average_price = Average_price_by_IRIS(df_Paris_Processed)"
   ]
  },
  {
   "cell_type": "code",
   "execution_count": 269,
   "id": "31c2e302",
   "metadata": {},
   "outputs": [
    {
     "data": {
      "text/html": [
       "<div>\n",
       "<style scoped>\n",
       "    .dataframe tbody tr th:only-of-type {\n",
       "        vertical-align: middle;\n",
       "    }\n",
       "\n",
       "    .dataframe tbody tr th {\n",
       "        vertical-align: top;\n",
       "    }\n",
       "\n",
       "    .dataframe thead th {\n",
       "        text-align: right;\n",
       "    }\n",
       "</style>\n",
       "<table border=\"1\" class=\"dataframe\">\n",
       "  <thead>\n",
       "    <tr style=\"text-align: right;\">\n",
       "      <th></th>\n",
       "      <th>id_mutation</th>\n",
       "      <th>date_mutation</th>\n",
       "      <th>code_type_local</th>\n",
       "      <th>code_commune</th>\n",
       "      <th>surface_terrain</th>\n",
       "      <th>surface_reelle_bati</th>\n",
       "      <th>nombre_pieces_principales</th>\n",
       "      <th>nature_culture</th>\n",
       "      <th>valeur_fonciere</th>\n",
       "      <th>latitude</th>\n",
       "      <th>...</th>\n",
       "      <th>iris_grd_qu</th>\n",
       "      <th>iris_in_ctu</th>\n",
       "      <th>Prix_m2</th>\n",
       "      <th>Year</th>\n",
       "      <th>Month</th>\n",
       "      <th>prix_m2_moy_surf_habit</th>\n",
       "      <th>prix_m2_moy_terrain</th>\n",
       "      <th>trimestre</th>\n",
       "      <th>prix_m2_moy_IRIS_trimestri_surf_habit</th>\n",
       "      <th>taux_accroissement</th>\n",
       "    </tr>\n",
       "  </thead>\n",
       "  <tbody>\n",
       "    <tr>\n",
       "      <th>0</th>\n",
       "      <td>2017-731653</td>\n",
       "      <td>2017-07-04</td>\n",
       "      <td>2.0</td>\n",
       "      <td>75103</td>\n",
       "      <td>0.0</td>\n",
       "      <td>42.0</td>\n",
       "      <td>3.0</td>\n",
       "      <td>0</td>\n",
       "      <td>571110.0</td>\n",
       "      <td>48.858043</td>\n",
       "      <td>...</td>\n",
       "      <td>Les Archives</td>\n",
       "      <td>Non</td>\n",
       "      <td>13597.857143</td>\n",
       "      <td>2017</td>\n",
       "      <td>7</td>\n",
       "      <td>10436.251897</td>\n",
       "      <td>0.0</td>\n",
       "      <td>2017-07-01</td>\n",
       "      <td>12279.057239</td>\n",
       "      <td>0.000000</td>\n",
       "    </tr>\n",
       "    <tr>\n",
       "      <th>1</th>\n",
       "      <td>2017-731668</td>\n",
       "      <td>2017-07-07</td>\n",
       "      <td>2.0</td>\n",
       "      <td>75103</td>\n",
       "      <td>0.0</td>\n",
       "      <td>88.0</td>\n",
       "      <td>3.0</td>\n",
       "      <td>0</td>\n",
       "      <td>1414600.0</td>\n",
       "      <td>48.857626</td>\n",
       "      <td>...</td>\n",
       "      <td>Les Archives</td>\n",
       "      <td>Non</td>\n",
       "      <td>16075.000000</td>\n",
       "      <td>2017</td>\n",
       "      <td>7</td>\n",
       "      <td>10436.251897</td>\n",
       "      <td>0.0</td>\n",
       "      <td>2017-07-01</td>\n",
       "      <td>12279.057239</td>\n",
       "      <td>0.000000</td>\n",
       "    </tr>\n",
       "    <tr>\n",
       "      <th>2</th>\n",
       "      <td>2017-731783</td>\n",
       "      <td>2017-07-19</td>\n",
       "      <td>2.0</td>\n",
       "      <td>75103</td>\n",
       "      <td>0.0</td>\n",
       "      <td>17.0</td>\n",
       "      <td>1.0</td>\n",
       "      <td>0</td>\n",
       "      <td>215000.0</td>\n",
       "      <td>48.856136</td>\n",
       "      <td>...</td>\n",
       "      <td>Les Archives</td>\n",
       "      <td>Non</td>\n",
       "      <td>12647.058824</td>\n",
       "      <td>2017</td>\n",
       "      <td>7</td>\n",
       "      <td>10436.251897</td>\n",
       "      <td>0.0</td>\n",
       "      <td>2017-07-01</td>\n",
       "      <td>12279.057239</td>\n",
       "      <td>0.000000</td>\n",
       "    </tr>\n",
       "    <tr>\n",
       "      <th>3</th>\n",
       "      <td>2017-731808</td>\n",
       "      <td>2017-07-27</td>\n",
       "      <td>2.0</td>\n",
       "      <td>75103</td>\n",
       "      <td>0.0</td>\n",
       "      <td>72.0</td>\n",
       "      <td>3.0</td>\n",
       "      <td>0</td>\n",
       "      <td>598000.0</td>\n",
       "      <td>48.857626</td>\n",
       "      <td>...</td>\n",
       "      <td>Les Archives</td>\n",
       "      <td>Non</td>\n",
       "      <td>8305.555556</td>\n",
       "      <td>2017</td>\n",
       "      <td>7</td>\n",
       "      <td>10436.251897</td>\n",
       "      <td>0.0</td>\n",
       "      <td>2017-07-01</td>\n",
       "      <td>12279.057239</td>\n",
       "      <td>0.000000</td>\n",
       "    </tr>\n",
       "    <tr>\n",
       "      <th>4</th>\n",
       "      <td>2017-731873</td>\n",
       "      <td>2017-07-28</td>\n",
       "      <td>2.0</td>\n",
       "      <td>75103</td>\n",
       "      <td>0.0</td>\n",
       "      <td>32.0</td>\n",
       "      <td>2.0</td>\n",
       "      <td>0</td>\n",
       "      <td>360000.0</td>\n",
       "      <td>48.856914</td>\n",
       "      <td>...</td>\n",
       "      <td>Les Archives</td>\n",
       "      <td>Non</td>\n",
       "      <td>11250.000000</td>\n",
       "      <td>2017</td>\n",
       "      <td>7</td>\n",
       "      <td>10436.251897</td>\n",
       "      <td>0.0</td>\n",
       "      <td>2017-07-01</td>\n",
       "      <td>12279.057239</td>\n",
       "      <td>0.000000</td>\n",
       "    </tr>\n",
       "    <tr>\n",
       "      <th>...</th>\n",
       "      <td>...</td>\n",
       "      <td>...</td>\n",
       "      <td>...</td>\n",
       "      <td>...</td>\n",
       "      <td>...</td>\n",
       "      <td>...</td>\n",
       "      <td>...</td>\n",
       "      <td>...</td>\n",
       "      <td>...</td>\n",
       "      <td>...</td>\n",
       "      <td>...</td>\n",
       "      <td>...</td>\n",
       "      <td>...</td>\n",
       "      <td>...</td>\n",
       "      <td>...</td>\n",
       "      <td>...</td>\n",
       "      <td>...</td>\n",
       "      <td>...</td>\n",
       "      <td>...</td>\n",
       "      <td>...</td>\n",
       "      <td>...</td>\n",
       "    </tr>\n",
       "    <tr>\n",
       "      <th>139505</th>\n",
       "      <td>2022-530177</td>\n",
       "      <td>2022-03-29</td>\n",
       "      <td>2.0</td>\n",
       "      <td>75113</td>\n",
       "      <td>0.0</td>\n",
       "      <td>35.0</td>\n",
       "      <td>1.0</td>\n",
       "      <td>0</td>\n",
       "      <td>12000.0</td>\n",
       "      <td>48.821917</td>\n",
       "      <td>...</td>\n",
       "      <td>Maison Blanche</td>\n",
       "      <td>Non</td>\n",
       "      <td>342.857143</td>\n",
       "      <td>2022</td>\n",
       "      <td>3</td>\n",
       "      <td>5330.979499</td>\n",
       "      <td>0.0</td>\n",
       "      <td>2022-01-01</td>\n",
       "      <td>4604.166667</td>\n",
       "      <td>-0.386695</td>\n",
       "    </tr>\n",
       "    <tr>\n",
       "      <th>139506</th>\n",
       "      <td>2022-531147</td>\n",
       "      <td>2022-04-08</td>\n",
       "      <td>2.0</td>\n",
       "      <td>75113</td>\n",
       "      <td>0.0</td>\n",
       "      <td>47.0</td>\n",
       "      <td>2.0</td>\n",
       "      <td>0</td>\n",
       "      <td>365000.0</td>\n",
       "      <td>48.821172</td>\n",
       "      <td>...</td>\n",
       "      <td>Maison Blanche</td>\n",
       "      <td>Non</td>\n",
       "      <td>7765.957447</td>\n",
       "      <td>2022</td>\n",
       "      <td>4</td>\n",
       "      <td>5330.979499</td>\n",
       "      <td>0.0</td>\n",
       "      <td>2022-04-01</td>\n",
       "      <td>5359.219858</td>\n",
       "      <td>0.163993</td>\n",
       "    </tr>\n",
       "    <tr>\n",
       "      <th>139507</th>\n",
       "      <td>2022-536119</td>\n",
       "      <td>2022-06-02</td>\n",
       "      <td>2.0</td>\n",
       "      <td>75113</td>\n",
       "      <td>0.0</td>\n",
       "      <td>60.0</td>\n",
       "      <td>2.0</td>\n",
       "      <td>0</td>\n",
       "      <td>476000.0</td>\n",
       "      <td>48.821917</td>\n",
       "      <td>...</td>\n",
       "      <td>Maison Blanche</td>\n",
       "      <td>Non</td>\n",
       "      <td>7933.333333</td>\n",
       "      <td>2022</td>\n",
       "      <td>6</td>\n",
       "      <td>5330.979499</td>\n",
       "      <td>0.0</td>\n",
       "      <td>2022-04-01</td>\n",
       "      <td>5359.219858</td>\n",
       "      <td>0.163993</td>\n",
       "    </tr>\n",
       "    <tr>\n",
       "      <th>139508</th>\n",
       "      <td>2022-536803</td>\n",
       "      <td>2022-06-30</td>\n",
       "      <td>2.0</td>\n",
       "      <td>75113</td>\n",
       "      <td>0.0</td>\n",
       "      <td>58.0</td>\n",
       "      <td>2.0</td>\n",
       "      <td>0</td>\n",
       "      <td>380000.0</td>\n",
       "      <td>48.821917</td>\n",
       "      <td>...</td>\n",
       "      <td>Maison Blanche</td>\n",
       "      <td>Non</td>\n",
       "      <td>6551.724138</td>\n",
       "      <td>2022</td>\n",
       "      <td>6</td>\n",
       "      <td>5330.979499</td>\n",
       "      <td>0.0</td>\n",
       "      <td>2022-04-01</td>\n",
       "      <td>5359.219858</td>\n",
       "      <td>0.163993</td>\n",
       "    </tr>\n",
       "    <tr>\n",
       "      <th>139509</th>\n",
       "      <td>2022-537237</td>\n",
       "      <td>2022-06-28</td>\n",
       "      <td>2.0</td>\n",
       "      <td>75113</td>\n",
       "      <td>0.0</td>\n",
       "      <td>117.0</td>\n",
       "      <td>4.0</td>\n",
       "      <td>0</td>\n",
       "      <td>290300.0</td>\n",
       "      <td>48.821917</td>\n",
       "      <td>...</td>\n",
       "      <td>Maison Blanche</td>\n",
       "      <td>Non</td>\n",
       "      <td>2481.196581</td>\n",
       "      <td>2022</td>\n",
       "      <td>6</td>\n",
       "      <td>5330.979499</td>\n",
       "      <td>0.0</td>\n",
       "      <td>2022-04-01</td>\n",
       "      <td>5359.219858</td>\n",
       "      <td>0.163993</td>\n",
       "    </tr>\n",
       "  </tbody>\n",
       "</table>\n",
       "<p>139510 rows × 46 columns</p>\n",
       "</div>"
      ],
      "text/plain": [
       "        id_mutation date_mutation  code_type_local  code_commune  \\\n",
       "0       2017-731653    2017-07-04              2.0         75103   \n",
       "1       2017-731668    2017-07-07              2.0         75103   \n",
       "2       2017-731783    2017-07-19              2.0         75103   \n",
       "3       2017-731808    2017-07-27              2.0         75103   \n",
       "4       2017-731873    2017-07-28              2.0         75103   \n",
       "...             ...           ...              ...           ...   \n",
       "139505  2022-530177    2022-03-29              2.0         75113   \n",
       "139506  2022-531147    2022-04-08              2.0         75113   \n",
       "139507  2022-536119    2022-06-02              2.0         75113   \n",
       "139508  2022-536803    2022-06-30              2.0         75113   \n",
       "139509  2022-537237    2022-06-28              2.0         75113   \n",
       "\n",
       "        surface_terrain  surface_reelle_bati  nombre_pieces_principales  \\\n",
       "0                   0.0                 42.0                        3.0   \n",
       "1                   0.0                 88.0                        3.0   \n",
       "2                   0.0                 17.0                        1.0   \n",
       "3                   0.0                 72.0                        3.0   \n",
       "4                   0.0                 32.0                        2.0   \n",
       "...                 ...                  ...                        ...   \n",
       "139505              0.0                 35.0                        1.0   \n",
       "139506              0.0                 47.0                        2.0   \n",
       "139507              0.0                 60.0                        2.0   \n",
       "139508              0.0                 58.0                        2.0   \n",
       "139509              0.0                117.0                        4.0   \n",
       "\n",
       "       nature_culture  valeur_fonciere   latitude  ...     iris_grd_qu  \\\n",
       "0                   0         571110.0  48.858043  ...    Les Archives   \n",
       "1                   0        1414600.0  48.857626  ...    Les Archives   \n",
       "2                   0         215000.0  48.856136  ...    Les Archives   \n",
       "3                   0         598000.0  48.857626  ...    Les Archives   \n",
       "4                   0         360000.0  48.856914  ...    Les Archives   \n",
       "...               ...              ...        ...  ...             ...   \n",
       "139505              0          12000.0  48.821917  ...  Maison Blanche   \n",
       "139506              0         365000.0  48.821172  ...  Maison Blanche   \n",
       "139507              0         476000.0  48.821917  ...  Maison Blanche   \n",
       "139508              0         380000.0  48.821917  ...  Maison Blanche   \n",
       "139509              0         290300.0  48.821917  ...  Maison Blanche   \n",
       "\n",
       "        iris_in_ctu       Prix_m2  Year Month  prix_m2_moy_surf_habit  \\\n",
       "0               Non  13597.857143  2017     7            10436.251897   \n",
       "1               Non  16075.000000  2017     7            10436.251897   \n",
       "2               Non  12647.058824  2017     7            10436.251897   \n",
       "3               Non   8305.555556  2017     7            10436.251897   \n",
       "4               Non  11250.000000  2017     7            10436.251897   \n",
       "...             ...           ...   ...   ...                     ...   \n",
       "139505          Non    342.857143  2022     3             5330.979499   \n",
       "139506          Non   7765.957447  2022     4             5330.979499   \n",
       "139507          Non   7933.333333  2022     6             5330.979499   \n",
       "139508          Non   6551.724138  2022     6             5330.979499   \n",
       "139509          Non   2481.196581  2022     6             5330.979499   \n",
       "\n",
       "        prix_m2_moy_terrain   trimestre prix_m2_moy_IRIS_trimestri_surf_habit  \\\n",
       "0                       0.0  2017-07-01                          12279.057239   \n",
       "1                       0.0  2017-07-01                          12279.057239   \n",
       "2                       0.0  2017-07-01                          12279.057239   \n",
       "3                       0.0  2017-07-01                          12279.057239   \n",
       "4                       0.0  2017-07-01                          12279.057239   \n",
       "...                     ...         ...                                   ...   \n",
       "139505                  0.0  2022-01-01                           4604.166667   \n",
       "139506                  0.0  2022-04-01                           5359.219858   \n",
       "139507                  0.0  2022-04-01                           5359.219858   \n",
       "139508                  0.0  2022-04-01                           5359.219858   \n",
       "139509                  0.0  2022-04-01                           5359.219858   \n",
       "\n",
       "       taux_accroissement  \n",
       "0                0.000000  \n",
       "1                0.000000  \n",
       "2                0.000000  \n",
       "3                0.000000  \n",
       "4                0.000000  \n",
       "...                   ...  \n",
       "139505          -0.386695  \n",
       "139506           0.163993  \n",
       "139507           0.163993  \n",
       "139508           0.163993  \n",
       "139509           0.163993  \n",
       "\n",
       "[139510 rows x 46 columns]"
      ]
     },
     "execution_count": 269,
     "metadata": {},
     "output_type": "execute_result"
    }
   ],
   "source": [
    "df_Paris_Processed_with_average_price"
   ]
  },
  {
   "cell_type": "code",
   "execution_count": 270,
   "id": "8d3f9b78",
   "metadata": {},
   "outputs": [],
   "source": [
    "# Exportation de la nouvelle base\n",
    "df_Paris_Processed_with_average_price.to_csv(r'/Users/admin/Desktop/BDC-Dev-Antonin/Data/df_Paris_Processed_with_av_price.csv', index=False)"
   ]
  }
 ],
 "metadata": {
  "kernelspec": {
   "display_name": "Python 3 (ipykernel)",
   "language": "python",
   "name": "python3"
  },
  "language_info": {
   "codemirror_mode": {
    "name": "ipython",
    "version": 3
   },
   "file_extension": ".py",
   "mimetype": "text/x-python",
   "name": "python",
   "nbconvert_exporter": "python",
   "pygments_lexer": "ipython3",
   "version": "3.9.12"
  },
  "vscode": {
   "interpreter": {
    "hash": "5326f203b549abcc2317b2130f2a7d08e43191552780efb7c1e315bdf1385105"
   }
  }
 },
 "nbformat": 4,
 "nbformat_minor": 5
}
