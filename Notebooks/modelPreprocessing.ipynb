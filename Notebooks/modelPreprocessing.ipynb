{
 "cells": [
  {
   "cell_type": "code",
   "execution_count": 1,
   "id": "36f112ee",
   "metadata": {},
   "outputs": [],
   "source": [
    "import pandas as pd"
   ]
  },
  {
   "cell_type": "code",
   "execution_count": 75,
   "id": "7bc9ab49",
   "metadata": {},
   "outputs": [],
   "source": [
    "%run '/Users/louisebonhomme/Documents/GitHub/BDC/Helpers/preprocessing.py'"
   ]
  },
  {
   "cell_type": "code",
   "execution_count": 76,
   "id": "58d8557b",
   "metadata": {},
   "outputs": [],
   "source": [
    "df = pd.read_csv('/Users/louisebonhomme/Documents/GitHub/BDC/Data/df_Paris_Processed.csv')"
   ]
  },
  {
   "cell_type": "markdown",
   "id": "6ed73b9c",
   "metadata": {},
   "source": [
    "## Cleaning iris variables"
   ]
  },
  {
   "cell_type": "code",
   "execution_count": 77,
   "id": "e6b37979",
   "metadata": {},
   "outputs": [],
   "source": [
    "clean_iris_codes(df)"
   ]
  },
  {
   "cell_type": "code",
   "execution_count": 78,
   "id": "93aef3a5",
   "metadata": {},
   "outputs": [
    {
     "data": {
      "text/html": [
       "<div>\n",
       "<style scoped>\n",
       "    .dataframe tbody tr th:only-of-type {\n",
       "        vertical-align: middle;\n",
       "    }\n",
       "\n",
       "    .dataframe tbody tr th {\n",
       "        vertical-align: top;\n",
       "    }\n",
       "\n",
       "    .dataframe thead th {\n",
       "        text-align: right;\n",
       "    }\n",
       "</style>\n",
       "<table border=\"1\" class=\"dataframe\">\n",
       "  <thead>\n",
       "    <tr style=\"text-align: right;\">\n",
       "      <th></th>\n",
       "      <th>variable</th>\n",
       "      <th>missing values</th>\n",
       "      <th>filling factor (%)</th>\n",
       "      <th>type</th>\n",
       "    </tr>\n",
       "  </thead>\n",
       "  <tbody>\n",
       "    <tr>\n",
       "      <th>0</th>\n",
       "      <td>id_mutation</td>\n",
       "      <td>0</td>\n",
       "      <td>100.0</td>\n",
       "      <td>object</td>\n",
       "    </tr>\n",
       "    <tr>\n",
       "      <th>1</th>\n",
       "      <td>date_mutation</td>\n",
       "      <td>0</td>\n",
       "      <td>100.0</td>\n",
       "      <td>object</td>\n",
       "    </tr>\n",
       "    <tr>\n",
       "      <th>2</th>\n",
       "      <td>code_type_local</td>\n",
       "      <td>0</td>\n",
       "      <td>100.0</td>\n",
       "      <td>float64</td>\n",
       "    </tr>\n",
       "    <tr>\n",
       "      <th>3</th>\n",
       "      <td>code_commune</td>\n",
       "      <td>0</td>\n",
       "      <td>100.0</td>\n",
       "      <td>int64</td>\n",
       "    </tr>\n",
       "    <tr>\n",
       "      <th>4</th>\n",
       "      <td>surface_terrain</td>\n",
       "      <td>0</td>\n",
       "      <td>100.0</td>\n",
       "      <td>float64</td>\n",
       "    </tr>\n",
       "    <tr>\n",
       "      <th>5</th>\n",
       "      <td>surface_reelle_bati</td>\n",
       "      <td>0</td>\n",
       "      <td>100.0</td>\n",
       "      <td>float64</td>\n",
       "    </tr>\n",
       "    <tr>\n",
       "      <th>6</th>\n",
       "      <td>nombre_pieces_principales</td>\n",
       "      <td>0</td>\n",
       "      <td>100.0</td>\n",
       "      <td>float64</td>\n",
       "    </tr>\n",
       "    <tr>\n",
       "      <th>7</th>\n",
       "      <td>nature_culture</td>\n",
       "      <td>0</td>\n",
       "      <td>100.0</td>\n",
       "      <td>object</td>\n",
       "    </tr>\n",
       "    <tr>\n",
       "      <th>8</th>\n",
       "      <td>valeur_fonciere</td>\n",
       "      <td>0</td>\n",
       "      <td>100.0</td>\n",
       "      <td>float64</td>\n",
       "    </tr>\n",
       "    <tr>\n",
       "      <th>9</th>\n",
       "      <td>latitude</td>\n",
       "      <td>0</td>\n",
       "      <td>100.0</td>\n",
       "      <td>float64</td>\n",
       "    </tr>\n",
       "    <tr>\n",
       "      <th>10</th>\n",
       "      <td>longitude</td>\n",
       "      <td>0</td>\n",
       "      <td>100.0</td>\n",
       "      <td>float64</td>\n",
       "    </tr>\n",
       "    <tr>\n",
       "      <th>11</th>\n",
       "      <td>nombre_lots</td>\n",
       "      <td>0</td>\n",
       "      <td>100.0</td>\n",
       "      <td>int64</td>\n",
       "    </tr>\n",
       "    <tr>\n",
       "      <th>12</th>\n",
       "      <td>numero_disposition</td>\n",
       "      <td>0</td>\n",
       "      <td>100.0</td>\n",
       "      <td>int64</td>\n",
       "    </tr>\n",
       "    <tr>\n",
       "      <th>13</th>\n",
       "      <td>code_departement</td>\n",
       "      <td>0</td>\n",
       "      <td>100.0</td>\n",
       "      <td>int64</td>\n",
       "    </tr>\n",
       "    <tr>\n",
       "      <th>14</th>\n",
       "      <td>geometry</td>\n",
       "      <td>0</td>\n",
       "      <td>100.0</td>\n",
       "      <td>object</td>\n",
       "    </tr>\n",
       "    <tr>\n",
       "      <th>15</th>\n",
       "      <td>iris_code</td>\n",
       "      <td>0</td>\n",
       "      <td>100.0</td>\n",
       "      <td>object</td>\n",
       "    </tr>\n",
       "    <tr>\n",
       "      <th>16</th>\n",
       "      <td>iris_name</td>\n",
       "      <td>0</td>\n",
       "      <td>100.0</td>\n",
       "      <td>object</td>\n",
       "    </tr>\n",
       "    <tr>\n",
       "      <th>17</th>\n",
       "      <td>Prix_m2</td>\n",
       "      <td>0</td>\n",
       "      <td>100.0</td>\n",
       "      <td>float64</td>\n",
       "    </tr>\n",
       "    <tr>\n",
       "      <th>18</th>\n",
       "      <td>Year</td>\n",
       "      <td>0</td>\n",
       "      <td>100.0</td>\n",
       "      <td>int64</td>\n",
       "    </tr>\n",
       "    <tr>\n",
       "      <th>19</th>\n",
       "      <td>Month</td>\n",
       "      <td>0</td>\n",
       "      <td>100.0</td>\n",
       "      <td>int64</td>\n",
       "    </tr>\n",
       "    <tr>\n",
       "      <th>20</th>\n",
       "      <td>prix_m2_moy_surf_habit</td>\n",
       "      <td>0</td>\n",
       "      <td>100.0</td>\n",
       "      <td>float64</td>\n",
       "    </tr>\n",
       "    <tr>\n",
       "      <th>21</th>\n",
       "      <td>prix_m2_moy_terrain</td>\n",
       "      <td>0</td>\n",
       "      <td>100.0</td>\n",
       "      <td>float64</td>\n",
       "    </tr>\n",
       "  </tbody>\n",
       "</table>\n",
       "</div>"
      ],
      "text/plain": [
       "                     variable  missing values  filling factor (%)     type\n",
       "0                 id_mutation               0               100.0   object\n",
       "1               date_mutation               0               100.0   object\n",
       "2             code_type_local               0               100.0  float64\n",
       "3                code_commune               0               100.0    int64\n",
       "4             surface_terrain               0               100.0  float64\n",
       "5         surface_reelle_bati               0               100.0  float64\n",
       "6   nombre_pieces_principales               0               100.0  float64\n",
       "7              nature_culture               0               100.0   object\n",
       "8             valeur_fonciere               0               100.0  float64\n",
       "9                    latitude               0               100.0  float64\n",
       "10                  longitude               0               100.0  float64\n",
       "11                nombre_lots               0               100.0    int64\n",
       "12         numero_disposition               0               100.0    int64\n",
       "13           code_departement               0               100.0    int64\n",
       "14                   geometry               0               100.0   object\n",
       "15                  iris_code               0               100.0   object\n",
       "16                  iris_name               0               100.0   object\n",
       "17                    Prix_m2               0               100.0  float64\n",
       "18                       Year               0               100.0    int64\n",
       "19                      Month               0               100.0    int64\n",
       "20     prix_m2_moy_surf_habit               0               100.0  float64\n",
       "21        prix_m2_moy_terrain               0               100.0  float64"
      ]
     },
     "execution_count": 78,
     "metadata": {},
     "output_type": "execute_result"
    }
   ],
   "source": [
    "missing_df = df.isnull().sum(axis=0).reset_index()\n",
    "missing_df.columns = ['variable', 'missing values']\n",
    "missing_df['filling factor (%)']=(df.shape[0]-missing_df['missing values'])/df.shape[0]*100\n",
    "missing_df['type'] = df.dtypes.to_numpy()\n",
    "missing_df"
   ]
  },
  {
   "cell_type": "code",
   "execution_count": 79,
   "id": "3060b83d",
   "metadata": {},
   "outputs": [
    {
     "name": "stdout",
     "output_type": "stream",
     "text": [
      "Length of all Paris IRIS : 992\n",
      "Length of IRIS in DF : 890\n",
      "Number of IRIS not in DF : 102\n"
     ]
    }
   ],
   "source": [
    "path = \"/Users/louisebonhomme/Documents/GitHub/BDC/Data/reference_IRIS_geo2022.xlsx\"\n",
    "dep = '75'\n",
    "nb_iris(df, path = path, dep_code = dep)"
   ]
  },
  {
   "cell_type": "markdown",
   "id": "c7d404e3",
   "metadata": {},
   "source": [
    "## Régression OLS\n",
    "\n",
    "### Process sur les données \n",
    "- split appartement / maison : appartement (prix/m2), maison (prix)\n",
    "- attention : normalisation ztransform \n",
    "- log-log "
   ]
  },
  {
   "cell_type": "markdown",
   "id": "a5770290",
   "metadata": {},
   "source": [
    "**Split appart/maison**"
   ]
  },
  {
   "cell_type": "code",
   "execution_count": 80,
   "id": "c6e42f67",
   "metadata": {},
   "outputs": [
    {
     "name": "stdout",
     "output_type": "stream",
     "text": [
      "Nombre de maisons : 493\n",
      "Nombre d'apparts : 144048\n"
     ]
    }
   ],
   "source": [
    "df_maison , df_appart = split_appart_maison(df)"
   ]
  },
  {
   "cell_type": "markdown",
   "id": "f48444ba",
   "metadata": {},
   "source": [
    "**Normalisation des données**"
   ]
  },
  {
   "cell_type": "code",
   "execution_count": 81,
   "id": "be40c209",
   "metadata": {
    "scrolled": true
   },
   "outputs": [
    {
     "name": "stdout",
     "output_type": "stream",
     "text": [
      "[2.06104909e-01 5.61854174e+01 2.53404421e+00 1.03531091e+04]\n"
     ]
    },
    {
     "name": "stderr",
     "output_type": "stream",
     "text": [
      "/Users/louisebonhomme/Documents/GitHub/BDC/Helpers/preprocessing.py:46: SettingWithCopyWarning: \n",
      "A value is trying to be set on a copy of a slice from a DataFrame.\n",
      "Try using .loc[row_indexer,col_indexer] = value instead\n",
      "\n",
      "See the caveats in the documentation: https://pandas.pydata.org/pandas-docs/stable/user_guide/indexing.html#returning-a-view-versus-a-copy\n",
      "  data[liste_vars] = scaler.transform(data[liste_vars])\n"
     ]
    }
   ],
   "source": [
    "zTransform(df_appart, liste_vars = ['surface_terrain', 'surface_reelle_bati', 'nombre_pieces_principales'], prix = 'Prix_m2')"
   ]
  },
  {
   "cell_type": "markdown",
   "id": "73002178",
   "metadata": {},
   "source": [
    "**Echelle log-log**"
   ]
  },
  {
   "cell_type": "code",
   "execution_count": 82,
   "id": "55ffb3cf",
   "metadata": {},
   "outputs": [
    {
     "name": "stderr",
     "output_type": "stream",
     "text": [
      "/Users/louisebonhomme/opt/anaconda3/lib/python3.9/site-packages/pandas/core/arraylike.py:397: RuntimeWarning: invalid value encountered in log\n",
      "  result = getattr(ufunc, method)(*inputs, **kwargs)\n",
      "/Users/louisebonhomme/Documents/GitHub/BDC/Helpers/preprocessing.py:21: SettingWithCopyWarning: \n",
      "A value is trying to be set on a copy of a slice from a DataFrame.\n",
      "Try using .loc[row_indexer,col_indexer] = value instead\n",
      "\n",
      "See the caveats in the documentation: https://pandas.pydata.org/pandas-docs/stable/user_guide/indexing.html#returning-a-view-versus-a-copy\n",
      "  data[new_variable] = np.log(data[variable])\n",
      "/Users/louisebonhomme/opt/anaconda3/lib/python3.9/site-packages/pandas/core/arraylike.py:397: RuntimeWarning: invalid value encountered in log\n",
      "  result = getattr(ufunc, method)(*inputs, **kwargs)\n",
      "/Users/louisebonhomme/Documents/GitHub/BDC/Helpers/preprocessing.py:21: SettingWithCopyWarning: \n",
      "A value is trying to be set on a copy of a slice from a DataFrame.\n",
      "Try using .loc[row_indexer,col_indexer] = value instead\n",
      "\n",
      "See the caveats in the documentation: https://pandas.pydata.org/pandas-docs/stable/user_guide/indexing.html#returning-a-view-versus-a-copy\n",
      "  data[new_variable] = np.log(data[variable])\n",
      "/Users/louisebonhomme/opt/anaconda3/lib/python3.9/site-packages/pandas/core/arraylike.py:397: RuntimeWarning: invalid value encountered in log\n",
      "  result = getattr(ufunc, method)(*inputs, **kwargs)\n",
      "/Users/louisebonhomme/Documents/GitHub/BDC/Helpers/preprocessing.py:21: SettingWithCopyWarning: \n",
      "A value is trying to be set on a copy of a slice from a DataFrame.\n",
      "Try using .loc[row_indexer,col_indexer] = value instead\n",
      "\n",
      "See the caveats in the documentation: https://pandas.pydata.org/pandas-docs/stable/user_guide/indexing.html#returning-a-view-versus-a-copy\n",
      "  data[new_variable] = np.log(data[variable])\n",
      "/Users/louisebonhomme/opt/anaconda3/lib/python3.9/site-packages/pandas/core/arraylike.py:397: RuntimeWarning: invalid value encountered in log\n",
      "  result = getattr(ufunc, method)(*inputs, **kwargs)\n",
      "/Users/louisebonhomme/Documents/GitHub/BDC/Helpers/preprocessing.py:21: SettingWithCopyWarning: \n",
      "A value is trying to be set on a copy of a slice from a DataFrame.\n",
      "Try using .loc[row_indexer,col_indexer] = value instead\n",
      "\n",
      "See the caveats in the documentation: https://pandas.pydata.org/pandas-docs/stable/user_guide/indexing.html#returning-a-view-versus-a-copy\n",
      "  data[new_variable] = np.log(data[variable])\n"
     ]
    }
   ],
   "source": [
    "log_var(df_appart, liste_vars = ['surface_terrain', 'surface_reelle_bati', 'nombre_pieces_principales', 'Prix_m2'])"
   ]
  },
  {
   "cell_type": "code",
   "execution_count": null,
   "id": "3252f914",
   "metadata": {},
   "outputs": [],
   "source": []
  }
 ],
 "metadata": {
  "kernelspec": {
   "display_name": "Python 3 (ipykernel)",
   "language": "python",
   "name": "python3"
  },
  "language_info": {
   "codemirror_mode": {
    "name": "ipython",
    "version": 3
   },
   "file_extension": ".py",
   "mimetype": "text/x-python",
   "name": "python",
   "nbconvert_exporter": "python",
   "pygments_lexer": "ipython3",
   "version": "3.9.12"
  }
 },
 "nbformat": 4,
 "nbformat_minor": 5
}
