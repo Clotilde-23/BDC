{
 "cells": [
  {
   "cell_type": "markdown",
   "id": "8efbedbd",
   "metadata": {},
   "source": [
    "## Loading the dataset needed"
   ]
  },
  {
   "cell_type": "code",
   "execution_count": null,
   "id": "8aaaf8ef",
   "metadata": {},
   "outputs": [],
   "source": [
    "import pandas as pd\n",
    "import numpy as np\n",
    "from pandas_profiling import ProfileReport\n",
    "\n",
    "import datetime, warnings, scipy \n",
    "import seaborn as sns\n",
    "\n",
    "import matplotlib as mpl\n",
    "import matplotlib.pyplot as plt\n",
    "import matplotlib.pyplot as plt\n",
    "from matplotlib.pyplot import figure\n",
    "import matplotlib.patches as patches\n",
    "from matplotlib.patches import ConnectionPatch\n",
    "from collections import OrderedDict\n",
    "from matplotlib.gridspec import GridSpec\n",
    "import plotly.graph_objects as go\n",
    "from plotly.subplots import make_subplots\n",
    "\n",
    "from mpl_toolkits.basemap import Basemap\n",
    "\n",
    "from math import dist\n",
    "\n",
    "import warnings\n",
    "warnings.filterwarnings(action='once')\n",
    "from geopandas import points_from_xy\n",
    "import geopandas as gdp"
   ]
  },
  {
   "cell_type": "code",
   "execution_count": null,
   "id": "4c8e3dc7",
   "metadata": {},
   "outputs": [],
   "source": [
    "#loading dvf data sets\n",
    "df17 = pd.read_csv('./datadvf2017.csv',low_memory=False)\n",
    "df18 = pd.read_csv('./datadvf2018.csv',low_memory=False)\n",
    "df19 = pd.read_csv('./datadvf2019.csv',low_memory=False)\n",
    "df20 = pd.read_csv('./datadvf2020.csv',low_memory=False)\n",
    "df21 = pd.read_csv('./datadvf2021.csv',low_memory=False)\n",
    "df22 = pd.read_csv('./datadvf2022.csv',low_memory=False)"
   ]
  },
  {
   "cell_type": "code",
   "execution_count": null,
   "id": "e6113d0c",
   "metadata": {},
   "outputs": [],
   "source": [
    "#loading IRIS datasets\n",
    "df_iris_2022 = gdp.read_file( \"./georef-france-iris-millesime.shp\")\n",
    "\n",
    "#loading logement_informations datasets\n",
    "logt_iris = pd.read_excel(\"./base-ic-logement-2018.xlsx\", header = 5)\n",
    "\n",
    "#loading metro_informations datasets\n",
    "metro_paris = pd.read_csv('./df_metro_paris_spatial.csv')\n",
    "metro_marseille = pd.read_csv('./metro_marseille_spatial.csv')\n",
    "metro_Lyon = pd.read_csv('./metro_Lyon_spatial.csv')\n",
    "metro_Toulouse = pd.read_csv('./metro_Toulouse_spatial.csv')\n",
    "\n",
    "#loading social_informations datasets\n",
    "revenues  = pd.read_excel(\"./Insee_revenu_iris_2019.xlsx\")\n",
    "ecoles    = pd.read_excel(\"./base-ecole-2019.xlsx\")\n",
    "activites = pd.read_excel(\"./activite-residents-2019.xlsx\")\n",
    "Logt_2019 = pd.read_csv('./base-ic-logement-2019.csv', sep =';' , low_memory=False)"
   ]
  },
  {
   "cell_type": "code",
   "execution_count": null,
   "id": "2ec02419",
   "metadata": {},
   "outputs": [],
   "source": [
    "%run '../Helpers/Data_Process.py'"
   ]
  },
  {
   "cell_type": "code",
   "execution_count": null,
   "id": "c62a8ad8",
   "metadata": {},
   "outputs": [],
   "source": [
    "%run '../Helpers/Data_Preperation.py'"
   ]
  },
  {
   "cell_type": "code",
   "execution_count": null,
   "id": "d79f587a",
   "metadata": {},
   "outputs": [],
   "source": [
    "%run '../Helpers/Data_Creation.py'"
   ]
  },
  {
   "cell_type": "markdown",
   "id": "cd8cecaf",
   "metadata": {},
   "source": [
    "## Cleaning of the Dataset\n",
    "\n",
    "In this part we create the whole dataset with the function Base_Creation. In this function we clean the dvf data of each year. then, we concat the five years."
   ]
  },
  {
   "cell_type": "code",
   "execution_count": null,
   "id": "347e5bd7",
   "metadata": {},
   "outputs": [],
   "source": [
    "df_cleaned_tot = Base_Creation(df17, df18, df19, df20, df21, df22)"
   ]
  },
  {
   "cell_type": "markdown",
   "id": "0cfe895b",
   "metadata": {},
   "source": [
    "## Creation of the dataset for each city"
   ]
  },
  {
   "cell_type": "markdown",
   "id": "2c991468",
   "metadata": {},
   "source": [
    "## Paris"
   ]
  },
  {
   "cell_type": "code",
   "execution_count": null,
   "id": "331d798d",
   "metadata": {},
   "outputs": [],
   "source": [
    "df_Paris_appart, df_Paris_Maison = Base_Ville(df_cleaned_tot, df_iris_2022, \n",
    "                                                      logt_iris, revenues, ecoles, \n",
    "                                                      Logt_2019, activites, metro_paris , 'Paris')"
   ]
  },
  {
   "cell_type": "code",
   "execution_count": null,
   "id": "241ddda2",
   "metadata": {},
   "outputs": [],
   "source": [
    "df_Paris_appart.to_csv('./df_Paris_appartement_vf.csv', index=False)\n",
    "df_Paris_Maison.to_csv('./df_Paris_Maison_vf.csv', index=False)"
   ]
  },
  {
   "cell_type": "markdown",
   "id": "fab6e1dd",
   "metadata": {},
   "source": [
    "## Lyon"
   ]
  },
  {
   "cell_type": "code",
   "execution_count": null,
   "id": "b877dfd0",
   "metadata": {},
   "outputs": [],
   "source": [
    "df_Lyon_appart, df_Lyon_Maison = Base_Ville(df_cleaned_tot, df_iris_2022, logt_iris, revenues, \n",
    "                                            ecoles, Logt_2019, activites, metro_Lyon , 'Lyon')"
   ]
  },
  {
   "cell_type": "code",
   "execution_count": null,
   "id": "678d40be",
   "metadata": {},
   "outputs": [],
   "source": [
    "df_Lyon_appart.to_csv('./df_Lyon_appartement_vf.csv', index=False)\n",
    "df_Lyon_Maison.to_csv('./df_Lyon_Maison_vf.csv', index=False)"
   ]
  },
  {
   "cell_type": "markdown",
   "id": "06d9ed98",
   "metadata": {},
   "source": [
    "## Toulouse"
   ]
  },
  {
   "cell_type": "code",
   "execution_count": null,
   "id": "305e9bbd",
   "metadata": {},
   "outputs": [],
   "source": [
    "df_Toulouse_appart, df_Toulouse_Maison = Base_Ville(df_cleaned_tot, df_iris_2022, \n",
    "                                                    logt_iris, revenues, ecoles, Logt_2019, activites,\n",
    "                                                     metro_Toulouse , 'Toulouse')"
   ]
  },
  {
   "cell_type": "code",
   "execution_count": null,
   "id": "3375dd5d",
   "metadata": {},
   "outputs": [],
   "source": [
    "df_Toulouse_appart.to_csv('./df_Toulouse_appartement_vf.csv', index=False)\n",
    "df_Toulouse_Maison.to_csv('./df_Toulouse_Maison_vf.csv', index=False)"
   ]
  },
  {
   "cell_type": "markdown",
   "id": "6af7e465",
   "metadata": {},
   "source": [
    "## Marseille"
   ]
  },
  {
   "cell_type": "code",
   "execution_count": null,
   "id": "2dc4ff9c",
   "metadata": {},
   "outputs": [],
   "source": [
    "df_Marseille_appart, df_Marseille_Maison = Base_Ville(df_cleaned_tot, df_iris_2022, \n",
    "                                                      logt_iris, revenues, ecoles, \n",
    "                                                      Logt_2019, activites, metro_marseille , 'Marseille')"
   ]
  },
  {
   "cell_type": "code",
   "execution_count": null,
   "id": "b82ebe79",
   "metadata": {},
   "outputs": [],
   "source": [
    "df_Marseille_appart.to_csv('./df_Marseille_appartement_vf.csv', index=False)\n",
    "df_Marseille_Maison.to_csv('./df_Marseille_Maison_vf.csv', index=False)"
   ]
  }
 ],
 "metadata": {
  "kernelspec": {
   "display_name": "Python 3 (ipykernel)",
   "language": "python",
   "name": "python3"
  },
  "language_info": {
   "codemirror_mode": {
    "name": "ipython",
    "version": 3
   },
   "file_extension": ".py",
   "mimetype": "text/x-python",
   "name": "python",
   "nbconvert_exporter": "python",
   "pygments_lexer": "ipython3",
   "version": "3.9.12"
  }
 },
 "nbformat": 4,
 "nbformat_minor": 5
}
